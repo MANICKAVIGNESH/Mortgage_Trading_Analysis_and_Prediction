{
  "nbformat": 4,
  "nbformat_minor": 0,
  "metadata": {
    "colab": {
      "provenance": [],
      "include_colab_link": true
    },
    "kernelspec": {
      "name": "python3",
      "display_name": "Python 3"
    },
    "language_info": {
      "name": "python"
    }
  },
  "cells": [
    {
      "cell_type": "markdown",
      "metadata": {
        "id": "view-in-github",
        "colab_type": "text"
      },
      "source": [
        "<a href=\"https://colab.research.google.com/github/MANICKAVIGNESH/Mortgage_Trading_Analysis_and_Prediction/blob/main/Copy_of_Multi_Model_Pipeline.ipynb\" target=\"_parent\"><img src=\"https://colab.research.google.com/assets/colab-badge.svg\" alt=\"Open In Colab\"/></a>"
      ]
    },
    {
      "cell_type": "markdown",
      "source": [
        "Building a machine learning pipeline that combines a binary classification model and a regression model involves several steps. Here's a clear breakdown of each phase, including code snippets for each step:\n",
        "\n",
        "### Phase 1: Data Preparation\n",
        "\n",
        "1. **Load and Clean Data**: Ensure your data is clean and ready for processing. This includes handling missing values, encoding categorical variables, and splitting data into features and target variables.\n",
        "2. **Split Data**: Split the data into training and testing sets.\n",
        "\n",
        "\n",
        "\n",
        "\n",
        "\n",
        "\n",
        "\n"
      ],
      "metadata": {
        "id": "-O84VjivaO1u"
      }
    },
    {
      "cell_type": "code",
      "source": [
        "import pandas as pd\n",
        "from sklearn.model_selection import train_test_split\n",
        "\n",
        "# Load data\n",
        "data = pd.read_csv('/content/drive/MyDrive/Company Project/Technocolab software Pvt Ltd/Main Project - Mortgage Trading Analysis and Prediction/CSV FILE/Final data/final_data_frame.csv')\n",
        "\n",
        "# Preprocess data (handle missing values, encode categorical variables)\n",
        "# Example: data = pd.get_dummies(data, drop_first=True)\n",
        "\n",
        "# Split data into features and target\n",
        "X = data[['monthly_income','OrigLoanTerm','OrigUPB']].values\n",
        "y_class = data['pre_payment_binary']\n",
        "y_reg = data['pre_payment']\n",
        "\n",
        "# Split into training and testing sets\n",
        "X_train, X_test, y_class_train, y_class_test, y_reg_train, y_reg_test = train_test_split(\n",
        "    X, y_class, y_reg, test_size=0.3, random_state=42\n",
        ")\n"
      ],
      "metadata": {
        "id": "xGwM7FLna87J",
        "colab": {
          "base_uri": "https://localhost:8080/"
        },
        "outputId": "c3c8cd6a-7c3f-4db4-a162-e7ac6618a1ce"
      },
      "execution_count": null,
      "outputs": [
        {
          "output_type": "stream",
          "name": "stderr",
          "text": [
            "<ipython-input-8-648c29238227>:5: DtypeWarning: Columns (18) have mixed types. Specify dtype option on import or set low_memory=False.\n",
            "  data = pd.read_csv('/content/drive/MyDrive/Company Project/Technocolab software Pvt Ltd/Main Project - Mortgage Trading Analysis and Prediction/CSV FILE/Final data/final_data_frame.csv')\n"
          ]
        }
      ]
    },
    {
      "cell_type": "code",
      "source": [
        "# Check the unique values in loan_purpose column\n",
        "print( data['monthly_income'].unique()) #'monthly_income','OrigLoanTerm','OrigUPB'\n",
        "\n",
        "# Check the unique values in loan_purpose column and their counts\n",
        "loan_purpose_counts = data['monthly_income'].value_counts()\n",
        "\n",
        "print(\"\\nCounts of each unique value:\")\n",
        "print(loan_purpose_counts)#'RemainingTermRatio','first_time_buyer','repay_range','Credit_range','LTV_range'"
      ],
      "metadata": {
        "colab": {
          "base_uri": "https://localhost:8080/"
        },
        "id": "cuJIHkSmK05-",
        "outputId": "53cd20eb-8294-4ed8-a494-09fa3c5fdc6c"
      },
      "execution_count": null,
      "outputs": [
        {
          "output_type": "stream",
          "name": "stdout",
          "text": [
            "[2810.5917518  4052.67144475 3613.10847522 ...  471.86249757  446.01376059\n",
            " 1711.5066229 ]\n",
            "\n",
            "Counts of each unique value:\n",
            "monthly_income\n",
            "0.000000       17796\n",
            "2627.715255      379\n",
            "1970.786441      376\n",
            "3284.644068      362\n",
            "1945.794290      257\n",
            "               ...  \n",
            "1107.638928        1\n",
            "4916.314306        1\n",
            "3825.456677        1\n",
            "5449.715109        1\n",
            "1711.506623        1\n",
            "Name: count, Length: 69407, dtype: int64\n"
          ]
        }
      ]
    },
    {
      "cell_type": "markdown",
      "source": [
        "### Phase 2: Classification Model\n",
        "\n",
        "1. **Train Classification Model**: Train a binary classification model on the training data.\n",
        "2. **Make Predictions**: Use the classification model to make predictions on the test data."
      ],
      "metadata": {
        "id": "FZdJAeQwachg"
      }
    },
    {
      "cell_type": "code",
      "source": [
        "from sklearn.ensemble import RandomForestClassifier\n",
        "\n",
        "# Initialize and train the classification model\n",
        "clf = RandomForestClassifier(random_state=42)\n",
        "clf.fit(X_train, y_class_train)\n",
        "\n",
        "# Make predictions\n",
        "y_class_pred = clf.predict(X_test)\n"
      ],
      "metadata": {
        "id": "67Wn_guObGYh"
      },
      "execution_count": null,
      "outputs": []
    },
    {
      "cell_type": "markdown",
      "source": [
        "### Phase 3: Regression Model\n",
        "\n",
        "1. **Filter Data Based on Classification**: Use the predictions from the classification model to filter data for the regression model.\n",
        "2. **Train Regression Model**: Train a regression model on the filtered data."
      ],
      "metadata": {
        "id": "mGXMzrGKaigo"
      }
    },
    {
      "cell_type": "code",
      "source": [
        "from sklearn.linear_model import LinearRegression\n",
        "\n",
        "# Filter training data based on classification predictions\n",
        "X_train_reg = X_train[y_class_train == 1]\n",
        "y_reg_train_filtered = y_reg_train[y_class_train == 1]\n",
        "\n",
        "# Filter test data based on classification predictions\n",
        "X_test_reg = X_test[y_class_pred == 1]\n",
        "y_reg_test_filtered = y_reg_test[y_class_pred == 1]\n",
        "\n",
        "# Initialize and train the regression model\n",
        "reg = LinearRegression()\n",
        "reg.fit(X_train_reg, y_reg_train_filtered)\n",
        "\n",
        "# Make predictions\n",
        "y_reg_pred = reg.predict(X_test_reg)\n"
      ],
      "metadata": {
        "id": "dhKrrFThbISp"
      },
      "execution_count": null,
      "outputs": []
    },
    {
      "cell_type": "markdown",
      "source": [
        "### Phase 4: Evaluation\n",
        "\n",
        "1. **Evaluate Classification Model**: Evaluate the performance of the classification model using metrics like accuracy, precision, recall, and F1-score.\n",
        "2. **Evaluate Regression Model**: Evaluate the performance of the regression model using metrics like Mean Absolute Error (MAE), Mean Squared Error (MSE), or R-squared.\n"
      ],
      "metadata": {
        "id": "l_KIPA0oauAQ"
      }
    },
    {
      "cell_type": "code",
      "source": [
        "from sklearn.metrics import accuracy_score, precision_score, recall_score, f1_score, classification_report\n",
        "from sklearn.metrics import mean_absolute_error, mean_squared_error, r2_score, mean_absolute_percentage_error, median_absolute_error\n",
        "\n",
        "# Evaluate classification model\n",
        "accuracy = accuracy_score(y_class_test, y_class_pred)\n",
        "precision = precision_score(y_class_test, y_class_pred)\n",
        "recall = recall_score(y_class_test, y_class_pred)\n",
        "f1 = f1_score(y_class_test, y_class_pred)\n",
        "class_report = classification_report(y_class_test, y_class_pred)\n",
        "\n",
        "print(f\"Classification Model - Accuracy: {accuracy}, Precision: {precision}, Recall: {recall}, F1-Score: {f1}\")\n",
        "print(\"\\nClassification Report:\\n\", class_report)\n",
        "\n",
        "# Evaluate regression model\n",
        "mae = mean_absolute_error(y_reg_test_filtered, y_reg_pred)\n",
        "mse = mean_squared_error(y_reg_test_filtered, y_reg_pred)\n",
        "r2 = r2_score(y_reg_test_filtered, y_reg_pred)\n",
        "mape = mean_absolute_percentage_error(y_reg_test_filtered, y_reg_pred)\n",
        "medae = median_absolute_error(y_reg_test_filtered, y_reg_pred)\n",
        "\n",
        "print(f\"Regression Model - MAE: {mae}, MSE: {mse}, R2: {r2}, MAPE: {mape}, Median AE: {medae}\")\n"
      ],
      "metadata": {
        "colab": {
          "base_uri": "https://localhost:8080/"
        },
        "id": "2Ua_I3D2_wuy",
        "outputId": "a490bd11-ef68-490a-f89d-b05fbb639eb6"
      },
      "execution_count": null,
      "outputs": [
        {
          "output_type": "stream",
          "name": "stdout",
          "text": [
            "Classification Model - Accuracy: 0.9809003156594538, Precision: 0.9802351876978742, Recall: 0.9819672873906937, F1-Score: 0.9811004730540277\n",
            "\n",
            "Classification Report:\n",
            "               precision    recall  f1-score   support\n",
            "\n",
            "           0       0.98      0.98      0.98     43294\n",
            "           1       0.98      0.98      0.98     44142\n",
            "\n",
            "    accuracy                           0.98     87436\n",
            "   macro avg       0.98      0.98      0.98     87436\n",
            "weighted avg       0.98      0.98      0.98     87436\n",
            "\n",
            "Regression Model - MAE: 3628.300525160988, MSE: 23876156.477705047, R2: 0.9751217019437116, MAPE: 0.19528331678794805, Median AE: 2654.983384201444\n"
          ]
        }
      ]
    },
    {
      "cell_type": "code",
      "source": [
        "'''from sklearn.metrics import accuracy_score, precision_score, recall_score, f1_score\n",
        "from sklearn.metrics import mean_absolute_error, mean_squared_error, r2_score\n",
        "\n",
        "# Evaluate classification model\n",
        "accuracy = accuracy_score(y_class_test, y_class_pred)\n",
        "precision = precision_score(y_class_test, y_class_pred)\n",
        "recall = recall_score(y_class_test, y_class_pred)\n",
        "f1 = f1_score(y_class_test, y_class_pred)\n",
        "\n",
        "print(f\"Classification Model - Accuracy: {accuracy}, Precision: {precision}, Recall: {recall}, F1-Score: {f1}\")\n",
        "\n",
        "# Evaluate regression model\n",
        "mae = mean_absolute_error(y_reg_test_filtered, y_reg_pred)\n",
        "mse = mean_squared_error(y_reg_test_filtered, y_reg_pred)\n",
        "r2 = r2_score(y_reg_test_filtered, y_reg_pred)\n",
        "\n",
        "print(f\"Regression Model - MAE: {mae}, MSE: {mse}, R2: {r2}\")\n",
        "'''"
      ],
      "metadata": {
        "id": "y8AsWXw-bJYx",
        "colab": {
          "base_uri": "https://localhost:8080/"
        },
        "outputId": "20fb1ddc-57c3-47c3-83af-3ef8b8df9c27"
      },
      "execution_count": null,
      "outputs": [
        {
          "output_type": "stream",
          "name": "stdout",
          "text": [
            "Classification Model - Accuracy: 0.9809003156594538, Precision: 0.9802351876978742, Recall: 0.9819672873906937, F1-Score: 0.9811004730540277\n",
            "Regression Model - MAE: 3628.300525160988, MSE: 23876156.477705047, R2: 0.9751217019437116\n"
          ]
        }
      ]
    },
    {
      "cell_type": "markdown",
      "source": [
        "\n",
        "### Phase 5: Full Pipeline\n",
        "\n",
        "Integrate the classification and regression models into a single pipeline using a custom pipeline object or using a library like `scikit-learn`'s `Pipeline`."
      ],
      "metadata": {
        "id": "0zQynaFCav5f"
      }
    },
    {
      "cell_type": "code",
      "source": [
        "from sklearn.pipeline import Pipeline, make_pipeline\n",
        "from sklearn.base import BaseEstimator, TransformerMixin\n",
        "import numpy as np\n",
        "from sklearn.ensemble import RandomForestClassifier\n",
        "from sklearn.linear_model import LinearRegression\n",
        "\n",
        "class CustomPipeline(BaseEstimator, TransformerMixin):\n",
        "    def __init__(self, clf, reg):\n",
        "        self.clf = clf\n",
        "        self.reg = reg\n",
        "\n",
        "    def fit(self, X, y_class, y_reg):\n",
        "        self.clf.fit(X, y_class)\n",
        "        X_filtered = X[y_class == 1]\n",
        "        y_reg_filtered = y_reg[y_class == 1]\n",
        "        self.reg.fit(X_filtered, y_reg_filtered)\n",
        "        return self\n",
        "\n",
        "    def predict(self, X):\n",
        "        y_class_pred = self.clf.predict(X)\n",
        "        X_filtered = X[y_class_pred == 1]\n",
        "        if X_filtered.shape[0] > 0:  # Ensure there are samples for regression prediction\n",
        "            y_reg_pred = self.reg.predict(X_filtered)\n",
        "        else:\n",
        "            y_reg_pred = []  # Return an empty list or handle it as needed\n",
        "        return y_class_pred, y_reg_pred\n",
        "\n",
        "'''\n",
        "Error Handling: It prevents potential errors when X_filtered is empty by adding a conditional check.\n",
        "Robustness: It ensures that the regression model is only called when there are samples to predict, which is particularly useful for handling edge cases.\n",
        "'''\n",
        "\n",
        "# Create and fit the custom pipeline\n",
        "pipeline = CustomPipeline(clf=RandomForestClassifier(random_state=42), reg=LinearRegression())\n",
        "pipeline.fit(X_train, y_class_train, y_reg_train)\n",
        "\n",
        "# Make predictions\n",
        "y_class_pred, y_reg_pred = pipeline.predict(X_test)\n"
      ],
      "metadata": {
        "id": "p02f_auMbLyR"
      },
      "execution_count": null,
      "outputs": []
    },
    {
      "cell_type": "markdown",
      "source": [
        "### Phase 6: Final Evaluation and Deployment\n",
        "\n",
        "1. **Evaluate the combined pipeline**: Evaluate the overall performance of your combined pipeline.\n",
        "2. **Deploy the model**: Save your trained models and deploy them using a web service, batch processing, or another suitable method.\n"
      ],
      "metadata": {
        "id": "OY3xCSlUaxsf"
      }
    },
    {
      "cell_type": "code",
      "source": [
        "import joblib\n",
        "\n",
        "# Save the pipeline\n",
        "joblib.dump(pipeline, 'combined_pipeline.pkl')\n",
        "\n",
        "# Load and use the pipeline for predictions\n",
        "loaded_pipeline = joblib.load('combined_pipeline.pkl')\n",
        "y_class_pred, y_reg_pred = loaded_pipeline.predict(X_test)\n",
        "\n",
        "# download file in local\n",
        "from google.colab import files\n",
        "files.download('combined_pipeline.pkl')\n"
      ],
      "metadata": {
        "id": "wSpB9wrMbNrn",
        "colab": {
          "base_uri": "https://localhost:8080/",
          "height": 17
        },
        "outputId": "5404de80-7648-484c-9ed7-bf06c747c393"
      },
      "execution_count": null,
      "outputs": [
        {
          "output_type": "display_data",
          "data": {
            "text/plain": [
              "<IPython.core.display.Javascript object>"
            ],
            "application/javascript": [
              "\n",
              "    async function download(id, filename, size) {\n",
              "      if (!google.colab.kernel.accessAllowed) {\n",
              "        return;\n",
              "      }\n",
              "      const div = document.createElement('div');\n",
              "      const label = document.createElement('label');\n",
              "      label.textContent = `Downloading \"${filename}\": `;\n",
              "      div.appendChild(label);\n",
              "      const progress = document.createElement('progress');\n",
              "      progress.max = size;\n",
              "      div.appendChild(progress);\n",
              "      document.body.appendChild(div);\n",
              "\n",
              "      const buffers = [];\n",
              "      let downloaded = 0;\n",
              "\n",
              "      const channel = await google.colab.kernel.comms.open(id);\n",
              "      // Send a message to notify the kernel that we're ready.\n",
              "      channel.send({})\n",
              "\n",
              "      for await (const message of channel.messages) {\n",
              "        // Send a message to notify the kernel that we're ready.\n",
              "        channel.send({})\n",
              "        if (message.buffers) {\n",
              "          for (const buffer of message.buffers) {\n",
              "            buffers.push(buffer);\n",
              "            downloaded += buffer.byteLength;\n",
              "            progress.value = downloaded;\n",
              "          }\n",
              "        }\n",
              "      }\n",
              "      const blob = new Blob(buffers, {type: 'application/binary'});\n",
              "      const a = document.createElement('a');\n",
              "      a.href = window.URL.createObjectURL(blob);\n",
              "      a.download = filename;\n",
              "      div.appendChild(a);\n",
              "      a.click();\n",
              "      div.remove();\n",
              "    }\n",
              "  "
            ]
          },
          "metadata": {}
        },
        {
          "output_type": "display_data",
          "data": {
            "text/plain": [
              "<IPython.core.display.Javascript object>"
            ],
            "application/javascript": [
              "download(\"download_e905b415-6f12-4836-8844-76594f9b19b3\", \"combined_pipeline.pkl\", 117654762)"
            ]
          },
          "metadata": {}
        }
      ]
    },
    {
      "cell_type": "markdown",
      "source": [
        "\n",
        "This script provides a comprehensive approach to building and evaluating a machine learning pipeline that combines binary classification and regression models. Adjust the preprocessing, model selection, and evaluation metrics as per your specific use case."
      ],
      "metadata": {
        "id": "n5PdBCaIbR_e"
      }
    },
    {
      "cell_type": "code",
      "source": [
        "from google.colab import drive\n",
        "drive.mount('/content/drive')"
      ],
      "metadata": {
        "colab": {
          "base_uri": "https://localhost:8080/"
        },
        "id": "JjyNZQmYCsKj",
        "outputId": "d0d25ee7-ddd9-42fa-a3e1-7b66318f0be5"
      },
      "execution_count": null,
      "outputs": [
        {
          "output_type": "stream",
          "name": "stdout",
          "text": [
            "Mounted at /content/drive\n"
          ]
        }
      ]
    },
    {
      "cell_type": "code",
      "source": [],
      "metadata": {
        "id": "TwLfDRMWO8C8"
      },
      "execution_count": null,
      "outputs": []
    }
  ]
}