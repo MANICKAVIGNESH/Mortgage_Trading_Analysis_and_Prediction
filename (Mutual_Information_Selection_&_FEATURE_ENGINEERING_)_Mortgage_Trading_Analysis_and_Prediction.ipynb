{
  "nbformat": 4,
  "nbformat_minor": 0,
  "metadata": {
    "colab": {
      "provenance": [],
      "mount_file_id": "1OUfJMOhxchvGGDkiIHeusj9DIsm16XT-",
      "authorship_tag": "ABX9TyOcHi5M7AoiNvoQaz920zEG",
      "include_colab_link": true
    },
    "kernelspec": {
      "name": "python3",
      "display_name": "Python 3"
    },
    "language_info": {
      "name": "python"
    }
  },
  "cells": [
    {
      "cell_type": "markdown",
      "metadata": {
        "id": "view-in-github",
        "colab_type": "text"
      },
      "source": [
        "<a href=\"https://colab.research.google.com/github/MANICKAVIGNESH/Mortgage_Trading_Analysis_and_Prediction/blob/main/(Mutual_Information_Selection_%26_FEATURE_ENGINEERING_)_Mortgage_Trading_Analysis_and_Prediction.ipynb\" target=\"_parent\"><img src=\"https://colab.research.google.com/assets/colab-badge.svg\" alt=\"Open In Colab\"/></a>"
      ]
    },
    {
      "cell_type": "code",
      "execution_count": null,
      "metadata": {
        "id": "F6MOW_NLcuwI"
      },
      "outputs": [],
      "source": [
        "import pandas as pd\n",
        "import numpy as np\n",
        "import matplotlib.pyplot as plt\n",
        "import seaborn as sns\n",
        "import plotly.express as px\n",
        "import plotly.graph_objects as go"
      ]
    },
    {
      "cell_type": "code",
      "source": [
        "df = pd.read_csv('/content/drive/MyDrive/Company Project/Technocolab software Pvt Ltd/Main Project - Mortgage Trading Analysis and Prediction/CSV FILE/LoanExport.csv')"
      ],
      "metadata": {
        "colab": {
          "base_uri": "https://localhost:8080/"
        },
        "id": "tjc2u06IdDPX",
        "outputId": "427a2c9a-6dd1-4a4d-a43a-91ce61dc3078"
      },
      "execution_count": null,
      "outputs": [
        {
          "output_type": "stream",
          "name": "stderr",
          "text": [
            "<ipython-input-136-76417fd182c8>:1: DtypeWarning:\n",
            "\n",
            "Columns (18) have mixed types. Specify dtype option on import or set low_memory=False.\n",
            "\n"
          ]
        }
      ]
    },
    {
      "cell_type": "code",
      "source": [
        "df.info()"
      ],
      "metadata": {
        "colab": {
          "base_uri": "https://localhost:8080/"
        },
        "id": "RJNMwg-YdGYA",
        "outputId": "7b215db7-881e-499f-b813-60312b1cd83d"
      },
      "execution_count": null,
      "outputs": [
        {
          "output_type": "stream",
          "name": "stdout",
          "text": [
            "<class 'pandas.core.frame.DataFrame'>\n",
            "RangeIndex: 291451 entries, 0 to 291450\n",
            "Data columns (total 61 columns):\n",
            " #   Column                    Non-Null Count   Dtype  \n",
            "---  ------                    --------------   -----  \n",
            " 0   CreditScore               291451 non-null  int64  \n",
            " 1   FirstPaymentDate          291451 non-null  int64  \n",
            " 2   FirstTimeHomebuyer        291451 non-null  object \n",
            " 3   MaturityDate              291451 non-null  int64  \n",
            " 4   MSA                       291451 non-null  object \n",
            " 5   MIP                       291451 non-null  int64  \n",
            " 6   Units                     291451 non-null  int64  \n",
            " 7   Occupancy                 291451 non-null  object \n",
            " 8   OCLTV                     291451 non-null  int64  \n",
            " 9   DTI                       291451 non-null  int64  \n",
            " 10  OrigUPB                   291451 non-null  int64  \n",
            " 11  LTV                       291451 non-null  int64  \n",
            " 12  OrigInterestRate          291451 non-null  float64\n",
            " 13  Channel                   291451 non-null  object \n",
            " 14  PPM                       291451 non-null  object \n",
            " 15  ProductType               291451 non-null  object \n",
            " 16  PropertyState             291451 non-null  object \n",
            " 17  PropertyType              291451 non-null  object \n",
            " 18  PostalCode                291451 non-null  object \n",
            " 19  LoanSeqNum                291451 non-null  object \n",
            " 20  LoanPurpose               291451 non-null  object \n",
            " 21  OrigLoanTerm              291451 non-null  int64  \n",
            " 22  NumBorrowers              291451 non-null  object \n",
            " 23  SellerName                266457 non-null  object \n",
            " 24  ServicerName              291451 non-null  object \n",
            " 25  EverDelinquent            291451 non-null  int64  \n",
            " 26  MonthsDelinquent          291451 non-null  int64  \n",
            " 27  MonthsInRepayment         291451 non-null  int64  \n",
            " 28  Credit_range              291451 non-null  int64  \n",
            " 29  LTV_range                 291451 non-null  int64  \n",
            " 30  repay_range               291451 non-null  int64  \n",
            " 31  loanid                    291451 non-null  int64  \n",
            " 32  first_time_buyer          291451 non-null  int64  \n",
            " 33  default                   291451 non-null  int64  \n",
            " 34  RemainingTermRatio        291451 non-null  float64\n",
            " 35  LTV_InterestRate          291451 non-null  float64\n",
            " 36  points_and_fees           291451 non-null  float64\n",
            " 37  target_profit             291451 non-null  float64\n",
            " 38  OrigInterestRate_Rounded  291451 non-null  int64  \n",
            " 39  LoanPurpose_P             291451 non-null  bool   \n",
            " 40  LoanPurpose_N             291451 non-null  bool   \n",
            " 41  LoanPurpose_C             291451 non-null  bool   \n",
            " 42  PPM_N                     291451 non-null  bool   \n",
            " 43  PPM_X                     291451 non-null  bool   \n",
            " 44  PPM_Y                     291451 non-null  bool   \n",
            " 45  Channel_T                 291451 non-null  bool   \n",
            " 46  Channel_R                 291451 non-null  bool   \n",
            " 47  Channel_C                 291451 non-null  bool   \n",
            " 48  Channel_B                 291451 non-null  bool   \n",
            " 49  repay_range_1             291451 non-null  bool   \n",
            " 50  repay_range_2             291451 non-null  bool   \n",
            " 51  repay_range_0             291451 non-null  bool   \n",
            " 52  repay_range_3             291451 non-null  bool   \n",
            " 53  repay_range_4             291451 non-null  bool   \n",
            " 54  LTV_range_2               291451 non-null  bool   \n",
            " 55  LTV_range_1               291451 non-null  bool   \n",
            " 56  LTV_range_0               291451 non-null  bool   \n",
            " 57  LTV_range_3               291451 non-null  bool   \n",
            " 58  Credit_range_1            291451 non-null  bool   \n",
            " 59  Credit_range_2            291451 non-null  bool   \n",
            " 60  Credit_range_3            291451 non-null  bool   \n",
            "dtypes: bool(22), float64(5), int64(20), object(14)\n",
            "memory usage: 92.8+ MB\n"
          ]
        }
      ]
    },
    {
      "cell_type": "code",
      "source": [
        "# Identify columns that start with 'ServicerName_'\n",
        "servicer_name_columns = [col for col in df.columns if col.startswith('ServicerName_')]\n",
        "\n",
        "# Combine the lists\n",
        "required_columns = servicer_name_columns\n",
        "\n",
        "# Print the required columns\n",
        "print(required_columns)"
      ],
      "metadata": {
        "colab": {
          "base_uri": "https://localhost:8080/"
        },
        "id": "enhdHuSfMKRT",
        "outputId": "ed39d092-819a-4bdd-a923-7b02ecc9cb66"
      },
      "execution_count": null,
      "outputs": [
        {
          "output_type": "stream",
          "name": "stdout",
          "text": [
            "['ServicerName_ABNAMROMTGEGROUPINC', 'ServicerName_BAMORTGAGELLC      ', 'ServicerName_BANKOFAMERICANA    ', 'ServicerName_CHASEHOMEFINANCELLC ', 'ServicerName_CHASEMANHATTANMTGECO', 'ServicerName_CHASEMTGECO         ', 'ServicerName_CITIMORTGAGEINC    ', 'ServicerName_COUNTRYWIDE         ', 'ServicerName_FIFTHTHIRDBANK      ', 'ServicerName_FTMTGESERVICESINC  ', 'ServicerName_GMACMTGECORP        ', 'ServicerName_HOMESIDELENDINGINC ', 'ServicerName_JPMORGANCHASEBANKNA', 'ServicerName_NATLCITYMTGECO      ', 'ServicerName_Other servicers     ', 'ServicerName_PRINCIPALRESIDENTIAL', 'ServicerName_SUNTRUSTMORTGAGEINC', 'ServicerName_WASHINGTONMUTUALBANK', 'ServicerName_WELLSFARGOBANKNA   ', 'ServicerName_WELLSFARGOHOMEMORTGA']\n"
          ]
        }
      ]
    },
    {
      "cell_type": "code",
      "source": [
        "# Check the unique values in loan_purpose column\n",
        "print(df['ServicerName'].unique())\n",
        "\n",
        "# Check the unique values in loan_purpose column and their counts\n",
        "loan_purpose_counts = df['ServicerName'].value_counts()\n",
        "\n",
        "print(\"\\nCounts of each unique value:\")\n",
        "print(loan_purpose_counts)#'RemainingTermRatio','first_time_buyer','repay_range','Credit_range','LTV_range'"
      ],
      "metadata": {
        "colab": {
          "base_uri": "https://localhost:8080/"
        },
        "id": "QB6RBmAHdyDo",
        "outputId": "21a97f54-5534-4870-c60f-0e9015c8d2bf"
      },
      "execution_count": null,
      "outputs": [
        {
          "output_type": "stream",
          "name": "stdout",
          "text": [
            "['WASHINGTONMUTUALBANK' 'CHASEHOMEFINANCELLC ' 'GMACMTGECORP        '\n",
            " 'Other servicers     ' 'WELLSFARGOBANKNA   ' 'ABNAMROMTGEGROUPINC'\n",
            " 'BANKOFAMERICANA    ' 'CHASEMANHATTANMTGECO' 'HOMESIDELENDINGINC '\n",
            " 'CHASEMTGECO         ' 'WELLSFARGOHOMEMORTGA' 'PRINCIPALRESIDENTIAL'\n",
            " 'CITIMORTGAGEINC    ' 'JPMORGANCHASEBANKNA' 'BAMORTGAGELLC      '\n",
            " 'NATLCITYMTGECO      ' 'FTMTGESERVICESINC  ' 'SUNTRUSTMORTGAGEINC'\n",
            " 'COUNTRYWIDE         ' 'FIFTHTHIRDBANK      ']\n",
            "\n",
            "Counts of each unique value:\n",
            "ServicerName\n",
            "Other servicers         64043\n",
            "COUNTRYWIDE             31142\n",
            "BANKOFAMERICANA         29481\n",
            "WASHINGTONMUTUALBANK    22626\n",
            "CHASEMANHATTANMTGECO    14791\n",
            "ABNAMROMTGEGROUPINC     14369\n",
            "WELLSFARGOHOMEMORTGA    13960\n",
            "GMACMTGECORP            11560\n",
            "BAMORTGAGELLC           11559\n",
            "CHASEMTGECO             10109\n",
            "NATLCITYMTGECO           9940\n",
            "WELLSFARGOBANKNA         9460\n",
            "JPMORGANCHASEBANKNA      7723\n",
            "FTMTGESERVICESINC        7126\n",
            "SUNTRUSTMORTGAGEINC      6680\n",
            "CITIMORTGAGEINC          6529\n",
            "PRINCIPALRESIDENTIAL     6335\n",
            "CHASEHOMEFINANCELLC      5399\n",
            "HOMESIDELENDINGINC       4508\n",
            "FIFTHTHIRDBANK           4111\n",
            "Name: count, dtype: int64\n"
          ]
        }
      ]
    },
    {
      "cell_type": "code",
      "source": [
        "# Function to replace CreditScore values\n",
        "def map_credit_score(score):\n",
        "    if score <= 620:\n",
        "        return 1\n",
        "    elif 620 < score <= 700:\n",
        "        return 2\n",
        "    elif 700 < score <= 750:\n",
        "        return 3\n",
        "    elif 750 < score <= 900:\n",
        "        return 3\n",
        "    else:\n",
        "        return None  # or handle the case if score is outside 0-900 range\n",
        "\n",
        "# Apply the function to the CreditScore column and store in a new column Credit_range\n",
        "df['Credit_range'] = df['CreditScore'].apply(map_credit_score)"
      ],
      "metadata": {
        "id": "VF0Yem-cE2cI"
      },
      "execution_count": null,
      "outputs": []
    },
    {
      "cell_type": "code",
      "source": [
        "# Function to replace CreditScore values\n",
        "def map_credit_score(score):\n",
        "    if score <= 25:\n",
        "        return 0\n",
        "    elif 25 < score <= 50:\n",
        "        return 1\n",
        "    elif 50 < score <= 100:\n",
        "        return 2\n",
        "    else:\n",
        "        return 3  # or handle the case if score is outside 0-900 range\n",
        "\n",
        "# Apply the function to the CreditScore column and store in a new column Credit_range\n",
        "df['LTV_range'] = df['LTV'].apply(map_credit_score)"
      ],
      "metadata": {
        "id": "hKguXMnie245"
      },
      "execution_count": null,
      "outputs": []
    },
    {
      "cell_type": "code",
      "source": [
        "# Function to replace CreditScore values\n",
        "def map_credit_score(score):\n",
        "    if score <= 48:\n",
        "        return 0\n",
        "    elif 48 < score <= 96:\n",
        "        return 1\n",
        "    elif 96 < score <= 144:\n",
        "        return 2\n",
        "    elif 144 < score <= 192:\n",
        "        return 3\n",
        "    elif 192 < score <= 240:\n",
        "        return 4\n",
        "    else:\n",
        "        return 5  # or handle the case if score is outside 0-900 range\n",
        "\n",
        "# Apply the function to the CreditScore column and store in a new column Credit_range\n",
        "df['repay_range'] = df['MonthsInRepayment'].apply(map_credit_score)"
      ],
      "metadata": {
        "id": "ivB-ynsofmAG"
      },
      "execution_count": null,
      "outputs": []
    },
    {
      "cell_type": "code",
      "source": [
        "# Function to convert LoanSeqNum string to integer\n",
        "def convert_loanseqnum_to_int(loan_seq_num):\n",
        "    int_value = [char for char in loan_seq_num if char.isdigit()]\n",
        "    str_int = ''.join(int_value)\n",
        "    return int(str_int)\n",
        "\n",
        "# Apply the function to the LoanSeqNum column and create a new column loanid\n",
        "df['loanid'] = df['LoanSeqNum'].apply(convert_loanseqnum_to_int)"
      ],
      "metadata": {
        "id": "27eRx5YHGfXu"
      },
      "execution_count": null,
      "outputs": []
    },
    {
      "cell_type": "code",
      "source": [
        "# Creating a new column 'first_time_buyer' with replaced values\n",
        "df['first_time_buyer'] = df['FirstTimeHomebuyer'].replace({'N': 0, 'Y': 1, 'X': 1}).astype(int)\n",
        "\n",
        "# Create the default column\n",
        "df['default'] = df['EverDelinquent'].apply(lambda x: 0 if x == 0 else 1)\n",
        "\n",
        "df['RemainingTermRatio'] = df['MonthsInRepayment'] / df['OrigLoanTerm']\n",
        "\n",
        "df['LTV_InterestRate'] = df['LTV'] * df['OrigInterestRate']\n",
        "\n",
        "# Assume points_and_fees is 1% of the OrigUPB for simplicity\n",
        "df['points_and_fees'] = df['OrigUPB'] * 0.0001\n",
        "\n",
        "# For simplicity, let's assume target profit is calculated as 5% of OrigUPB minus points_and_fees\n",
        "df['target_profit'] = (df['OrigUPB'] * 0.0000005) - df['points_and_fees']\n",
        "\n",
        "# Create a new column with rounded values\n",
        "df['OrigInterestRate_Rounded'] = df['OrigInterestRate'].round().astype(int)\n",
        "'''\n",
        "df['LoanPurpose'] = df['LoanPurpose'].map({'P': 1, 'N': 2, 'C': 3}) #['N' 'X' 'Y']\n",
        "df['PPM'] = df['PPM'].map({'N': 4, 'X': 5, 'Y': 6}) #['N' 'X' 'Y']\n",
        "df['Channel'] = df['Channel'].map({'T': 7, 'R': 8, 'C': 9, 'B':10}) #['T' 'R' 'C' 'B']\n",
        "'''"
      ],
      "metadata": {
        "id": "GxV5YRzHO_Ef",
        "colab": {
          "base_uri": "https://localhost:8080/",
          "height": 54
        },
        "outputId": "1d440290-a231-4144-a9d1-cd22312a96d8"
      },
      "execution_count": null,
      "outputs": [
        {
          "output_type": "execute_result",
          "data": {
            "text/plain": [
              "\"\\ndf['LoanPurpose'] = df['LoanPurpose'].map({'P': 1, 'N': 2, 'C': 3}) #['N' 'X' 'Y']\\ndf['PPM'] = df['PPM'].map({'N': 4, 'X': 5, 'Y': 6}) #['N' 'X' 'Y']\\ndf['Channel'] = df['Channel'].map({'T': 7, 'R': 8, 'C': 9, 'B':10}) #['T' 'R' 'C' 'B']\\n\""
            ],
            "application/vnd.google.colaboratory.intrinsic+json": {
              "type": "string"
            }
          },
          "metadata": {},
          "execution_count": 141
        }
      ]
    },
    {
      "cell_type": "code",
      "source": [
        "import pandas as pd\n",
        "\n",
        "# Assuming df is your existing DataFrame\n",
        "\n",
        "# List of columns to be one-hot encoded\n",
        "columns_to_encode = ['LoanPurpose', 'PPM', 'Channel','repay_range','LTV_range','Credit_range','Occupancy']\n",
        "\n",
        "# Define all possible categories for each column\n",
        "loan_purpose_categories = ['P', 'N', 'C']\n",
        "ppm_categories = ['N', 'X', 'Y']\n",
        "channel_categories = ['T', 'R', 'C', 'B']\n",
        "repay_range_categories = [1, 2, 0, 3, 4]\n",
        "LTV_range_categories = [2, 1, 0, 3]\n",
        "Credit_range_categories = [1, 2, 3]\n",
        "Occupancy_categories = ['O', 'I', 'S']\n",
        "\n",
        "# Create a dictionary with column names and their possible categories\n",
        "categories = {\n",
        "    'LoanPurpose': loan_purpose_categories,\n",
        "    'PPM': ppm_categories,\n",
        "    'Channel': channel_categories,\n",
        "    'repay_range': repay_range_categories,\n",
        "    'LTV_range': LTV_range_categories,\n",
        "    'Credit_range': Credit_range_categories,\n",
        "    'Occupancy': Occupancy_categories\n",
        "}\n",
        "\n",
        "# Perform one-hot encoding for each column, ensuring all categories are represented\n",
        "encoded_dfs = []\n",
        "for col, cats in categories.items():\n",
        "    encoded_df = pd.get_dummies(df[col], prefix=col).reindex(columns=[f\"{col}_{cat}\" for cat in cats], fill_value=0)\n",
        "    encoded_dfs.append(encoded_df)\n",
        "\n",
        "# Concatenate the encoded columns with the original DataFrame\n",
        "df = pd.concat([df] + encoded_dfs, axis=1)\n",
        "\n",
        "# Display the first few rows of the updated DataFrame\n",
        "print(df.head())\n"
      ],
      "metadata": {
        "colab": {
          "base_uri": "https://localhost:8080/"
        },
        "id": "kF1iDLwV_Pn9",
        "outputId": "a9ff9627-8364-4c99-ee17-824d377b9bce"
      },
      "execution_count": null,
      "outputs": [
        {
          "output_type": "stream",
          "name": "stdout",
          "text": [
            "   CreditScore  FirstPaymentDate FirstTimeHomebuyer  MaturityDate    MSA  MIP  \\\n",
            "0            0            199902                  N        202901  16974   25   \n",
            "1            0            199902                  N        202901  19740    0   \n",
            "2            0            199902                  N        202901  29940    0   \n",
            "3            0            199902                  N        202901  31084    0   \n",
            "4            0            199902                  N        202901  35644    0   \n",
            "\n",
            "   Units Occupancy  OCLTV  DTI  ...  ServicerName_WELLSFARGOHOMEMORTGA  \\\n",
            "0      1         O     89   27  ...                              False   \n",
            "1      1         O     73   17  ...                              False   \n",
            "2      1         O     75   16  ...                              False   \n",
            "3      1         O     76   14  ...                              False   \n",
            "4      1         O     78   18  ...                              False   \n",
            "\n",
            "   ServicerName_PRINCIPALRESIDENTIAL  ServicerName_CITIMORTGAGEINC      \\\n",
            "0                              False                             False   \n",
            "1                              False                             False   \n",
            "2                              False                             False   \n",
            "3                              False                             False   \n",
            "4                              False                             False   \n",
            "\n",
            "  ServicerName_JPMORGANCHASEBANKNA ServicerName_BAMORTGAGELLC        \\\n",
            "0                            False                            False   \n",
            "1                            False                            False   \n",
            "2                            False                            False   \n",
            "3                            False                            False   \n",
            "4                            False                            False   \n",
            "\n",
            "  ServicerName_NATLCITYMTGECO       ServicerName_FTMTGESERVICESINC    \\\n",
            "0                             False                            False   \n",
            "1                             False                            False   \n",
            "2                             False                            False   \n",
            "3                             False                            False   \n",
            "4                             False                            False   \n",
            "\n",
            "  ServicerName_SUNTRUSTMORTGAGEINC ServicerName_COUNTRYWIDE           \\\n",
            "0                            False                             False   \n",
            "1                            False                             False   \n",
            "2                            False                             False   \n",
            "3                            False                             False   \n",
            "4                            False                             False   \n",
            "\n",
            "  ServicerName_FIFTHTHIRDBANK        \n",
            "0                             False  \n",
            "1                             False  \n",
            "2                             False  \n",
            "3                             False  \n",
            "4                             False  \n",
            "\n",
            "[5 rows x 84 columns]\n"
          ]
        }
      ]
    },
    {
      "cell_type": "code",
      "source": [
        "# Create a new column with rounded values\n",
        "df['OrigInterestRate_Rounded'] = df['OrigInterestRate'].round().astype(int)"
      ],
      "metadata": {
        "id": "PpkPUtpsgoT6"
      },
      "execution_count": null,
      "outputs": []
    },
    {
      "cell_type": "code",
      "source": [
        "# Function to replace CreditScore values\n",
        "def map_credit_score(score):\n",
        "    if score == 4 or score == 12 or score == 11 or score == 10 or score == 5 or score == 9 :\n",
        "        return 1\n",
        "    elif score == 8 or score == 6:\n",
        "        return 1\n",
        "    else:\n",
        "        return 0  # or handle the case if score is outside 0-900 range\n",
        "\n",
        "# Apply the function to the CreditScore column and store in a new column Credit_range\n",
        "df['OrigInterestRate_binary'] = df['OrigInterestRate_Rounded'].apply(map_credit_score)"
      ],
      "metadata": {
        "id": "vlIhFmjshFu1"
      },
      "execution_count": null,
      "outputs": []
    },
    {
      "cell_type": "code",
      "source": [
        "import pandas as pd\n",
        "import plotly.express as px\n",
        "import plotly.graph_objects as go\n",
        "import numpy as np\n",
        "\n",
        "# Assuming df is your DataFrame\n",
        "# Load your dataset (example)\n",
        "# df = pd.read_csv('your_dataset.csv')\n",
        "\n",
        "# Select only numerical columns\n",
        "numerical_df = df.select_dtypes(include=['float64', 'int64'])\n",
        "\n",
        "# Calculate the correlation matrix for numerical columns\n",
        "corr_matrix = numerical_df.corr()\n",
        "\n",
        "# Print the column names used in the visualization\n",
        "print(\"Columns used in the correlation heatmap visualization:\")\n",
        "print(corr_matrix.columns.tolist())\n",
        "\n",
        "# Create the heatmap\n",
        "fig = go.Figure(data=go.Heatmap(\n",
        "    z=corr_matrix.values,\n",
        "    x=corr_matrix.columns,\n",
        "    y=corr_matrix.columns,\n",
        "    colorscale='Viridis',\n",
        "    text=np.round(corr_matrix.values, 2),  # Round correlation values for display\n",
        "    hoverinfo='text',\n",
        "    showscale=True))\n",
        "\n",
        "# Update layout to include annotations\n",
        "fig.update_traces(texttemplate='%{text}', textfont_size=12)\n",
        "\n",
        "# Customize layout\n",
        "fig.update_layout(title='Correlation Heatmap of Numerical Features',\n",
        "                  xaxis_nticks=36)\n",
        "\n",
        "# Show the heatmap\n",
        "fig.show()\n"
      ],
      "metadata": {
        "colab": {
          "base_uri": "https://localhost:8080/",
          "height": 598
        },
        "id": "CnC7TwO7li3j",
        "outputId": "eeadd6d6-fbac-4d2d-f867-f6bc6405bd68"
      },
      "execution_count": null,
      "outputs": [
        {
          "output_type": "stream",
          "name": "stdout",
          "text": [
            "Columns used in the correlation heatmap visualization:\n",
            "['CreditScore', 'FirstPaymentDate', 'MaturityDate', 'MIP', 'Units', 'OCLTV', 'DTI', 'OrigUPB', 'LTV', 'OrigInterestRate', 'OrigLoanTerm', 'EverDelinquent', 'MonthsDelinquent', 'MonthsInRepayment', 'Credit_range', 'LTV_range', 'repay_range', 'loanid', 'first_time_buyer', 'default', 'RemainingTermRatio', 'LTV_InterestRate', 'points_and_fees', 'target_profit', 'OrigInterestRate_Rounded', 'OrigInterestRate_binary']\n"
          ]
        },
        {
          "output_type": "display_data",
          "data": {
            "text/html": [
              "<html>\n",
              "<head><meta charset=\"utf-8\" /></head>\n",
              "<body>\n",
              "    <div>            <script src=\"https://cdnjs.cloudflare.com/ajax/libs/mathjax/2.7.5/MathJax.js?config=TeX-AMS-MML_SVG\"></script><script type=\"text/javascript\">if (window.MathJax && window.MathJax.Hub && window.MathJax.Hub.Config) {window.MathJax.Hub.Config({SVG: {font: \"STIX-Web\"}});}</script>                <script type=\"text/javascript\">window.PlotlyConfig = {MathJaxConfig: 'local'};</script>\n",
              "        <script charset=\"utf-8\" src=\"https://cdn.plot.ly/plotly-2.24.1.min.js\"></script>                <div id=\"999ba589-cc5a-4068-b067-a8d1b0624f9f\" class=\"plotly-graph-div\" style=\"height:525px; width:100%;\"></div>            <script type=\"text/javascript\">                                    window.PLOTLYENV=window.PLOTLYENV || {};                                    if (document.getElementById(\"999ba589-cc5a-4068-b067-a8d1b0624f9f\")) {                    Plotly.newPlot(                        \"999ba589-cc5a-4068-b067-a8d1b0624f9f\",                        [{\"colorscale\":[[0.0,\"#440154\"],[0.1111111111111111,\"#482878\"],[0.2222222222222222,\"#3e4989\"],[0.3333333333333333,\"#31688e\"],[0.4444444444444444,\"#26828e\"],[0.5555555555555556,\"#1f9e89\"],[0.6666666666666666,\"#35b779\"],[0.7777777777777778,\"#6ece58\"],[0.8888888888888888,\"#b5de2b\"],[1.0,\"#fde725\"]],\"hoverinfo\":\"text\",\"showscale\":true,\"text\":[[1.0,0.01,0.0,-0.16,0.0,-0.19,-0.1,0.0,-0.19,-0.12,-0.01,-0.21,-0.15,-0.01,0.76,-0.12,-0.01,0.01,-0.02,-0.21,-0.01,-0.21,0.0,-0.0,-0.1,0.0],[0.01,1.0,0.14,-0.02,-0.0,-0.03,-0.0,0.03,-0.03,-0.01,-0.61,-0.01,-0.0,-0.03,0.01,-0.02,-0.02,0.04,-0.02,-0.01,-0.02,-0.02,0.03,-0.03,-0.01,0.06],[0.0,0.14,1.0,-0.0,0.0,-0.0,0.04,0.02,-0.0,0.0,0.68,0.0,0.01,-0.0,0.0,-0.01,-0.0,0.01,-0.01,0.0,-0.01,-0.0,0.02,-0.02,0.01,0.01],[-0.16,-0.02,-0.0,1.0,-0.04,0.69,0.11,0.01,0.7,0.12,0.01,0.06,0.05,-0.09,-0.17,0.2,-0.09,-0.07,0.01,0.06,-0.09,0.69,0.01,-0.01,0.11,0.0],[0.0,-0.0,0.0,-0.04,1.0,-0.05,0.01,0.04,-0.05,0.07,0.01,0.01,-0.0,0.03,0.01,-0.01,0.03,0.01,0.01,0.01,0.03,-0.03,0.04,-0.04,0.05,0.03],[-0.19,-0.03,-0.0,0.69,-0.05,1.0,0.11,0.11,1.0,0.1,0.02,0.07,0.06,-0.09,-0.19,0.69,-0.09,-0.02,0.03,0.07,-0.09,0.97,0.11,-0.11,0.09,-0.01],[-0.1,-0.0,0.04,0.11,0.01,0.11,1.0,0.06,0.11,0.11,0.03,0.06,0.04,-0.01,-0.1,0.06,-0.01,-0.12,-0.15,0.06,-0.01,0.13,0.06,-0.06,0.08,-0.03],[0.0,0.03,0.02,0.01,0.04,0.11,0.06,1.0,0.11,-0.13,-0.01,-0.07,-0.07,-0.21,0.01,0.13,-0.21,0.03,-0.04,-0.07,-0.21,0.07,1.0,-1.0,-0.1,0.0],[-0.19,-0.03,-0.0,0.7,-0.05,1.0,0.11,0.11,1.0,0.1,0.02,0.07,0.06,-0.09,-0.19,0.69,-0.09,-0.02,0.03,0.07,-0.09,0.97,0.11,-0.11,0.09,-0.01],[-0.12,-0.01,0.0,0.12,0.07,0.1,0.11,-0.13,0.1,1.0,0.01,0.06,0.05,-0.12,-0.13,0.03,-0.12,-0.08,-0.01,0.06,-0.12,0.33,-0.13,0.13,0.8,-0.02],[-0.01,-0.61,0.68,0.01,0.01,0.02,0.03,-0.01,0.02,0.01,1.0,0.01,0.01,0.02,-0.0,0.01,0.01,-0.02,0.01,0.01,0.01,0.02,-0.01,0.01,0.02,-0.04],[-0.21,-0.01,0.0,0.06,0.01,0.07,0.06,-0.07,0.07,0.06,0.01,1.0,0.42,0.23,-0.24,0.04,0.22,0.0,0.01,1.0,0.23,0.08,-0.07,0.07,0.05,0.01],[-0.15,-0.0,0.01,0.05,-0.0,0.06,0.04,-0.07,0.06,0.05,0.01,0.42,1.0,0.31,-0.18,0.03,0.29,-0.01,0.01,0.42,0.31,0.07,-0.07,0.07,0.04,0.01],[-0.01,-0.03,-0.0,-0.09,0.03,-0.09,-0.01,-0.21,-0.09,-0.12,0.02,0.23,0.31,1.0,-0.01,-0.05,0.95,-0.06,0.01,0.23,1.0,-0.12,-0.21,0.21,-0.1,0.04],[0.76,0.01,0.0,-0.17,0.01,-0.19,-0.1,0.01,-0.19,-0.13,-0.0,-0.24,-0.18,-0.01,1.0,-0.11,-0.02,0.01,-0.02,-0.24,-0.01,-0.21,0.01,-0.01,-0.11,0.0],[-0.12,-0.02,-0.01,0.2,-0.01,0.69,0.06,0.13,0.69,0.03,0.01,0.04,0.03,-0.05,-0.11,1.0,-0.05,0.01,0.03,0.04,-0.05,0.66,0.13,-0.13,0.03,-0.01],[-0.01,-0.02,-0.0,-0.09,0.03,-0.09,-0.01,-0.21,-0.09,-0.12,0.01,0.22,0.29,0.95,-0.02,-0.05,1.0,-0.05,0.01,0.22,0.95,-0.12,-0.21,0.21,-0.1,0.05],[0.01,0.04,0.01,-0.07,0.01,-0.02,-0.12,0.03,-0.02,-0.08,-0.02,0.0,-0.01,-0.06,0.01,0.01,-0.05,1.0,0.02,0.0,-0.06,-0.04,0.03,-0.03,-0.05,0.04],[-0.02,-0.02,-0.01,0.01,0.01,0.03,-0.15,-0.04,0.03,-0.01,0.01,0.01,0.01,0.01,-0.02,0.03,0.01,0.02,1.0,0.01,0.01,0.02,-0.04,0.04,-0.02,0.01],[-0.21,-0.01,0.0,0.06,0.01,0.07,0.06,-0.07,0.07,0.06,0.01,1.0,0.42,0.23,-0.24,0.04,0.22,0.0,0.01,1.0,0.23,0.08,-0.07,0.07,0.05,0.01],[-0.01,-0.02,-0.01,-0.09,0.03,-0.09,-0.01,-0.21,-0.09,-0.12,0.01,0.23,0.31,1.0,-0.01,-0.05,0.95,-0.06,0.01,0.23,1.0,-0.12,-0.21,0.21,-0.1,0.04],[-0.21,-0.02,-0.0,0.69,-0.03,0.97,0.13,0.07,0.97,0.33,0.02,0.08,0.07,-0.12,-0.21,0.66,-0.12,-0.04,0.02,0.08,-0.12,1.0,0.07,-0.07,0.27,-0.01],[0.0,0.03,0.02,0.01,0.04,0.11,0.06,1.0,0.11,-0.13,-0.01,-0.07,-0.07,-0.21,0.01,0.13,-0.21,0.03,-0.04,-0.07,-0.21,0.07,1.0,-1.0,-0.1,0.0],[-0.0,-0.03,-0.02,-0.01,-0.04,-0.11,-0.06,-1.0,-0.11,0.13,0.01,0.07,0.07,0.21,-0.01,-0.13,0.21,-0.03,0.04,0.07,0.21,-0.07,-1.0,1.0,0.1,-0.0],[-0.1,-0.01,0.01,0.11,0.05,0.09,0.08,-0.1,0.09,0.8,0.02,0.05,0.04,-0.1,-0.11,0.03,-0.1,-0.05,-0.02,0.05,-0.1,0.27,-0.1,0.1,1.0,-0.18],[0.0,0.06,0.01,0.0,0.03,-0.01,-0.03,0.0,-0.01,-0.02,-0.04,0.01,0.01,0.04,0.0,-0.01,0.05,0.04,0.01,0.01,0.04,-0.01,0.0,-0.0,-0.18,1.0]],\"x\":[\"CreditScore\",\"FirstPaymentDate\",\"MaturityDate\",\"MIP\",\"Units\",\"OCLTV\",\"DTI\",\"OrigUPB\",\"LTV\",\"OrigInterestRate\",\"OrigLoanTerm\",\"EverDelinquent\",\"MonthsDelinquent\",\"MonthsInRepayment\",\"Credit_range\",\"LTV_range\",\"repay_range\",\"loanid\",\"first_time_buyer\",\"default\",\"RemainingTermRatio\",\"LTV_InterestRate\",\"points_and_fees\",\"target_profit\",\"OrigInterestRate_Rounded\",\"OrigInterestRate_binary\"],\"y\":[\"CreditScore\",\"FirstPaymentDate\",\"MaturityDate\",\"MIP\",\"Units\",\"OCLTV\",\"DTI\",\"OrigUPB\",\"LTV\",\"OrigInterestRate\",\"OrigLoanTerm\",\"EverDelinquent\",\"MonthsDelinquent\",\"MonthsInRepayment\",\"Credit_range\",\"LTV_range\",\"repay_range\",\"loanid\",\"first_time_buyer\",\"default\",\"RemainingTermRatio\",\"LTV_InterestRate\",\"points_and_fees\",\"target_profit\",\"OrigInterestRate_Rounded\",\"OrigInterestRate_binary\"],\"z\":[[1.0,0.011249201532392243,0.0013455643576075016,-0.16437642242258674,0.0028081672753160055,-0.19084833249410096,-0.0987401956275347,0.003770357349891119,-0.1910797745205921,-0.119471657683883,-0.00807520360702167,-0.20720363936960792,-0.15026564141640422,-0.005127368555651603,0.7569304783516985,-0.11635866820460693,-0.005946004187159737,0.012062597478909634,-0.02179864941443044,-0.20720363936960792,-0.005070837737286901,-0.20944368218219572,0.0037703573498795383,-0.003770357349896884,-0.09779015491251448,0.0034158395493884145],[0.011249201532392243,1.0,0.1427684063521791,-0.020829848472027485,-0.0035393873425081275,-0.025961510405832017,-0.0011904405170765733,0.02733182305115847,-0.026118942451850136,-0.006470330209359897,-0.605893269283817,-0.011898338999952527,-0.0022568188269220186,-0.025433613716060868,0.007256349561787708,-0.015185251841487007,-0.021881621103485044,0.0357073997958652,-0.0224855178687324,-0.011898338999952527,-0.020959973877843336,-0.02494878514781118,0.027331823051157556,-0.02733182305115769,-0.013467676918800759,0.06312208395310036],[0.0013455643576075016,0.1427684063521791,1.0,-0.0023380205830436113,0.0031655577704752034,-0.0019007469702045246,0.0350394181825712,0.01562282235514509,-0.0021383132681760493,0.0019449853553761708,0.6822296289618728,0.0018601682785920916,0.005761303816844176,-0.002989130849442669,0.002535484159748223,-0.005274433630983039,-0.0019578738746048644,0.007615266351800506,-0.01482299855454014,0.0018601682785920916,-0.009260529791178243,-0.001959350548790492,0.015622822355144644,-0.015622822355144847,0.0062079237133333175,0.011479589712976392],[-0.16437642242258674,-0.020829848472027485,-0.0023380205830436113,1.0,-0.04211071817190366,0.6947888652956999,0.11160262050359859,0.006729150002535676,0.695887675004078,0.12454364790299768,0.014834298022666031,0.05999319424423508,0.051204348134735095,-0.08780178282146235,-0.16786413906973943,0.19510061007847687,-0.0869372098377078,-0.06976267286060994,0.00735820063053043,0.05999319424423508,-0.08790190364428511,0.6911881540364999,0.006729150002538384,-0.006729150002533624,0.10744090322968043,0.001462818596943158],[0.0028081672753160055,-0.0035393873425081275,0.0031655577704752034,-0.04211071817190366,1.0,-0.046132567577536754,0.012886518962101157,0.043826835463425806,-0.046032276565390336,0.07406950916648607,0.005347644850433361,0.010162930655389996,-0.004573097907115206,0.025594038458368107,0.013497078696025157,-0.009299535137470732,0.02656466116224088,0.007209929100724002,0.013667230030874436,0.010162930655389996,0.02555971575454916,-0.026765912398694334,0.043826835463425175,-0.043826835463426216,0.054066679741946455,0.029075202084581087],[-0.19084833249410096,-0.025961510405832017,-0.0019007469702045246,0.6947888652956999,-0.046132567577536754,1.0,0.11485280857419138,0.10627332245124708,0.9994702817951935,0.0952680765936752,0.01855953552253431,0.06552815743413283,0.059810734165997546,-0.09429884950438859,-0.1851356812649032,0.691678620806816,-0.09414520830757801,-0.018380117067689272,0.027784528648676376,0.06552815743413283,-0.09442692580706835,0.9686945441912848,0.1062733224512487,-0.10627332245124217,0.08510188368603062,-0.008794783461063252],[-0.0987401956275347,-0.0011904405170765733,0.0350394181825712,0.11160262050359859,0.012886518962101157,0.11485280857419138,1.0,0.06363983757296925,0.11446774708925138,0.10521564246716741,0.028005349006153934,0.06210911493375326,0.04083004279795939,-0.007731564446072523,-0.10203818683300565,0.05931885364912772,-0.009237280546472765,-0.11949116260880495,-0.14871653607306304,0.06210911493375326,-0.007981012007861004,0.13335224431497328,0.06363983757296938,-0.06363983757296529,0.08101557597412722,-0.033502967396149004],[0.003770357349891119,0.02733182305115847,0.01562282235514509,0.006729150002535676,0.043826835463425806,0.10627332245124708,0.06363983757296925,1.0,0.10572167762663556,-0.12856278834682316,-0.008007593468451717,-0.06760525344438764,-0.06724256928993241,-0.21169816085402923,0.013631194757911894,0.13422377586924766,-0.21499640615199517,0.03461730689267585,-0.035417815639388825,-0.06760525344438764,-0.21163180526729544,0.06909725357826947,1.000000000000009,-0.9999999999999822,-0.10016791625819196,0.0032826469417037633],[-0.1910797745205921,-0.026118942451850136,-0.0021383132681760493,0.695887675004078,-0.046032276565390336,0.9994702817951935,0.11446774708925138,0.10572167762663556,1.0,0.09551980258023963,0.01847663331777485,0.06573545366574456,0.059930400192117435,-0.09459577869336037,-0.185456620227503,0.6919088360862279,-0.09439274620280363,-0.01778303891277123,0.028157921432419603,0.06573545366574456,-0.09472311701627487,0.9692594415998781,0.10572167762663687,-0.10572167762662968,0.08532235965714659,-0.008672274784665816],[-0.119471657683883,-0.006470330209359897,0.0019449853553761708,0.12454364790299768,0.07406950916648607,0.0952680765936752,0.10521564246716741,-0.12856278834682316,0.09551980258023963,1.0,0.010793811602923831,0.060418152002405065,0.05170561990430794,-0.12037845978658747,-0.13006083094042292,0.030716839291211735,-0.12341360216253303,-0.08394714640401814,-0.01445361429678869,0.060418152002405065,-0.12059071803194776,0.3329657005530717,-0.12856278834681617,0.1285627883468231,0.8042291202532903,-0.016838855017526574],[-0.00807520360702167,-0.605893269283817,0.6822296289618728,0.014834298022666031,0.005347644850433361,0.01855953552253431,0.028005349006153934,-0.008007593468451717,0.01847663331777485,0.010793811602923831,1.0,0.01034816426363947,0.006567294852665243,0.016591322588473838,-0.0039777210031385875,0.007476994408617662,0.014937381641294045,-0.022228277698403208,0.0065907716852753664,0.01034816426363947,0.008196907599848502,0.018725589474789587,-0.00800759346845148,0.008007593468451773,0.018524158908649207,-0.03820900324914323],[-0.20720363936960792,-0.011898338999952527,0.0018601682785920916,0.05999319424423508,0.010162930655389996,0.06552815743413283,0.06210911493375326,-0.06760525344438764,0.06573545366574456,0.060418152002405065,0.01034816426363947,1.0,0.42004787546620725,0.23249683170888627,-0.24342385404468556,0.038149953080183485,0.22266923204017333,0.0015341304516778551,0.01141993161191351,1.0,0.23241591335018155,0.0772338885533098,-0.06760525344438167,0.06760525344438631,0.053402110557369896,0.013938266735731718],[-0.15026564141640422,-0.0022568188269220186,0.005761303816844176,0.051204348134735095,-0.004573097907115206,0.059810734165997546,0.04083004279795939,-0.06724256928993241,0.059930400192117435,0.05170561990430794,0.006567294852665243,0.42004787546620725,1.0,0.30663063558271897,-0.17727600736336707,0.03369987721800882,0.29423554492849996,-0.008118532191377412,0.011008688304888072,0.42004787546620725,0.30655430557423186,0.06968209919662184,-0.06724256928992631,0.06724256928992943,0.042384990107107536,0.010216484967948178],[-0.005127368555651603,-0.025433613716060868,-0.002989130849442669,-0.08780178282146235,0.025594038458368107,-0.09429884950438859,-0.007731564446072523,-0.21169816085402923,-0.09459577869336037,-0.12037845978658747,0.016591322588473838,0.23249683170888627,0.30663063558271897,1.0,-0.01399319898144985,-0.04989927740482704,0.9516363878899158,-0.056280027733898376,0.01354114667906323,0.23249683170888627,0.9999401815729199,-0.1177274917889434,-0.2116981608540165,0.21169816085401605,-0.09728912510996522,0.0404822407198291],[0.7569304783516985,0.007256349561787708,0.002535484159748223,-0.16786413906973943,0.013497078696025157,-0.1851356812649032,-0.10203818683300565,0.013631194757911894,-0.185456620227503,-0.13006083094042292,-0.0039777210031385875,-0.24342385404468556,-0.17727600736336707,-0.01399319898144985,1.0,-0.10797690892777911,-0.015571189180772785,0.005900412316665794,-0.021705987825673467,-0.24342385404468556,-0.013963402397263212,-0.20696847048058184,0.013631194757898745,-0.01363119475791714,-0.10593766217848825,0.004719775304013367],[-0.11635866820460693,-0.015185251841487007,-0.005274433630983039,0.19510061007847687,-0.009299535137470732,0.691678620806816,0.05931885364912772,0.13422377586924766,0.6919088360862279,0.030716839291211735,0.007476994408617662,0.038149953080183485,0.03369987721800882,-0.04989927740482704,-0.10797690892777911,1.0,-0.05001236353657043,0.011834975971611617,0.0253094928058254,0.03814995308018348,-0.04994965662414313,0.6604521196783772,0.13422377586924725,-0.1342237758692459,0.028785587768499512,-0.007104318921919341],[-0.005946004187159737,-0.021881621103485044,-0.0019578738746048644,-0.0869372098377078,0.02656466116224088,-0.09414520830757801,-0.009237280546472765,-0.21499640615199517,-0.09439274620280363,-0.12341360216253303,0.014937381641294045,0.22266923204017333,0.29423554492849996,0.9516363878899158,-0.015571189180772785,-0.05001236353657043,1.0,-0.0520912189541677,0.013106039584681567,0.22266923204017336,0.9515603305126318,-0.11843451401908829,-0.214996406151989,0.21499640615199536,-0.09872462684088082,0.04710644287357165],[0.012062597478909634,0.0357073997958652,0.007615266351800506,-0.06976267286060994,0.007209929100724002,-0.018380117067689272,-0.11949116260880495,0.03461730689267585,-0.01778303891277123,-0.08394714640401814,-0.022228277698403208,0.0015341304516778551,-0.008118532191377412,-0.056280027733898376,0.005900412316665794,0.011834975971611617,-0.0520912189541677,1.0,0.016541485066625776,0.0015341304516780314,-0.05610615420226162,-0.0373515699765069,0.03461730689267539,-0.03461730689267524,-0.05341073736351436,0.039011093337769545],[-0.02179864941443044,-0.0224855178687324,-0.01482299855454014,0.00735820063053043,0.013667230030874436,0.027784528648676376,-0.14871653607306304,-0.035417815639388825,0.028157921432419603,-0.01445361429678869,0.0065907716852753664,0.01141993161191351,0.011008688304888072,0.01354114667906323,-0.021705987825673467,0.0253094928058254,0.013106039584681567,0.016541485066625776,1.0,0.01141993161191352,0.013484689359555985,0.023218148169010466,-0.03541781563938719,0.03541781563938788,-0.02035104255741115,0.010101009916544978],[-0.20720363936960792,-0.011898338999952527,0.0018601682785920916,0.05999319424423508,0.010162930655389996,0.06552815743413283,0.06210911493375326,-0.06760525344438764,0.06573545366574456,0.060418152002405065,0.01034816426363947,1.0,0.42004787546620725,0.23249683170888627,-0.24342385404468556,0.03814995308018348,0.22266923204017336,0.0015341304516780314,0.01141993161191352,1.0,0.23241591335018155,0.0772338885533098,-0.06760525344438167,0.06760525344438631,0.053402110557369896,0.013938266735731718],[-0.005070837737286901,-0.020959973877843336,-0.009260529791178243,-0.08790190364428511,0.02555971575454916,-0.09442692580706835,-0.007981012007861004,-0.21163180526729544,-0.09472311701627487,-0.12059071803194776,0.008196907599848502,0.23241591335018155,0.30655430557423186,0.9999401815729199,-0.013963402397263212,-0.04994965662414313,0.9515603305126318,-0.05610615420226162,0.013484689359555985,0.23241591335018155,1.0,-0.11788351474571247,-0.21163180526729516,0.21163180526729772,-0.09754119296010264,0.04078680253204111],[-0.20944368218219572,-0.02494878514781118,-0.001959350548790492,0.6911881540364999,-0.026765912398694334,0.9686945441912848,0.13335224431497328,0.06909725357826947,0.9692594415998781,0.3329657005530717,0.018725589474789587,0.0772338885533098,0.06968209919662184,-0.1177274917889434,-0.20696847048058184,0.6604521196783772,-0.11843451401908829,-0.0373515699765069,0.023218148169010466,0.0772338885533098,-0.11788351474571247,1.0,0.06909725357827227,-0.06909725357826549,0.27481444391010146,-0.005207337801331423],[0.0037703573498795383,0.027331823051157556,0.015622822355144644,0.006729150002538384,0.043826835463425175,0.1062733224512487,0.06363983757296938,1.000000000000009,0.10572167762663687,-0.12856278834681617,-0.00800759346845148,-0.06760525344438167,-0.06724256928992631,-0.2116981608540165,0.013631194757898745,0.13422377586924725,-0.214996406151989,0.03461730689267539,-0.03541781563938719,-0.06760525344438167,-0.21163180526729516,0.06909725357827227,1.0,-1.0000000000000202,-0.10016791625818677,0.0032826469417034086],[-0.003770357349896884,-0.02733182305115769,-0.015622822355144847,-0.006729150002533624,-0.043826835463426216,-0.10627332245124217,-0.06363983757296529,-0.9999999999999822,-0.10572167762662968,0.1285627883468231,0.008007593468451773,0.06760525344438631,0.06724256928992943,0.21169816085401605,-0.01363119475791714,-0.1342237758692459,0.21499640615199536,-0.03461730689267524,0.03541781563938788,0.06760525344438631,0.21163180526729772,-0.06909725357826549,-1.0000000000000202,1.0,0.10016791625818908,-0.0032826469417039108],[-0.09779015491251448,-0.013467676918800759,0.0062079237133333175,0.10744090322968043,0.054066679741946455,0.08510188368603062,0.08101557597412722,-0.10016791625819196,0.08532235965714659,0.8042291202532903,0.018524158908649207,0.053402110557369896,0.042384990107107536,-0.09728912510996522,-0.10593766217848825,0.028785587768499512,-0.09872462684088082,-0.05341073736351436,-0.02035104255741115,0.053402110557369896,-0.09754119296010264,0.27481444391010146,-0.10016791625818677,0.10016791625818908,1.0,-0.18480725639668347],[0.0034158395493884145,0.06312208395310036,0.011479589712976392,0.001462818596943158,0.029075202084581087,-0.008794783461063252,-0.033502967396149004,0.0032826469417037633,-0.008672274784665816,-0.016838855017526574,-0.03820900324914323,0.013938266735731718,0.010216484967948178,0.0404822407198291,0.004719775304013367,-0.007104318921919341,0.04710644287357165,0.039011093337769545,0.010101009916544978,0.013938266735731718,0.04078680253204111,-0.005207337801331423,0.0032826469417034086,-0.0032826469417039108,-0.18480725639668347,1.0]],\"type\":\"heatmap\",\"textfont\":{\"size\":12},\"texttemplate\":\"%{text}\"}],                        {\"template\":{\"data\":{\"histogram2dcontour\":[{\"type\":\"histogram2dcontour\",\"colorbar\":{\"outlinewidth\":0,\"ticks\":\"\"},\"colorscale\":[[0.0,\"#0d0887\"],[0.1111111111111111,\"#46039f\"],[0.2222222222222222,\"#7201a8\"],[0.3333333333333333,\"#9c179e\"],[0.4444444444444444,\"#bd3786\"],[0.5555555555555556,\"#d8576b\"],[0.6666666666666666,\"#ed7953\"],[0.7777777777777778,\"#fb9f3a\"],[0.8888888888888888,\"#fdca26\"],[1.0,\"#f0f921\"]]}],\"choropleth\":[{\"type\":\"choropleth\",\"colorbar\":{\"outlinewidth\":0,\"ticks\":\"\"}}],\"histogram2d\":[{\"type\":\"histogram2d\",\"colorbar\":{\"outlinewidth\":0,\"ticks\":\"\"},\"colorscale\":[[0.0,\"#0d0887\"],[0.1111111111111111,\"#46039f\"],[0.2222222222222222,\"#7201a8\"],[0.3333333333333333,\"#9c179e\"],[0.4444444444444444,\"#bd3786\"],[0.5555555555555556,\"#d8576b\"],[0.6666666666666666,\"#ed7953\"],[0.7777777777777778,\"#fb9f3a\"],[0.8888888888888888,\"#fdca26\"],[1.0,\"#f0f921\"]]}],\"heatmap\":[{\"type\":\"heatmap\",\"colorbar\":{\"outlinewidth\":0,\"ticks\":\"\"},\"colorscale\":[[0.0,\"#0d0887\"],[0.1111111111111111,\"#46039f\"],[0.2222222222222222,\"#7201a8\"],[0.3333333333333333,\"#9c179e\"],[0.4444444444444444,\"#bd3786\"],[0.5555555555555556,\"#d8576b\"],[0.6666666666666666,\"#ed7953\"],[0.7777777777777778,\"#fb9f3a\"],[0.8888888888888888,\"#fdca26\"],[1.0,\"#f0f921\"]]}],\"heatmapgl\":[{\"type\":\"heatmapgl\",\"colorbar\":{\"outlinewidth\":0,\"ticks\":\"\"},\"colorscale\":[[0.0,\"#0d0887\"],[0.1111111111111111,\"#46039f\"],[0.2222222222222222,\"#7201a8\"],[0.3333333333333333,\"#9c179e\"],[0.4444444444444444,\"#bd3786\"],[0.5555555555555556,\"#d8576b\"],[0.6666666666666666,\"#ed7953\"],[0.7777777777777778,\"#fb9f3a\"],[0.8888888888888888,\"#fdca26\"],[1.0,\"#f0f921\"]]}],\"contourcarpet\":[{\"type\":\"contourcarpet\",\"colorbar\":{\"outlinewidth\":0,\"ticks\":\"\"}}],\"contour\":[{\"type\":\"contour\",\"colorbar\":{\"outlinewidth\":0,\"ticks\":\"\"},\"colorscale\":[[0.0,\"#0d0887\"],[0.1111111111111111,\"#46039f\"],[0.2222222222222222,\"#7201a8\"],[0.3333333333333333,\"#9c179e\"],[0.4444444444444444,\"#bd3786\"],[0.5555555555555556,\"#d8576b\"],[0.6666666666666666,\"#ed7953\"],[0.7777777777777778,\"#fb9f3a\"],[0.8888888888888888,\"#fdca26\"],[1.0,\"#f0f921\"]]}],\"surface\":[{\"type\":\"surface\",\"colorbar\":{\"outlinewidth\":0,\"ticks\":\"\"},\"colorscale\":[[0.0,\"#0d0887\"],[0.1111111111111111,\"#46039f\"],[0.2222222222222222,\"#7201a8\"],[0.3333333333333333,\"#9c179e\"],[0.4444444444444444,\"#bd3786\"],[0.5555555555555556,\"#d8576b\"],[0.6666666666666666,\"#ed7953\"],[0.7777777777777778,\"#fb9f3a\"],[0.8888888888888888,\"#fdca26\"],[1.0,\"#f0f921\"]]}],\"mesh3d\":[{\"type\":\"mesh3d\",\"colorbar\":{\"outlinewidth\":0,\"ticks\":\"\"}}],\"scatter\":[{\"fillpattern\":{\"fillmode\":\"overlay\",\"size\":10,\"solidity\":0.2},\"type\":\"scatter\"}],\"parcoords\":[{\"type\":\"parcoords\",\"line\":{\"colorbar\":{\"outlinewidth\":0,\"ticks\":\"\"}}}],\"scatterpolargl\":[{\"type\":\"scatterpolargl\",\"marker\":{\"colorbar\":{\"outlinewidth\":0,\"ticks\":\"\"}}}],\"bar\":[{\"error_x\":{\"color\":\"#2a3f5f\"},\"error_y\":{\"color\":\"#2a3f5f\"},\"marker\":{\"line\":{\"color\":\"#E5ECF6\",\"width\":0.5},\"pattern\":{\"fillmode\":\"overlay\",\"size\":10,\"solidity\":0.2}},\"type\":\"bar\"}],\"scattergeo\":[{\"type\":\"scattergeo\",\"marker\":{\"colorbar\":{\"outlinewidth\":0,\"ticks\":\"\"}}}],\"scatterpolar\":[{\"type\":\"scatterpolar\",\"marker\":{\"colorbar\":{\"outlinewidth\":0,\"ticks\":\"\"}}}],\"histogram\":[{\"marker\":{\"pattern\":{\"fillmode\":\"overlay\",\"size\":10,\"solidity\":0.2}},\"type\":\"histogram\"}],\"scattergl\":[{\"type\":\"scattergl\",\"marker\":{\"colorbar\":{\"outlinewidth\":0,\"ticks\":\"\"}}}],\"scatter3d\":[{\"type\":\"scatter3d\",\"line\":{\"colorbar\":{\"outlinewidth\":0,\"ticks\":\"\"}},\"marker\":{\"colorbar\":{\"outlinewidth\":0,\"ticks\":\"\"}}}],\"scattermapbox\":[{\"type\":\"scattermapbox\",\"marker\":{\"colorbar\":{\"outlinewidth\":0,\"ticks\":\"\"}}}],\"scatterternary\":[{\"type\":\"scatterternary\",\"marker\":{\"colorbar\":{\"outlinewidth\":0,\"ticks\":\"\"}}}],\"scattercarpet\":[{\"type\":\"scattercarpet\",\"marker\":{\"colorbar\":{\"outlinewidth\":0,\"ticks\":\"\"}}}],\"carpet\":[{\"aaxis\":{\"endlinecolor\":\"#2a3f5f\",\"gridcolor\":\"white\",\"linecolor\":\"white\",\"minorgridcolor\":\"white\",\"startlinecolor\":\"#2a3f5f\"},\"baxis\":{\"endlinecolor\":\"#2a3f5f\",\"gridcolor\":\"white\",\"linecolor\":\"white\",\"minorgridcolor\":\"white\",\"startlinecolor\":\"#2a3f5f\"},\"type\":\"carpet\"}],\"table\":[{\"cells\":{\"fill\":{\"color\":\"#EBF0F8\"},\"line\":{\"color\":\"white\"}},\"header\":{\"fill\":{\"color\":\"#C8D4E3\"},\"line\":{\"color\":\"white\"}},\"type\":\"table\"}],\"barpolar\":[{\"marker\":{\"line\":{\"color\":\"#E5ECF6\",\"width\":0.5},\"pattern\":{\"fillmode\":\"overlay\",\"size\":10,\"solidity\":0.2}},\"type\":\"barpolar\"}],\"pie\":[{\"automargin\":true,\"type\":\"pie\"}]},\"layout\":{\"autotypenumbers\":\"strict\",\"colorway\":[\"#636efa\",\"#EF553B\",\"#00cc96\",\"#ab63fa\",\"#FFA15A\",\"#19d3f3\",\"#FF6692\",\"#B6E880\",\"#FF97FF\",\"#FECB52\"],\"font\":{\"color\":\"#2a3f5f\"},\"hovermode\":\"closest\",\"hoverlabel\":{\"align\":\"left\"},\"paper_bgcolor\":\"white\",\"plot_bgcolor\":\"#E5ECF6\",\"polar\":{\"bgcolor\":\"#E5ECF6\",\"angularaxis\":{\"gridcolor\":\"white\",\"linecolor\":\"white\",\"ticks\":\"\"},\"radialaxis\":{\"gridcolor\":\"white\",\"linecolor\":\"white\",\"ticks\":\"\"}},\"ternary\":{\"bgcolor\":\"#E5ECF6\",\"aaxis\":{\"gridcolor\":\"white\",\"linecolor\":\"white\",\"ticks\":\"\"},\"baxis\":{\"gridcolor\":\"white\",\"linecolor\":\"white\",\"ticks\":\"\"},\"caxis\":{\"gridcolor\":\"white\",\"linecolor\":\"white\",\"ticks\":\"\"}},\"coloraxis\":{\"colorbar\":{\"outlinewidth\":0,\"ticks\":\"\"}},\"colorscale\":{\"sequential\":[[0.0,\"#0d0887\"],[0.1111111111111111,\"#46039f\"],[0.2222222222222222,\"#7201a8\"],[0.3333333333333333,\"#9c179e\"],[0.4444444444444444,\"#bd3786\"],[0.5555555555555556,\"#d8576b\"],[0.6666666666666666,\"#ed7953\"],[0.7777777777777778,\"#fb9f3a\"],[0.8888888888888888,\"#fdca26\"],[1.0,\"#f0f921\"]],\"sequentialminus\":[[0.0,\"#0d0887\"],[0.1111111111111111,\"#46039f\"],[0.2222222222222222,\"#7201a8\"],[0.3333333333333333,\"#9c179e\"],[0.4444444444444444,\"#bd3786\"],[0.5555555555555556,\"#d8576b\"],[0.6666666666666666,\"#ed7953\"],[0.7777777777777778,\"#fb9f3a\"],[0.8888888888888888,\"#fdca26\"],[1.0,\"#f0f921\"]],\"diverging\":[[0,\"#8e0152\"],[0.1,\"#c51b7d\"],[0.2,\"#de77ae\"],[0.3,\"#f1b6da\"],[0.4,\"#fde0ef\"],[0.5,\"#f7f7f7\"],[0.6,\"#e6f5d0\"],[0.7,\"#b8e186\"],[0.8,\"#7fbc41\"],[0.9,\"#4d9221\"],[1,\"#276419\"]]},\"xaxis\":{\"gridcolor\":\"white\",\"linecolor\":\"white\",\"ticks\":\"\",\"title\":{\"standoff\":15},\"zerolinecolor\":\"white\",\"automargin\":true,\"zerolinewidth\":2},\"yaxis\":{\"gridcolor\":\"white\",\"linecolor\":\"white\",\"ticks\":\"\",\"title\":{\"standoff\":15},\"zerolinecolor\":\"white\",\"automargin\":true,\"zerolinewidth\":2},\"scene\":{\"xaxis\":{\"backgroundcolor\":\"#E5ECF6\",\"gridcolor\":\"white\",\"linecolor\":\"white\",\"showbackground\":true,\"ticks\":\"\",\"zerolinecolor\":\"white\",\"gridwidth\":2},\"yaxis\":{\"backgroundcolor\":\"#E5ECF6\",\"gridcolor\":\"white\",\"linecolor\":\"white\",\"showbackground\":true,\"ticks\":\"\",\"zerolinecolor\":\"white\",\"gridwidth\":2},\"zaxis\":{\"backgroundcolor\":\"#E5ECF6\",\"gridcolor\":\"white\",\"linecolor\":\"white\",\"showbackground\":true,\"ticks\":\"\",\"zerolinecolor\":\"white\",\"gridwidth\":2}},\"shapedefaults\":{\"line\":{\"color\":\"#2a3f5f\"}},\"annotationdefaults\":{\"arrowcolor\":\"#2a3f5f\",\"arrowhead\":0,\"arrowwidth\":1},\"geo\":{\"bgcolor\":\"white\",\"landcolor\":\"#E5ECF6\",\"subunitcolor\":\"white\",\"showland\":true,\"showlakes\":true,\"lakecolor\":\"white\"},\"title\":{\"x\":0.05},\"mapbox\":{\"style\":\"light\"}}},\"xaxis\":{\"nticks\":36},\"title\":{\"text\":\"Correlation Heatmap of Numerical Features\"}},                        {\"responsive\": true}                    ).then(function(){\n",
              "                            \n",
              "var gd = document.getElementById('999ba589-cc5a-4068-b067-a8d1b0624f9f');\n",
              "var x = new MutationObserver(function (mutations, observer) {{\n",
              "        var display = window.getComputedStyle(gd).display;\n",
              "        if (!display || display === 'none') {{\n",
              "            console.log([gd, 'removed!']);\n",
              "            Plotly.purge(gd);\n",
              "            observer.disconnect();\n",
              "        }}\n",
              "}});\n",
              "\n",
              "// Listen for the removal of the full notebook cells\n",
              "var notebookContainer = gd.closest('#notebook-container');\n",
              "if (notebookContainer) {{\n",
              "    x.observe(notebookContainer, {childList: true});\n",
              "}}\n",
              "\n",
              "// Listen for the clearing of the current output cell\n",
              "var outputEl = gd.closest('.output');\n",
              "if (outputEl) {{\n",
              "    x.observe(outputEl, {childList: true});\n",
              "}}\n",
              "\n",
              "                        })                };                            </script>        </div>\n",
              "</body>\n",
              "</html>"
            ]
          },
          "metadata": {}
        }
      ]
    },
    {
      "cell_type": "code",
      "source": [],
      "metadata": {
        "id": "Z3LcW4LOhWE_"
      },
      "execution_count": null,
      "outputs": []
    },
    {
      "cell_type": "code",
      "source": [
        "\n",
        "import pandas as pd\n",
        "from sklearn.feature_selection import mutual_info_classif\n",
        "from sklearn.model_selection import train_test_split\n",
        "\n",
        "# Define your feature set and target variable\n",
        "X = df[['MonthsInRepayment','RemainingTermRatio','LoanPurpose_P','LoanPurpose_N','PPM_N'\n",
        "        ,'Channel_T','Channel_R','repay_range_1','repay_range_0','LTV_range_2','Credit_range_2','Credit_range_3','Occupancy_O','OrigUPB'\n",
        "        ]]#'MonthsInRepayment','Credit_range','repay_range','RemainingTermRatio','LTV_InterestRate'\n",
        "y = df['default']\n",
        "\n",
        "\n",
        "# Convert categorical variables to numerical if not already done\n",
        "X = pd.get_dummies(X)\n",
        "\n",
        "# Split the data into training and testing sets\n",
        "X_train, X_test, y_train, y_test = train_test_split(X, y, test_size=0.3, random_state=42)\n",
        "\n",
        "# Compute Mutual Information\n",
        "mutual_info = mutual_info_classif(X_train, y_train)\n",
        "\n",
        "# Create a DataFrame to display the mutual information scores\n",
        "mi_df = pd.DataFrame({\n",
        "    'Feature': X.columns,\n",
        "    'Mutual Information': mutual_info\n",
        "})\n",
        "\n",
        "# Sort DataFrame by Mutual Information\n",
        "mi_df = mi_df.sort_values(by='Mutual Information', ascending=False).reset_index(drop=True)\n",
        "\n",
        "print(\"Mutual Information Scores:\")\n",
        "print(mi_df)\n"
      ],
      "metadata": {
        "colab": {
          "base_uri": "https://localhost:8080/"
        },
        "id": "59PQr2bcVBWc",
        "outputId": "f73cb4b5-2866-4d40-8925-acd16fc75ebc"
      },
      "execution_count": null,
      "outputs": [
        {
          "output_type": "stream",
          "name": "stdout",
          "text": [
            "Mutual Information Scores:\n",
            "               Feature  Mutual Information\n",
            "0       Credit_range_3            0.058593\n",
            "1        repay_range_0            0.043076\n",
            "2          Occupancy_O            0.039740\n",
            "3                PPM_N            0.031621\n",
            "4    MonthsInRepayment            0.030844\n",
            "5   RemainingTermRatio            0.029933\n",
            "6       Credit_range_2            0.026090\n",
            "7            Channel_T            0.025372\n",
            "8          LTV_range_2            0.020982\n",
            "9            Channel_R            0.016988\n",
            "10       LoanPurpose_P            0.016039\n",
            "11       LoanPurpose_N            0.013681\n",
            "12       repay_range_1            0.009790\n",
            "13             OrigUPB            0.004534\n"
          ]
        }
      ]
    },
    {
      "cell_type": "code",
      "source": [
        "from sklearn.linear_model import LogisticRegression\n",
        "from sklearn.preprocessing import StandardScaler\n",
        "from sklearn.metrics import accuracy_score, classification_report\n",
        "\n",
        "# Select top features based on mutual information\n",
        "top_features = mi_df.head(5)['Feature'].tolist()  # Select top 5 features as an example\n",
        "X_train_selected = X_train[top_features]\n",
        "X_test_selected = X_test[top_features]\n",
        "\n",
        "# Logistic Regression Model\n",
        "scaler = StandardScaler()\n",
        "X_train_selected_scaled = scaler.fit_transform(X_train_selected)\n",
        "X_test_selected_scaled = scaler.transform(X_test_selected)\n",
        "\n",
        "log_reg = LogisticRegression(random_state=42)\n",
        "log_reg.fit(X_train_selected_scaled, y_train)\n",
        "\n",
        "y_pred_log_reg = log_reg.predict(X_test_selected_scaled)\n",
        "print(\"Logistic Regression Classification Report:\")\n",
        "print(classification_report(y_test, y_pred_log_reg))\n",
        "print(\"Logistic Regression Accuracy Score:\")\n",
        "print(accuracy_score(y_test, y_pred_log_reg))\n",
        "\n",
        "from sklearn.ensemble import RandomForestClassifier\n",
        "\n",
        "# RandomForest Model\n",
        "scaler = StandardScaler()\n",
        "X_train_selected_scaled = scaler.fit_transform(X_train_selected)\n",
        "X_test_selected_scaled = scaler.transform(X_test_selected)\n",
        "\n",
        "random_forest = RandomForestClassifier(random_state=42)\n",
        "random_forest.fit(X_train_selected_scaled, y_train)\n",
        "\n",
        "y_pred_rf = random_forest.predict(X_test_selected_scaled)\n",
        "print(\"RandomForest Classification Report:\")\n",
        "print(classification_report(y_test, y_pred_rf))\n",
        "print(\"RandomForest Accuracy Score:\")\n",
        "print(accuracy_score(y_test, y_pred_rf))\n",
        "\n",
        "from sklearn.tree import DecisionTreeClassifier\n",
        "\n",
        "# DecisionTree Model\n",
        "scaler = StandardScaler()\n",
        "X_train_selected_scaled = scaler.fit_transform(X_train_selected)\n",
        "X_test_selected_scaled = scaler.transform(X_test_selected)\n",
        "\n",
        "decision_tree = DecisionTreeClassifier(random_state=42)\n",
        "decision_tree.fit(X_train_selected_scaled, y_train)\n",
        "\n",
        "y_pred_dt = decision_tree.predict(X_test_selected_scaled)\n",
        "print(\"DecisionTree Classification Report:\")\n",
        "print(classification_report(y_test, y_pred_dt))\n",
        "print(\"DecisionTree Accuracy Score:\")\n",
        "print(accuracy_score(y_test, y_pred_dt))\n"
      ],
      "metadata": {
        "colab": {
          "base_uri": "https://localhost:8080/"
        },
        "id": "_SwbIIqug5s-",
        "outputId": "5d4c3db0-5483-41fc-b80c-7c606de55fe1"
      },
      "execution_count": null,
      "outputs": [
        {
          "output_type": "stream",
          "name": "stdout",
          "text": [
            "Logistic Regression Classification Report:\n",
            "              precision    recall  f1-score   support\n",
            "\n",
            "           0       0.82      0.98      0.89     70135\n",
            "           1       0.60      0.12      0.20     17301\n",
            "\n",
            "    accuracy                           0.81     87436\n",
            "   macro avg       0.71      0.55      0.55     87436\n",
            "weighted avg       0.78      0.81      0.76     87436\n",
            "\n",
            "Logistic Regression Accuracy Score:\n",
            "0.8103984628757034\n",
            "RandomForest Classification Report:\n",
            "              precision    recall  f1-score   support\n",
            "\n",
            "           0       0.82      0.98      0.89     70135\n",
            "           1       0.58      0.14      0.23     17301\n",
            "\n",
            "    accuracy                           0.81     87436\n",
            "   macro avg       0.70      0.56      0.56     87436\n",
            "weighted avg       0.77      0.81      0.76     87436\n",
            "\n",
            "RandomForest Accuracy Score:\n",
            "0.8099981700901231\n",
            "DecisionTree Classification Report:\n",
            "              precision    recall  f1-score   support\n",
            "\n",
            "           0       0.82      0.98      0.89     70135\n",
            "           1       0.59      0.14      0.22     17301\n",
            "\n",
            "    accuracy                           0.81     87436\n",
            "   macro avg       0.71      0.56      0.56     87436\n",
            "weighted avg       0.78      0.81      0.76     87436\n",
            "\n",
            "DecisionTree Accuracy Score:\n",
            "0.8104098998124343\n"
          ]
        }
      ]
    },
    {
      "cell_type": "code",
      "source": [
        "import seaborn as sns\n",
        "import matplotlib.pyplot as plt\n",
        "\n",
        "# Assuming mi_df is your DataFrame with mutual information scores\n",
        "plt.figure(figsize=(10, 6))\n",
        "sns.barplot(x='Feature', y='Mutual Information', data=mi_df)\n",
        "plt.xticks(rotation=90)\n",
        "plt.title('Mutual Information Scores for Features')\n",
        "plt.show()"
      ],
      "metadata": {
        "colab": {
          "base_uri": "https://localhost:8080/",
          "height": 693
        },
        "id": "azw24W04TG7I",
        "outputId": "d8594156-7583-445d-ac7d-c06fcad8296b"
      },
      "execution_count": null,
      "outputs": [
        {
          "output_type": "display_data",
          "data": {
            "text/plain": [
              "<Figure size 1000x600 with 1 Axes>"
            ],
            "image/png": "[encoded data removed]"
          },
          "metadata": {}
        }
      ]
    },
    {
      "cell_type": "code",
      "source": [
        "# Define a threshold for selecting features (you can adjust this threshold as needed)\n",
        "threshold = 0.028\n",
        "\n",
        "# Select features with mutual information scores above the threshold\n",
        "selected_features = mi_df[mi_df['Mutual Information'] > threshold]['Feature'].tolist()\n",
        "\n",
        "# Display Selected Features\n",
        "print(\"Selected Features based on Mutual Information scores:\")\n",
        "print(selected_features)\n",
        "\n",
        "# Update your DataFrame to keep only the selected features\n",
        "X_selected = X[selected_features]\n",
        "\n",
        "# Display the first few rows of the updated DataFrame\n",
        "print(X_selected.head())\n",
        "\n",
        "from sklearn.linear_model import LogisticRegression\n",
        "from sklearn.metrics import classification_report, accuracy_score\n",
        "\n",
        "# Split the data into training and testing sets\n",
        "X_train_selected, X_test_selected, y_train, y_test = train_test_split(X_selected, y, test_size=0.3, random_state=42)\n",
        "\n",
        "# Initialize and train the Logistic Regression model\n",
        "logreg = LogisticRegression(random_state=42)\n",
        "logreg.fit(X_train_selected, y_train)\n",
        "\n",
        "# Make predictions on the test set\n",
        "y_pred_logreg = logreg.predict(X_test_selected)\n",
        "\n",
        "# Evaluate the model\n",
        "print(\"Logistic Regression Performance:\")\n",
        "print(f\"Accuracy: {accuracy_score(y_test, y_pred_logreg)}\")\n",
        "print(classification_report(y_test, y_pred_logreg))\n",
        "\n",
        "from sklearn.ensemble import RandomForestClassifier\n",
        "\n",
        "# Initialize and train the Random Forest model\n",
        "rf = RandomForestClassifier(random_state=42)\n",
        "rf.fit(X_train_selected, y_train)\n",
        "\n",
        "# Make predictions on the test set\n",
        "y_pred_rf = rf.predict(X_test_selected)\n",
        "\n",
        "# Evaluate the model\n",
        "print(\"Random Forest Performance:\")\n",
        "print(f\"Accuracy: {accuracy_score(y_test, y_pred_rf)}\")\n",
        "print(classification_report(y_test, y_pred_rf))\n",
        "\n",
        "from sklearn.tree import DecisionTreeClassifier\n",
        "\n",
        "# Initialize and train the Decision Tree model\n",
        "dt = DecisionTreeClassifier(random_state=42)\n",
        "dt.fit(X_train_selected, y_train)\n",
        "\n",
        "# Make predictions on the test set\n",
        "y_pred_dt = dt.predict(X_test_selected)\n",
        "\n",
        "# Evaluate the model\n",
        "print(\"Decision Tree Performance:\")\n",
        "print(f\"Accuracy: {accuracy_score(y_test, y_pred_dt)}\")\n",
        "print(classification_report(y_test, y_pred_dt))\n"
      ],
      "metadata": {
        "colab": {
          "base_uri": "https://localhost:8080/"
        },
        "id": "Y_BdY7H4UKSb",
        "outputId": "eb04804e-673d-406a-c83b-eb3bec416d92"
      },
      "execution_count": null,
      "outputs": [
        {
          "output_type": "stream",
          "name": "stdout",
          "text": [
            "Selected Features based on Mutual Information scores:\n",
            "['Credit_range_3', 'repay_range_0', 'Occupancy_O', 'PPM_N', 'MonthsInRepayment', 'RemainingTermRatio']\n",
            "   Credit_range_3  repay_range_0  Occupancy_O  PPM_N  MonthsInRepayment  \\\n",
            "0           False          False         True   True                 52   \n",
            "1           False          False         True   True                144   \n",
            "2           False          False         True   True                 67   \n",
            "3           False           True         True   True                 35   \n",
            "4           False          False         True   True                 54   \n",
            "\n",
            "   RemainingTermRatio  \n",
            "0            0.144444  \n",
            "1            0.400000  \n",
            "2            0.186111  \n",
            "3            0.097222  \n",
            "4            0.150000  \n",
            "Logistic Regression Performance:\n",
            "Accuracy: 0.8103984628757034\n",
            "              precision    recall  f1-score   support\n",
            "\n",
            "           0       0.82      0.98      0.89     70135\n",
            "           1       0.60      0.12      0.20     17301\n",
            "\n",
            "    accuracy                           0.81     87436\n",
            "   macro avg       0.71      0.55      0.55     87436\n",
            "weighted avg       0.78      0.81      0.76     87436\n",
            "\n",
            "Random Forest Performance:\n",
            "Accuracy: 0.8098952376595453\n",
            "              precision    recall  f1-score   support\n",
            "\n",
            "           0       0.82      0.98      0.89     70135\n",
            "           1       0.58      0.14      0.22     17301\n",
            "\n",
            "    accuracy                           0.81     87436\n",
            "   macro avg       0.70      0.56      0.56     87436\n",
            "weighted avg       0.77      0.81      0.76     87436\n",
            "\n",
            "Decision Tree Performance:\n",
            "Accuracy: 0.8097923052289675\n",
            "              precision    recall  f1-score   support\n",
            "\n",
            "           0       0.82      0.98      0.89     70135\n",
            "           1       0.58      0.14      0.22     17301\n",
            "\n",
            "    accuracy                           0.81     87436\n",
            "   macro avg       0.70      0.56      0.56     87436\n",
            "weighted avg       0.77      0.81      0.76     87436\n",
            "\n"
          ]
        }
      ]
    },
    {
      "cell_type": "code",
      "source": [
        "from sklearn.model_selection import train_test_split\n",
        "from imblearn.over_sampling import SMOTE\n",
        "from sklearn.linear_model import LogisticRegression\n",
        "from sklearn.ensemble import RandomForestClassifier\n",
        "from sklearn.tree import DecisionTreeClassifier\n",
        "from sklearn.metrics import classification_report, accuracy_score\n",
        "\n",
        "# Split the data into training and testing sets\n",
        "X_train_selected, X_test_selected, y_train, y_test = train_test_split(X_selected, y, test_size=0.3, random_state=42)\n",
        "\n",
        "# Define the desired ratio for the minority class\n",
        "desired_ratio = 0.4  # For example, 50% of the majority class size\n",
        "\n",
        "# Initialize SMOTE with the desired sampling strategy\n",
        "smote = SMOTE(sampling_strategy=desired_ratio, random_state=42)\n",
        "\n",
        "# Fit and transform the training data\n",
        "X_train_resampled, y_train_resampled = smote.fit_resample(X_train_selected, y_train)\n",
        "\n",
        "# Display the shape of the original and resampled training data\n",
        "print(f'Original training set shape: {X_train_selected.shape}')\n",
        "print(f'Resampled training set shape: {X_train_resampled.shape}')\n",
        "\n",
        "# Logistic Regression\n",
        "logreg = LogisticRegression(random_state=42)\n",
        "logreg.fit(X_train_resampled, y_train_resampled)\n",
        "y_pred_logreg = logreg.predict(X_test_selected)\n",
        "print(\"Logistic Regression Performance:\")\n",
        "print(f\"Accuracy: {accuracy_score(y_test, y_pred_logreg)}\")\n",
        "print(classification_report(y_test, y_pred_logreg))\n",
        "\n",
        "# Random Forest\n",
        "rf = RandomForestClassifier(random_state=42)\n",
        "rf.fit(X_train_resampled, y_train_resampled)\n",
        "y_pred_rf = rf.predict(X_test_selected)\n",
        "print(\"Random Forest Performance:\")\n",
        "print(f\"Accuracy: {accuracy_score(y_test, y_pred_rf)}\")\n",
        "print(classification_report(y_test, y_pred_rf))\n",
        "\n",
        "# Decision Tree\n",
        "dt = DecisionTreeClassifier(random_state=42)\n",
        "dt.fit(X_train_resampled, y_train_resampled)\n",
        "y_pred_dt = dt.predict(X_test_selected)\n",
        "print(\"Decision Tree Performance:\")\n",
        "print(f\"Accuracy: {accuracy_score(y_test, y_pred_dt)}\")\n",
        "print(classification_report(y_test, y_pred_dt))\n"
      ],
      "metadata": {
        "colab": {
          "base_uri": "https://localhost:8080/"
        },
        "id": "MOvZh2rVDL7y",
        "outputId": "fe4bca42-ccb8-46c3-d6a0-b8c1a58b2e5b"
      },
      "execution_count": null,
      "outputs": [
        {
          "output_type": "stream",
          "name": "stdout",
          "text": [
            "Original training set shape: (204015, 6)\n",
            "Resampled training set shape: (229114, 6)\n",
            "Logistic Regression Performance:\n",
            "Accuracy: 0.8094720710005032\n",
            "              precision    recall  f1-score   support\n",
            "\n",
            "           0       0.83      0.96      0.89     70135\n",
            "           1       0.55      0.20      0.30     17301\n",
            "\n",
            "    accuracy                           0.81     87436\n",
            "   macro avg       0.69      0.58      0.59     87436\n",
            "weighted avg       0.77      0.81      0.77     87436\n",
            "\n",
            "Random Forest Performance:\n",
            "Accuracy: 0.8030559494944874\n",
            "              precision    recall  f1-score   support\n",
            "\n",
            "           0       0.84      0.93      0.88     70135\n",
            "           1       0.50      0.28      0.36     17301\n",
            "\n",
            "    accuracy                           0.80     87436\n",
            "   macro avg       0.67      0.60      0.62     87436\n",
            "weighted avg       0.77      0.80      0.78     87436\n",
            "\n",
            "Decision Tree Performance:\n",
            "Accuracy: 0.8039823413696875\n",
            "              precision    recall  f1-score   support\n",
            "\n",
            "           0       0.84      0.94      0.88     70135\n",
            "           1       0.51      0.27      0.35     17301\n",
            "\n",
            "    accuracy                           0.80     87436\n",
            "   macro avg       0.67      0.60      0.62     87436\n",
            "weighted avg       0.77      0.80      0.78     87436\n",
            "\n"
          ]
        }
      ]
    },
    {
      "cell_type": "code",
      "source": [
        "'''\n",
        "import pandas as pd\n",
        "from sklearn.model_selection import train_test_split\n",
        "from imblearn.over_sampling import SMOTE\n",
        "\n",
        "# Assuming `new_df` contains the final DataFrame with selected features\n",
        "# You can update this to the actual DataFrame name if it's different\n",
        "\n",
        "# Define features and target\n",
        "X = df[['MonthsInRepayment','RemainingTermRatio','OrigInterestRate_Rounded','Credit_range']]\n",
        "y = df['default']\n",
        "\n",
        "# Encode categorical features if necessary (assuming all features are already numerical)\n",
        "# If there are any categorical features, apply pd.get_dummies as needed\n",
        "\n",
        "# Split data into training and test sets\n",
        "X_train, X_test, y_train, y_test = train_test_split(X, y, test_size=0.3, random_state=42)\n",
        "\n",
        "# Check the class distribution before resampling\n",
        "print(f'Original class distribution:\\n{y_train.value_counts()}')\n",
        "\n",
        "# Define the desired ratio for the minority class (1)\n",
        "desired_ratio = 0.8\n",
        "\n",
        "# Calculate the required sampling strategy\n",
        "minority_class_size = int(len(y_train) * desired_ratio / (1 - desired_ratio))\n",
        "\n",
        "# Apply SMOTE to achieve the desired ratio\n",
        "smote = SMOTE(sampling_strategy={1: minority_class_size}, random_state=42)\n",
        "X_train_smote, y_train_smote = smote.fit_resample(X_train, y_train)\n",
        "\n",
        "# Check the class distribution after resampling\n",
        "print(f'Resampled class distribution:\\n{pd.Series(y_train_smote).value_counts()}')\n",
        "\n",
        "# Verify the shape of the resampled dataset\n",
        "print(f'Resampled dataset shape: {X_train_smote.shape}')\n",
        "print(X_train_smote.head())\n",
        "'''"
      ],
      "metadata": {
        "colab": {
          "base_uri": "https://localhost:8080/"
        },
        "id": "TaAzNamFYBne",
        "outputId": "e718c6c2-dcf2-4ad6-daeb-ff389bb151f5"
      },
      "execution_count": null,
      "outputs": [
        {
          "output_type": "stream",
          "name": "stdout",
          "text": [
            "Original training set shape: (204015, 3)\n",
            "Resampled training set shape: (327306, 3)\n"
          ]
        }
      ]
    },
    {
      "cell_type": "code",
      "source": [],
      "metadata": {
        "id": "WwHuNTWbYlIB"
      },
      "execution_count": null,
      "outputs": []
    },
    {
      "cell_type": "code",
      "source": [
        "\n",
        "###spliting x data or feature\n",
        "\n",
        "data = df\n",
        "\n",
        "x=data[['Credit_range_3'\n",
        "        ,'repay_range_0','PPM_N','MonthsInRepayment','RemainingTermRatio','Credit_range_3']].values\n",
        "   # 'MonthsInRepayment','RemainingTermRatio','OrigInterestRate_Rounded','LTV_range','first_time_buyer','repay_range'\n",
        "   #'RemainingTermRatio','repay_range','Credit_range','LTV_InterestRate'\n",
        "x.shape   #'MonthsInRepayment','RemainingTermRatio','MonthsDelinquent','IsHighDTI','IsHighLTV'\n",
        "\n",
        "### spliting y data or target\n",
        "\n",
        "y=data[\"EverDelinquent\"].values #EverDelinquent ,   resale_price\n",
        "y.shape\n",
        "\n",
        "### spliting x test and y test\n",
        "\n",
        "from sklearn.model_selection import train_test_split\n",
        "\n",
        "\n",
        "X_train, X_test, y_train, y_test = train_test_split(x, y, test_size=0.3, random_state=42)"
      ],
      "metadata": {
        "id": "JIwAuudEmIBO"
      },
      "execution_count": null,
      "outputs": []
    },
    {
      "cell_type": "code",
      "source": [
        "from sklearn.model_selection import train_test_split\n",
        "from sklearn.linear_model import LogisticRegression\n",
        "from sklearn.metrics import accuracy_score, mean_squared_error\n",
        "from sklearn.metrics import classification_report, confusion_matrix, roc_auc_score, log_loss\n",
        "\n",
        "\n",
        "# Creating and training the Logistic Regression model\n",
        "model = LogisticRegression()\n",
        "model.fit(X_train, y_train)\n",
        "\n",
        "# Making predictions on the test set\n",
        "y_pred = model.predict(X_test)\n",
        "\n",
        "# Calculating accuracy\n",
        "accuracy = accuracy_score(y_test, y_pred)\n",
        "print(\"LogisticRegression Accuracy:\", accuracy)\n",
        "\n",
        "\n",
        "\n",
        "# Generate the classification report\n",
        "print(\"Classification Report:\")\n",
        "print(classification_report(y_test, y_pred))"
      ],
      "metadata": {
        "colab": {
          "base_uri": "https://localhost:8080/"
        },
        "id": "2_U36RQCnM98",
        "outputId": "387bfa13-2802-44c6-efeb-55f7ebe37f04"
      },
      "execution_count": null,
      "outputs": [
        {
          "output_type": "stream",
          "name": "stdout",
          "text": [
            "LogisticRegression Accuracy: 0.810432773685896\n",
            "Classification Report:\n",
            "              precision    recall  f1-score   support\n",
            "\n",
            "           0       0.82      0.98      0.89     70135\n",
            "           1       0.61      0.12      0.20     17301\n",
            "\n",
            "    accuracy                           0.81     87436\n",
            "   macro avg       0.71      0.55      0.55     87436\n",
            "weighted avg       0.78      0.81      0.76     87436\n",
            "\n"
          ]
        }
      ]
    },
    {
      "cell_type": "code",
      "source": [
        "from sklearn.ensemble import RandomForestClassifier\n",
        "from sklearn.metrics import accuracy_score, mean_squared_error, classification_report\n",
        "from sklearn.model_selection import train_test_split\n",
        "\n",
        "# Initialize the Random Forest Classifier\n",
        "rf_classifier = RandomForestClassifier(n_estimators=100, random_state=32)\n",
        "\n",
        "# Train the classifier\n",
        "rf_classifier.fit(X_train, y_train)\n",
        "\n",
        "# Predict on the test set\n",
        "y_pred = rf_classifier.predict(X_test)\n",
        "\n",
        "# Calculate accuracy\n",
        "accuracy = accuracy_score(y_test, y_pred)\n",
        "print(\"RandomForestClassifier Accuracy:\", accuracy)\n",
        "\n",
        "\n",
        "# Detailed classification report\n",
        "print(\"Classification Report:\\n\", classification_report(y_test, y_pred))\n"
      ],
      "metadata": {
        "colab": {
          "base_uri": "https://localhost:8080/"
        },
        "id": "ao8YPo9unZyS",
        "outputId": "935077fd-9a8a-416a-ebdd-864fafe160ed"
      },
      "execution_count": null,
      "outputs": [
        {
          "output_type": "stream",
          "name": "stdout",
          "text": [
            "RandomForestClassifier Accuracy: 0.8103298412553182\n",
            "Classification Report:\n",
            "               precision    recall  f1-score   support\n",
            "\n",
            "           0       0.82      0.98      0.89     70135\n",
            "           1       0.59      0.14      0.22     17301\n",
            "\n",
            "    accuracy                           0.81     87436\n",
            "   macro avg       0.70      0.56      0.56     87436\n",
            "weighted avg       0.78      0.81      0.76     87436\n",
            "\n"
          ]
        }
      ]
    },
    {
      "cell_type": "code",
      "source": [
        "from sklearn.ensemble import RandomForestClassifier\n",
        "from sklearn.model_selection import train_test_split\n",
        "from sklearn.metrics import classification_report\n",
        "\n",
        "# Initialize and train Random Forest model\n",
        "rf = RandomForestClassifier(n_estimators=100, random_state=42)\n",
        "rf.fit(X_train, y_train)\n",
        "\n",
        "# Predict and evaluate\n",
        "y_pred_rf = rf.predict(X_test)\n",
        "print(\"Random Forest Classification Report:\")\n",
        "print(classification_report(y_test, y_pred_rf))\n"
      ],
      "metadata": {
        "colab": {
          "base_uri": "https://localhost:8080/"
        },
        "id": "bMPgRA_ez_Fu",
        "outputId": "ee998f7c-ced6-438c-d447-3026b849e036"
      },
      "execution_count": null,
      "outputs": [
        {
          "output_type": "stream",
          "name": "stdout",
          "text": [
            "Random Forest Classification Report:\n",
            "              precision    recall  f1-score   support\n",
            "\n",
            "           0       0.81      0.98      0.89     70135\n",
            "           1       0.52      0.10      0.17     17301\n",
            "\n",
            "    accuracy                           0.80     87436\n",
            "   macro avg       0.67      0.54      0.53     87436\n",
            "weighted avg       0.76      0.80      0.75     87436\n",
            "\n"
          ]
        }
      ]
    },
    {
      "cell_type": "code",
      "source": [
        "pip install xgboost"
      ],
      "metadata": {
        "colab": {
          "base_uri": "https://localhost:8080/"
        },
        "id": "tzD88lnU0fvU",
        "outputId": "92bb7a51-7ff2-41e4-e56e-9c855985f454"
      },
      "execution_count": null,
      "outputs": [
        {
          "output_type": "stream",
          "name": "stdout",
          "text": [
            "Requirement already satisfied: xgboost in /usr/local/lib/python3.10/dist-packages (2.1.0)\n",
            "Requirement already satisfied: numpy in /usr/local/lib/python3.10/dist-packages (from xgboost) (1.26.4)\n",
            "Collecting nvidia-nccl-cu12 (from xgboost)\n",
            "  Downloading nvidia_nccl_cu12-2.22.3-py3-none-manylinux2014_x86_64.whl.metadata (1.8 kB)\n",
            "Requirement already satisfied: scipy in /usr/local/lib/python3.10/dist-packages (from xgboost) (1.13.1)\n",
            "Downloading nvidia_nccl_cu12-2.22.3-py3-none-manylinux2014_x86_64.whl (190.9 MB)\n",
            "\u001b[2K   \u001b[90m━━━━━━━━━━━━━━━━━━━━━━━━━━━━━━━━━━━━━━━━\u001b[0m \u001b[32m190.9/190.9 MB\u001b[0m \u001b[31m6.7 MB/s\u001b[0m eta \u001b[36m0:00:00\u001b[0m\n",
            "\u001b[?25hInstalling collected packages: nvidia-nccl-cu12\n",
            "\u001b[31mERROR: pip's dependency resolver does not currently take into account all the packages that are installed. This behaviour is the source of the following dependency conflicts.\n",
            "torch 2.3.1+cu121 requires nvidia-cublas-cu12==12.1.3.1; platform_system == \"Linux\" and platform_machine == \"x86_64\", which is not installed.\n",
            "torch 2.3.1+cu121 requires nvidia-cuda-cupti-cu12==12.1.105; platform_system == \"Linux\" and platform_machine == \"x86_64\", which is not installed.\n",
            "torch 2.3.1+cu121 requires nvidia-cuda-nvrtc-cu12==12.1.105; platform_system == \"Linux\" and platform_machine == \"x86_64\", which is not installed.\n",
            "torch 2.3.1+cu121 requires nvidia-cuda-runtime-cu12==12.1.105; platform_system == \"Linux\" and platform_machine == \"x86_64\", which is not installed.\n",
            "torch 2.3.1+cu121 requires nvidia-cudnn-cu12==8.9.2.26; platform_system == \"Linux\" and platform_machine == \"x86_64\", which is not installed.\n",
            "torch 2.3.1+cu121 requires nvidia-cufft-cu12==11.0.2.54; platform_system == \"Linux\" and platform_machine == \"x86_64\", which is not installed.\n",
            "torch 2.3.1+cu121 requires nvidia-curand-cu12==10.3.2.106; platform_system == \"Linux\" and platform_machine == \"x86_64\", which is not installed.\n",
            "torch 2.3.1+cu121 requires nvidia-cusolver-cu12==11.4.5.107; platform_system == \"Linux\" and platform_machine == \"x86_64\", which is not installed.\n",
            "torch 2.3.1+cu121 requires nvidia-cusparse-cu12==12.1.0.106; platform_system == \"Linux\" and platform_machine == \"x86_64\", which is not installed.\n",
            "torch 2.3.1+cu121 requires nvidia-nvtx-cu12==12.1.105; platform_system == \"Linux\" and platform_machine == \"x86_64\", which is not installed.\n",
            "torch 2.3.1+cu121 requires nvidia-nccl-cu12==2.20.5; platform_system == \"Linux\" and platform_machine == \"x86_64\", but you have nvidia-nccl-cu12 2.22.3 which is incompatible.\u001b[0m\u001b[31m\n",
            "\u001b[0mSuccessfully installed nvidia-nccl-cu12-2.22.3\n"
          ]
        }
      ]
    },
    {
      "cell_type": "code",
      "source": [
        "import xgboost as xgb\n",
        "from sklearn.metrics import classification_report\n",
        "\n",
        "# Initialize and train XGBoost model\n",
        "xgb_model = xgb.XGBClassifier(objective='binary:logistic', n_estimators=100, random_state=42)\n",
        "xgb_model.fit(X_train, y_train)\n",
        "\n",
        "# Predict and evaluate\n",
        "y_pred_xgb = xgb_model.predict(X_test)\n",
        "print(\"XGBoost Classification Report:\")\n",
        "print(classification_report(y_test, y_pred_xgb))\n"
      ],
      "metadata": {
        "colab": {
          "base_uri": "https://localhost:8080/"
        },
        "id": "Wu0Q9CL70WUW",
        "outputId": "643e339c-143e-47de-c07e-95eec63c0e79"
      },
      "execution_count": null,
      "outputs": [
        {
          "output_type": "stream",
          "name": "stdout",
          "text": [
            "XGBoost Classification Report:\n",
            "              precision    recall  f1-score   support\n",
            "\n",
            "           0       0.82      0.98      0.89     70135\n",
            "           1       0.59      0.13      0.22     17301\n",
            "\n",
            "    accuracy                           0.81     87436\n",
            "   macro avg       0.71      0.56      0.56     87436\n",
            "weighted avg       0.78      0.81      0.76     87436\n",
            "\n"
          ]
        }
      ]
    },
    {
      "cell_type": "code",
      "source": [
        "from sklearn.tree import DecisionTreeClassifier\n",
        "\n",
        "# Initialize the Decision Tree Classifier\n",
        "dt_classifier = DecisionTreeClassifier(random_state=32)\n",
        "\n",
        "# Train the classifier\n",
        "dt_classifier.fit(X_train, y_train)\n",
        "\n",
        "# Predict on the test set\n",
        "y_pred_dt = dt_classifier.predict(X_test)\n",
        "\n",
        "# Calculate accuracy\n",
        "accuracy_dt = accuracy_score(y_test, y_pred_dt)\n",
        "print(\"Accuracy of Decision Tree:\", accuracy_dt)\n",
        "\n",
        "# Detailed classification report\n",
        "print(\"Classification Report of Decision Tree:\\n\", classification_report(y_test, y_pred_dt))\n"
      ],
      "metadata": {
        "colab": {
          "base_uri": "https://localhost:8080/"
        },
        "id": "1VUkdto8nc3p",
        "outputId": "94b223bc-b90e-4a62-fd47-b65abf277264"
      },
      "execution_count": null,
      "outputs": [
        {
          "output_type": "stream",
          "name": "stdout",
          "text": [
            "Accuracy of Decision Tree: 0.809918111533007\n",
            "Classification Report of Decision Tree:\n",
            "               precision    recall  f1-score   support\n",
            "\n",
            "           0       0.82      0.98      0.89     70135\n",
            "           1       0.59      0.13      0.22     17301\n",
            "\n",
            "    accuracy                           0.81     87436\n",
            "   macro avg       0.70      0.56      0.56     87436\n",
            "weighted avg       0.77      0.81      0.76     87436\n",
            "\n"
          ]
        }
      ]
    }
  ]
}