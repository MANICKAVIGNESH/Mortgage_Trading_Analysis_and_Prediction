{
  "nbformat": 4,
  "nbformat_minor": 0,
  "metadata": {
    "colab": {
      "provenance": [],
      "mount_file_id": "1ip37HCsVxfyXDqBSe7HW2UuajLZY09fP",
      "authorship_tag": "ABX9TyM7vgFEz+Il6wS6QiXfSTos",
      "include_colab_link": true
    },
    "kernelspec": {
      "name": "python3",
      "display_name": "Python 3"
    },
    "language_info": {
      "name": "python"
    }
  },
  "cells": [
    {
      "cell_type": "markdown",
      "metadata": {
        "id": "view-in-github",
        "colab_type": "text"
      },
      "source": [
        "<a href=\"https://colab.research.google.com/github/MANICKAVIGNESH/Mortgage_Trading_Analysis_and_Prediction/blob/main/Copy_of_Deploy_in_gooogle_colab.ipynb\" target=\"_parent\"><img src=\"https://colab.research.google.com/assets/colab-badge.svg\" alt=\"Open In Colab\"/></a>"
      ]
    },
    {
      "cell_type": "code",
      "execution_count": null,
      "metadata": {
        "id": "h_fF0U54eh_C",
        "colab": {
          "base_uri": "https://localhost:8080/"
        },
        "outputId": "06c6cb7c-72e5-46b1-b0da-2f2674d654ca"
      },
      "outputs": [
        {
          "output_type": "stream",
          "name": "stdout",
          "text": [
            "\u001b[?25l   \u001b[90m━━━━━━━━━━━━━━━━━━━━━━━━━━━━━━━━━━━━━━━━\u001b[0m \u001b[32m0.0/8.7 MB\u001b[0m \u001b[31m?\u001b[0m eta \u001b[36m-:--:--\u001b[0m\r\u001b[2K   \u001b[91m━━━\u001b[0m\u001b[91m╸\u001b[0m\u001b[90m━━━━━━━━━━━━━━━━━━━━━━━━━━━━━━━━━━━━\u001b[0m \u001b[32m0.9/8.7 MB\u001b[0m \u001b[31m26.6 MB/s\u001b[0m eta \u001b[36m0:00:01\u001b[0m\r\u001b[2K   \u001b[91m━━━━━━━━━━━━━━━━━\u001b[0m\u001b[91m╸\u001b[0m\u001b[90m━━━━━━━━━━━━━━━━━━━━━━\u001b[0m \u001b[32m3.9/8.7 MB\u001b[0m \u001b[31m54.8 MB/s\u001b[0m eta \u001b[36m0:00:01\u001b[0m\r\u001b[2K   \u001b[91m━━━━━━━━━━━━━━━━━━━━━━━━━━━━━━━━━━━━━\u001b[0m\u001b[91m╸\u001b[0m\u001b[90m━━\u001b[0m \u001b[32m8.2/8.7 MB\u001b[0m \u001b[31m75.5 MB/s\u001b[0m eta \u001b[36m0:00:01\u001b[0m\r\u001b[2K   \u001b[91m━━━━━━━━━━━━━━━━━━━━━━━━━━━━━━━━━━━━━━━\u001b[0m\u001b[91m╸\u001b[0m \u001b[32m8.7/8.7 MB\u001b[0m \u001b[31m74.9 MB/s\u001b[0m eta \u001b[36m0:00:01\u001b[0m\r\u001b[2K   \u001b[90m━━━━━━━━━━━━━━━━━━━━━━━━━━━━━━━━━━━━━━━━\u001b[0m \u001b[32m8.7/8.7 MB\u001b[0m \u001b[31m49.8 MB/s\u001b[0m eta \u001b[36m0:00:00\u001b[0m\n",
            "\u001b[2K   \u001b[90m━━━━━━━━━━━━━━━━━━━━━━━━━━━━━━━━━━━━━━━━\u001b[0m \u001b[32m207.3/207.3 kB\u001b[0m \u001b[31m10.2 MB/s\u001b[0m eta \u001b[36m0:00:00\u001b[0m\n",
            "\u001b[2K   \u001b[90m━━━━━━━━━━━━━━━━━━━━━━━━━━━━━━━━━━━━━━━━\u001b[0m \u001b[32m6.9/6.9 MB\u001b[0m \u001b[31m54.1 MB/s\u001b[0m eta \u001b[36m0:00:00\u001b[0m\n",
            "\u001b[2K   \u001b[90m━━━━━━━━━━━━━━━━━━━━━━━━━━━━━━━━━━━━━━━━\u001b[0m \u001b[32m82.9/82.9 kB\u001b[0m \u001b[31m5.0 MB/s\u001b[0m eta \u001b[36m0:00:00\u001b[0m\n",
            "\u001b[2K   \u001b[90m━━━━━━━━━━━━━━━━━━━━━━━━━━━━━━━━━━━━━━━━\u001b[0m \u001b[32m62.7/62.7 kB\u001b[0m \u001b[31m4.0 MB/s\u001b[0m eta \u001b[36m0:00:00\u001b[0m\n",
            "\u001b[?25h"
          ]
        }
      ],
      "source": [
        "!pip install streamlit -q"
      ]
    },
    {
      "cell_type": "code",
      "source": [
        "%%writefile app.py\n",
        "import streamlit as st\n",
        "import numpy as np\n",
        "from joblib import load\n",
        "\n",
        "# Define or import CustomPipeline before loading the pickle file\n",
        "class CustomPipeline:\n",
        "    # your class implementation here\n",
        "    pass\n",
        "\n",
        "from joblib import load\n",
        "\n",
        "try:\n",
        "    elf = load('/content/drive/MyDrive/Company Project/Technocolab software Pvt Ltd/Main Project - Mortgage Trading Analysis and Prediction/pkl file/Combine_pipe_line.pkl')\n",
        "    elf2 = load('/content/drive/MyDrive/Company Project/Technocolab software Pvt Ltd/Main Project - Mortgage Trading Analysis and Prediction/pkl file/Prepayment_risk_pipeline.pkl')\n",
        "except Exception as e:\n",
        "    st.error(f\"An error occurred: {e}\")\n",
        "\n",
        "# Streamlit user inputs\n",
        "st.title(\"Mortgage Pre-payment and Pre-payment risk Prediction app\")\n",
        "\n",
        "# Get all inputs from user at the beginning with unique keys\n",
        "monthly_income = st.number_input(\"Enter the monthly income:\", min_value=0, key='monthly_income')\n",
        "OrigLoanTerm = st.number_input(\"Enter the loan term in months:\", min_value=0, key='OrigLoanTerm')\n",
        "OrigUPB = st.number_input(\"Enter the loan amount:\", min_value=0, key='OrigUPB')\n",
        "MonthsInRepayment = st.number_input(\"Enter the MonthsInRepayment value between 0 - 250:\", min_value=0, key='MonthsInRepayment')\n",
        "EMI = st.number_input(\"Enter the EMI value between 0 - 2500 dollars:\", min_value=0, key='EMI')\n",
        "interest_amount = st.number_input(\"Enter the interest amount value between 50000 - 300000:\", min_value=50000, key='interest_amount')\n",
        "\n",
        "if st.button(\"Predict\"):  # Trigger prediction when the button is clicked\n",
        "    # Prepare input data for classification model\n",
        "    input_data = np.array([[monthly_income, OrigLoanTerm, OrigUPB]])\n",
        "\n",
        "    st.write(\"Note: Convert 'Yes- delinquent' = 1 and 'No- delinquent' = 0\")\n",
        "\n",
        "    # Predict using the classification model\n",
        "    try:\n",
        "        classification_prediction = elf.clf.predict(input_data)\n",
        "        st.write(\"Classification Prediction:\", classification_prediction)\n",
        "\n",
        "        # Predict with the regression model if classification result is 1 or 0\n",
        "        if classification_prediction[0] in [0, 1]:\n",
        "            regression_prediction = elf.reg.predict(input_data)\n",
        "        else:\n",
        "            regression_prediction = \"It's delinquent\"\n",
        "\n",
        "        st.write(\"Regression Prediction:\", regression_prediction)\n",
        "\n",
        "        # Prepare second input data for the second classification model (pre-payment risk)\n",
        "        input_data2 = np.array([[MonthsInRepayment, EMI, interest_amount]])\n",
        "\n",
        "        # Predict with the second classification model\n",
        "        classification_prediction2 = elf2.clf.predict(input_data2)\n",
        "\n",
        "        st.write(\"Note: 1 = 'High' and 0 = 'Low'\")\n",
        "        st.write(\"Pre-Payment Risk:\", classification_prediction2)\n",
        "\n",
        "    except Exception as e:\n",
        "        st.error(f\"An error occurred during prediction: {e}\")\n"
      ],
      "metadata": {
        "colab": {
          "base_uri": "https://localhost:8080/"
        },
        "id": "RvDCVS8denfr",
        "outputId": "c1830c94-adc4-4b98-c9d6-1eb297a30b11"
      },
      "execution_count": null,
      "outputs": [
        {
          "output_type": "stream",
          "name": "stdout",
          "text": [
            "Writing app.py\n"
          ]
        }
      ]
    },
    {
      "cell_type": "code",
      "source": [
        "!ls"
      ],
      "metadata": {
        "colab": {
          "base_uri": "https://localhost:8080/"
        },
        "id": "4MQIp884niQO",
        "outputId": "29e42953-5279-4f3f-e4d5-359d8f0adc73"
      },
      "execution_count": null,
      "outputs": [
        {
          "output_type": "stream",
          "name": "stdout",
          "text": [
            "app.py\tdrive  sample_data\n"
          ]
        }
      ]
    },
    {
      "cell_type": "code",
      "source": [
        "!pip install pyngrok"
      ],
      "metadata": {
        "colab": {
          "base_uri": "https://localhost:8080/"
        },
        "id": "mDuxDKvFfqKx",
        "outputId": "57b227ff-ed01-45b2-b0b8-2b51cde7a33d"
      },
      "execution_count": null,
      "outputs": [
        {
          "output_type": "stream",
          "name": "stdout",
          "text": [
            "Collecting pyngrok\n",
            "  Downloading pyngrok-7.2.0-py3-none-any.whl.metadata (7.4 kB)\n",
            "Requirement already satisfied: PyYAML>=5.1 in /usr/local/lib/python3.10/dist-packages (from pyngrok) (6.0.2)\n",
            "Downloading pyngrok-7.2.0-py3-none-any.whl (22 kB)\n",
            "Installing collected packages: pyngrok\n",
            "Successfully installed pyngrok-7.2.0\n"
          ]
        }
      ]
    },
    {
      "cell_type": "code",
      "source": [
        "!ngrok authtoken '<2lgsxnl5UlX2Er6U3CRLFzhgLmp_7cKxS5AcfYsDkWrzyjdkH>'"
      ],
      "metadata": {
        "colab": {
          "base_uri": "https://localhost:8080/"
        },
        "id": "ErEzZfO3krwt",
        "outputId": "65b1e105-b670-4c3a-a7e1-d6f19ac385e3"
      },
      "execution_count": null,
      "outputs": [
        {
          "output_type": "stream",
          "name": "stdout",
          "text": [
            "Authtoken saved to configuration file: /root/.config/ngrok/ngrok.yml\n"
          ]
        }
      ]
    },
    {
      "cell_type": "code",
      "source": [
        "!ngrok"
      ],
      "metadata": {
        "colab": {
          "base_uri": "https://localhost:8080/"
        },
        "id": "hLck3TLensAO",
        "outputId": "6c8467b8-54fe-4746-8dd3-d1a3d4a2dc38"
      },
      "execution_count": null,
      "outputs": [
        {
          "output_type": "stream",
          "name": "stdout",
          "text": [
            "ngrok - tunnel local ports to public URLs and inspect traffic\n",
            "\n",
            "USAGE:\n",
            "  ngrok [command] [flags]\n",
            "\n",
            "AUTHOR:\n",
            "  ngrok - <support@ngrok.com>\n",
            "\n",
            "COMMANDS: \n",
            "  config          update or migrate ngrok's configuration file\n",
            "  http            start an HTTP tunnel\n",
            "  tcp             start a TCP tunnel\n",
            "  tunnel          start a tunnel for use with a tunnel-group backend\n",
            "\n",
            "EXAMPLES: \n",
            "  ngrok http 80                                                 # secure public URL for port 80 web server\n",
            "  ngrok http --url baz.ngrok.dev 8080                           # port 8080 available at baz.ngrok.dev\n",
            "  ngrok tcp 22                                                  # tunnel arbitrary TCP traffic to port 22\n",
            "  ngrok http 80 --oauth=google --oauth-allow-email=foo@foo.com  # secure your app with oauth\n",
            "\n",
            "Paid Features: \n",
            "  ngrok http 80 --url mydomain.com                              # run ngrok with your own custom domain\n",
            "  ngrok http 80 --allow-cidr 2600:8c00::a03c:91ee:fe69:9695/32  # run ngrok with IP policy restrictions\n",
            "  Upgrade your account at https://dashboard.ngrok.com/billing/subscription to access paid features\n",
            "\n",
            "Upgrade your account at https://dashboard.ngrok.com/billing/subscription to access paid features\n",
            "\n",
            "Flags:\n",
            "  -h, --help      help for ngrok\n",
            "\n",
            "Use \"ngrok [command] --help\" for more information about a command.\n",
            "\n",
            "PYNGROK VERSION:\n",
            "   7.2.0\n"
          ]
        }
      ]
    },
    {
      "cell_type": "code",
      "source": [
        "# Import the required module\n",
        "from pyngrok import ngrok"
      ],
      "metadata": {
        "id": "3e7T13vvl0Cv"
      },
      "execution_count": null,
      "outputs": []
    },
    {
      "cell_type": "code",
      "source": [
        "#!nohub streamlit run app.py\n",
        "!streamlit run app.py &>/dev/null&"
      ],
      "metadata": {
        "id": "mTZmqYoMoCjH"
      },
      "execution_count": null,
      "outputs": []
    },
    {
      "cell_type": "code",
      "source": [
        "!pgrep streamlit"
      ],
      "metadata": {
        "colab": {
          "base_uri": "https://localhost:8080/"
        },
        "id": "TVSMVzWjo3Kg",
        "outputId": "b8a4f7bf-f99b-4903-d216-6c562a3047cb"
      },
      "execution_count": null,
      "outputs": [
        {
          "output_type": "stream",
          "name": "stdout",
          "text": [
            "2738\n"
          ]
        }
      ]
    },
    {
      "cell_type": "code",
      "source": [
        "!pip install --upgrade pyngrok"
      ],
      "metadata": {
        "colab": {
          "base_uri": "https://localhost:8080/"
        },
        "id": "2ye68obqpthi",
        "outputId": "b2d29892-27c8-416a-9585-60e2b1ef2d3b"
      },
      "execution_count": null,
      "outputs": [
        {
          "output_type": "stream",
          "name": "stdout",
          "text": [
            "Requirement already satisfied: pyngrok in /usr/local/lib/python3.10/dist-packages (7.2.0)\n",
            "Requirement already satisfied: PyYAML>=5.1 in /usr/local/lib/python3.10/dist-packages (from pyngrok) (6.0.2)\n"
          ]
        }
      ]
    },
    {
      "cell_type": "code",
      "source": [
        "from pyngrok import ngrok\n",
        "\n",
        "# Replace 'your_authtoken' with your actual token from the ngrok dashboard\n",
        "ngrok.set_auth_token('2lgsxnl5UlX2Er6U3CRLFzhgLmp_7cKxS5AcfYsDkWrzyjdkH')\n",
        "\n",
        "# Open a HTTP tunnel on port 8501\n",
        "tunnel = ngrok.connect(8501, \"http\")\n",
        "print(\"Public URL:\", tunnel.public_url)\n"
      ],
      "metadata": {
        "colab": {
          "base_uri": "https://localhost:8080/"
        },
        "id": "Zudis3pnn6Xw",
        "outputId": "2ce6d579-a7fb-43e3-9806-a5c4855f8de0"
      },
      "execution_count": null,
      "outputs": [
        {
          "output_type": "stream",
          "name": "stdout",
          "text": [
            "Public URL: https://8984-34-73-169-100.ngrok-free.app\n"
          ]
        }
      ]
    },
    {
      "cell_type": "code",
      "source": [],
      "metadata": {
        "id": "ESfsADvEfWxq"
      },
      "execution_count": null,
      "outputs": []
    }
  ]
}