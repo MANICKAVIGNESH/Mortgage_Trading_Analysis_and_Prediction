{
  "nbformat": 4,
  "nbformat_minor": 0,
  "metadata": {
    "colab": {
      "provenance": [],
      "mount_file_id": "1MnHc3tlCX1TzgfVCfnCTph--fuULU3gT",
      "authorship_tag": "ABX9TyM/SzrZihLLSRbHlcUIw+8p",
      "include_colab_link": true
    },
    "kernelspec": {
      "name": "python3",
      "display_name": "Python 3"
    },
    "language_info": {
      "name": "python"
    }
  },
  "cells": [
    {
      "cell_type": "markdown",
      "metadata": {
        "id": "view-in-github",
        "colab_type": "text"
      },
      "source": [
        "<a href=\"https://colab.research.google.com/github/MANICKAVIGNESH/Mortgage_Trading_Analysis_and_Prediction/blob/main/Copy_of_Mortgage_Trading_Analysis_and_Prediction.ipynb\" target=\"_parent\"><img src=\"https://colab.research.google.com/assets/colab-badge.svg\" alt=\"Open In Colab\"/></a>"
      ]
    },
    {
      "cell_type": "code",
      "execution_count": null,
      "metadata": {
        "id": "5TPx1T001jIG"
      },
      "outputs": [],
      "source": [
        "import pandas as pd\n",
        "import numpy as np"
      ]
    },
    {
      "cell_type": "markdown",
      "source": [
        "# Data Collection"
      ],
      "metadata": {
        "id": "KDoY-x6y2Gsz"
      }
    },
    {
      "cell_type": "code",
      "source": [
        "loan_balances = pd.read_excel('/content/drive/MyDrive/Company Project/Technocolab software Pvt Ltd/Main Project - Mortgage Trading Analysis and Prediction/loan_balances.xlsx')\n",
        "loan_bids = pd.read_excel('/content/drive/MyDrive/Company Project/Technocolab software Pvt Ltd/Main Project - Mortgage Trading Analysis and Prediction/loan_bids.xlsx')\n",
        "loan_data = pd.read_excel('/content/drive/MyDrive/Company Project/Technocolab software Pvt Ltd/Main Project - Mortgage Trading Analysis and Prediction/loan_data.xlsx')\n",
        "loan_status = pd.read_excel('/content/drive/MyDrive/Company Project/Technocolab software Pvt Ltd/Main Project - Mortgage Trading Analysis and Prediction/loan_status.xlsx')\n",
        "target_profit = pd.read_excel('/content/drive/MyDrive/Company Project/Technocolab software Pvt Ltd/Main Project - Mortgage Trading Analysis and Prediction/target_profit.xlsx')\n",
        "umbs_prices = pd.read_excel('/content/drive/MyDrive/Company Project/Technocolab software Pvt Ltd/Main Project - Mortgage Trading Analysis and Prediction/umbs_prices.xlsx')\n"
      ],
      "metadata": {
        "id": "3jI810Iv1oDQ"
      },
      "execution_count": null,
      "outputs": []
    },
    {
      "cell_type": "code",
      "source": [],
      "metadata": {
        "id": "lTGfJpwA2_I0"
      },
      "execution_count": null,
      "outputs": []
    },
    {
      "cell_type": "code",
      "source": [
        "loan_balances.info()\n",
        "\n",
        "# Check for missing values\n",
        "print(loan_balances.isnull().sum())"
      ],
      "metadata": {
        "colab": {
          "base_uri": "https://localhost:8080/"
        },
        "id": "IDhlApG355fJ",
        "outputId": "b85d9a20-8f2e-4e54-aea5-fbc02d91edd6"
      },
      "execution_count": null,
      "outputs": [
        {
          "output_type": "stream",
          "name": "stdout",
          "text": [
            "<class 'pandas.core.frame.DataFrame'>\n",
            "RangeIndex: 5367 entries, 0 to 5366\n",
            "Data columns (total 9 columns):\n",
            " #   Column                      Non-Null Count  Dtype         \n",
            "---  ------                      --------------  -----         \n",
            " 0   loan_id                     5367 non-null   int64         \n",
            " 1   loan_amount                 5367 non-null   int64         \n",
            " 2   first_payment_date          5367 non-null   datetime64[ns]\n",
            " 3   principal_interest_payment  5367 non-null   float64       \n",
            " 4   interest_rate               5367 non-null   float64       \n",
            " 5   loan_term                   5367 non-null   int64         \n",
            " 6   next_payment_due_date       5367 non-null   datetime64[ns]\n",
            " 7   payment_periods_made        5367 non-null   int64         \n",
            " 8   current_balance             5367 non-null   float64       \n",
            "dtypes: datetime64[ns](2), float64(3), int64(4)\n",
            "memory usage: 377.5 KB\n",
            "loan_id                       0\n",
            "loan_amount                   0\n",
            "first_payment_date            0\n",
            "principal_interest_payment    0\n",
            "interest_rate                 0\n",
            "loan_term                     0\n",
            "next_payment_due_date         0\n",
            "payment_periods_made          0\n",
            "current_balance               0\n",
            "dtype: int64\n"
          ]
        }
      ]
    },
    {
      "cell_type": "code",
      "source": [
        "loan_bids.info()"
      ],
      "metadata": {
        "colab": {
          "base_uri": "https://localhost:8080/"
        },
        "id": "9X1Y-Yrj3LbO",
        "outputId": "eda5974c-7c8c-49be-818f-87758f0ee6ce"
      },
      "execution_count": null,
      "outputs": [
        {
          "output_type": "stream",
          "name": "stdout",
          "text": [
            "<class 'pandas.core.frame.DataFrame'>\n",
            "RangeIndex: 5367 entries, 0 to 5366\n",
            "Data columns (total 6 columns):\n",
            " #   Column             Non-Null Count  Dtype  \n",
            "---  ------             --------------  -----  \n",
            " 0   loan_id            5367 non-null   int64  \n",
            " 1   golden_sachs       5367 non-null   float64\n",
            " 2   storgan_manley     5367 non-null   float64\n",
            " 3   smells_largo       5367 non-null   float64\n",
            " 4   bank_of_americans  5367 non-null   float64\n",
            " 5   pj_logan           5367 non-null   float64\n",
            "dtypes: float64(5), int64(1)\n",
            "memory usage: 251.7 KB\n"
          ]
        }
      ]
    },
    {
      "cell_type": "code",
      "source": [
        "loan_data.info()\n",
        "\n",
        "print(loan_data.isnull().sum())"
      ],
      "metadata": {
        "colab": {
          "base_uri": "https://localhost:8080/"
        },
        "id": "Au6-Jz043peE",
        "outputId": "c764d8d0-8564-4459-f9dc-a23d1f47ec03"
      },
      "execution_count": null,
      "outputs": [
        {
          "output_type": "stream",
          "name": "stdout",
          "text": [
            "<class 'pandas.core.frame.DataFrame'>\n",
            "RangeIndex: 5367 entries, 0 to 5366\n",
            "Data columns (total 36 columns):\n",
            " #   Column                        Non-Null Count  Dtype         \n",
            "---  ------                        --------------  -----         \n",
            " 0   loan_id                       5367 non-null   int64         \n",
            " 1   state_code                    5367 non-null   object        \n",
            " 2   county                        5367 non-null   object        \n",
            " 3   conforming_loan_limit         5367 non-null   bool          \n",
            " 4   derived_loan_product_type     5367 non-null   object        \n",
            " 5   derived_dwelling_category     5367 non-null   object        \n",
            " 6   loan_type                     5367 non-null   object        \n",
            " 7   loan_purpose                  5367 non-null   object        \n",
            " 8   lien_position                 5367 non-null   int64         \n",
            " 9   reverse_mortgage              5367 non-null   bool          \n",
            " 10  open-end_line_of_credit       5367 non-null   bool          \n",
            " 11  loan_amount                   5367 non-null   int64         \n",
            " 12  closing_date                  5367 non-null   datetime64[ns]\n",
            " 13  first_payment_date            5367 non-null   datetime64[ns]\n",
            " 14  maturity_date                 5367 non-null   datetime64[ns]\n",
            " 15  loan_term                     5367 non-null   int64         \n",
            " 16  principal_interest_pmt        5367 non-null   float64       \n",
            " 17  interest_rate                 5367 non-null   float64       \n",
            " 18  property_value                5367 non-null   int64         \n",
            " 19  total_loan_costs              5365 non-null   float64       \n",
            " 20  origition_charges             5367 non-null   float64       \n",
            " 21  other_loan_costs              5367 non-null   object        \n",
            " 22  negative_amortization         5367 non-null   bool          \n",
            " 23  interest_only_payment         5367 non-null   int64         \n",
            " 24  balloon_payment               5367 non-null   int64         \n",
            " 25  other_nonamortizing_features  5367 non-null   bool          \n",
            " 26  occupancy_type                5367 non-null   object        \n",
            " 27  manufactured_home             5367 non-null   bool          \n",
            " 28  total_units                   5367 non-null   int64         \n",
            " 29  income_thousands              5367 non-null   object        \n",
            " 30  recurring_monthly_debt        5340 non-null   float64       \n",
            " 31  median_fico_score             5367 non-null   int64         \n",
            " 32  credit_score_type             5367 non-null   object        \n",
            " 33  aus_type                      5304 non-null   object        \n",
            " 34  umbs_code                     5367 non-null   object        \n",
            " 35  target_profit                 5367 non-null   float64       \n",
            "dtypes: bool(6), datetime64[ns](3), float64(6), int64(9), object(12)\n",
            "memory usage: 1.3+ MB\n",
            "loan_id                          0\n",
            "state_code                       0\n",
            "county                           0\n",
            "conforming_loan_limit            0\n",
            "derived_loan_product_type        0\n",
            "derived_dwelling_category        0\n",
            "loan_type                        0\n",
            "loan_purpose                     0\n",
            "lien_position                    0\n",
            "reverse_mortgage                 0\n",
            "open-end_line_of_credit          0\n",
            "loan_amount                      0\n",
            "closing_date                     0\n",
            "first_payment_date               0\n",
            "maturity_date                    0\n",
            "loan_term                        0\n",
            "principal_interest_pmt           0\n",
            "interest_rate                    0\n",
            "property_value                   0\n",
            "total_loan_costs                 2\n",
            "origition_charges                0\n",
            "other_loan_costs                 0\n",
            "negative_amortization            0\n",
            "interest_only_payment            0\n",
            "balloon_payment                  0\n",
            "other_nonamortizing_features     0\n",
            "occupancy_type                   0\n",
            "manufactured_home                0\n",
            "total_units                      0\n",
            "income_thousands                 0\n",
            "recurring_monthly_debt          27\n",
            "median_fico_score                0\n",
            "credit_score_type                0\n",
            "aus_type                        63\n",
            "umbs_code                        0\n",
            "target_profit                    0\n",
            "dtype: int64\n"
          ]
        }
      ]
    },
    {
      "cell_type": "code",
      "source": [
        "loan_status.info()"
      ],
      "metadata": {
        "colab": {
          "base_uri": "https://localhost:8080/"
        },
        "id": "uDfRWSGK32nP",
        "outputId": "460671fc-ce54-49a7-88a6-56d814d20b7e"
      },
      "execution_count": null,
      "outputs": [
        {
          "output_type": "stream",
          "name": "stdout",
          "text": [
            "<class 'pandas.core.frame.DataFrame'>\n",
            "RangeIndex: 5367 entries, 0 to 5366\n",
            "Data columns (total 6 columns):\n",
            " #   Column                  Non-Null Count  Dtype         \n",
            "---  ------                  --------------  -----         \n",
            " 0   loan_id                 5367 non-null   int64         \n",
            " 1   closing_date            5367 non-null   datetime64[ns]\n",
            " 2   file_in_audit           5114 non-null   datetime64[ns]\n",
            " 3   file_audit_complete     4591 non-null   datetime64[ns]\n",
            " 4   file_sent_to_custodian  4207 non-null   datetime64[ns]\n",
            " 5   file_at_custodian       3244 non-null   datetime64[ns]\n",
            "dtypes: datetime64[ns](5), int64(1)\n",
            "memory usage: 251.7 KB\n"
          ]
        }
      ]
    },
    {
      "cell_type": "code",
      "source": [
        "target_profit.info()"
      ],
      "metadata": {
        "colab": {
          "base_uri": "https://localhost:8080/"
        },
        "id": "QVYZ58R94JL4",
        "outputId": "7a5e217d-d9c0-430c-d429-91b1dbf245cd"
      },
      "execution_count": null,
      "outputs": [
        {
          "output_type": "stream",
          "name": "stdout",
          "text": [
            "<class 'pandas.core.frame.DataFrame'>\n",
            "RangeIndex: 5367 entries, 0 to 5366\n",
            "Data columns (total 52 columns):\n",
            " #   Column                        Non-Null Count  Dtype         \n",
            "---  ------                        --------------  -----         \n",
            " 0   loan_id                       5367 non-null   int64         \n",
            " 1   state_code                    5367 non-null   object        \n",
            " 2   county                        5367 non-null   object        \n",
            " 3   conforming_loan_limit         5367 non-null   bool          \n",
            " 4   derived_loan_product_type     5367 non-null   object        \n",
            " 5   derived_dwelling_category     5367 non-null   object        \n",
            " 6   loan_type                     5367 non-null   object        \n",
            " 7   loan_purpose                  5367 non-null   object        \n",
            " 8   lien_position                 5367 non-null   int64         \n",
            " 9   reverse_mortgage              5367 non-null   bool          \n",
            " 10  open-end_line_of_credit       5367 non-null   bool          \n",
            " 11  loan_amount                   5367 non-null   int64         \n",
            " 12  closing_date                  5367 non-null   datetime64[ns]\n",
            " 13  first_payment_date            5367 non-null   datetime64[ns]\n",
            " 14  maturity_date                 5367 non-null   datetime64[ns]\n",
            " 15  loan_term                     5367 non-null   int64         \n",
            " 16  principal_interest_pmt        5367 non-null   float64       \n",
            " 17  interest_rate                 5367 non-null   float64       \n",
            " 18  umbs_code                     5367 non-null   object        \n",
            " 19  property_value                5367 non-null   int64         \n",
            " 20  total_loan_costs              5367 non-null   object        \n",
            " 21  origition_charges             5367 non-null   object        \n",
            " 22  other_loan_costs              5367 non-null   object        \n",
            " 23  lender_credits                39 non-null     object        \n",
            " 24  prepayment_pelty_term         0 non-null      float64       \n",
            " 25  intro_rate_period             85 non-null     float64       \n",
            " 26  negative_amortization         5367 non-null   bool          \n",
            " 27  interest_only_payment         5367 non-null   int64         \n",
            " 28  balloon_payment               5367 non-null   int64         \n",
            " 29  other_nonamortizing_features  5367 non-null   bool          \n",
            " 30  occupancy_type                5367 non-null   object        \n",
            " 31  manufactured_home             5367 non-null   bool          \n",
            " 32  total_units                   5367 non-null   int64         \n",
            " 33  income_thousands              5367 non-null   object        \n",
            " 34  recurring_monthly_debt        5340 non-null   float64       \n",
            " 35  median_fico_score             5367 non-null   int64         \n",
            " 36  credit_score_type             5367 non-null   object        \n",
            " 37  aus_type                      5304 non-null   object        \n",
            " 38  base_margin                   5367 non-null   float64       \n",
            " 39  umbs price                    5367 non-null   object        \n",
            " 40  trade_margin                  5367 non-null   object        \n",
            " 41  Target Profit                 5367 non-null   int64         \n",
            " 42  Trade Premium                 5367 non-null   object        \n",
            " 43  points_and_fees               5367 non-null   object        \n",
            " 44  Total Loan Revenue            5367 non-null   object        \n",
            " 45  Gross Profit                  5367 non-null   object        \n",
            " 46  Profit Margin                 5367 non-null   object        \n",
            " 47  Winning Bid                   5367 non-null   object        \n",
            " 48  Winner                        5367 non-null   object        \n",
            " 49  actual trade premium          5367 non-null   object        \n",
            " 50  acctual loan revenue          1467 non-null   object        \n",
            " 51  actual profit margin          1467 non-null   object        \n",
            "dtypes: bool(6), datetime64[ns](3), float64(6), int64(10), object(27)\n",
            "memory usage: 1.9+ MB\n"
          ]
        }
      ]
    },
    {
      "cell_type": "code",
      "source": [
        "umbs_prices.info()"
      ],
      "metadata": {
        "colab": {
          "base_uri": "https://localhost:8080/"
        },
        "id": "HR7_klZI6Dzx",
        "outputId": "aeb135fa-cd0e-4ed9-b1ce-ecebc624e721"
      },
      "execution_count": null,
      "outputs": [
        {
          "output_type": "stream",
          "name": "stdout",
          "text": [
            "<class 'pandas.core.frame.DataFrame'>\n",
            "RangeIndex: 17 entries, 0 to 16\n",
            "Data columns (total 4 columns):\n",
            " #   Column       Non-Null Count  Dtype  \n",
            "---  ------       --------------  -----  \n",
            " 0   umbs_code    17 non-null     object \n",
            " 1   umbs_coupon  17 non-null     float64\n",
            " 2   umbs_term    17 non-null     int64  \n",
            " 3   umbs_price   17 non-null     float64\n",
            "dtypes: float64(2), int64(1), object(1)\n",
            "memory usage: 672.0+ bytes\n"
          ]
        }
      ]
    },
    {
      "cell_type": "code",
      "source": [
        "# Check for missing values\n",
        "print(loan_balances.isnull().sum())\n",
        "print(loan_bids.isnull().sum())\n",
        "print(loan_data.isnull().sum())  #<<<<<<<\n",
        "print(loan_status.isnull().sum())  #<<<<<<<<\n",
        "print(target_profit.isnull().sum()) #<<<<<<<<\n",
        "print(umbs_prices.isnull().sum())"
      ],
      "metadata": {
        "colab": {
          "base_uri": "https://localhost:8080/"
        },
        "id": "Dr1kaFDt4_BF",
        "outputId": "515b3cca-dd0e-495f-a8ce-3cdc89309eed"
      },
      "execution_count": null,
      "outputs": [
        {
          "output_type": "stream",
          "name": "stdout",
          "text": [
            "loan_id                       0\n",
            "loan_amount                   0\n",
            "first_payment_date            0\n",
            "principal_interest_payment    0\n",
            "interest_rate                 0\n",
            "loan_term                     0\n",
            "next_payment_due_date         0\n",
            "payment_periods_made          0\n",
            "current_balance               0\n",
            "dtype: int64\n",
            "loan_id              0\n",
            "golden_sachs         0\n",
            "storgan_manley       0\n",
            "smells_largo         0\n",
            "bank_of_americans    0\n",
            "pj_logan             0\n",
            "dtype: int64\n",
            "loan_id                            0\n",
            "state_code                         0\n",
            "county                             0\n",
            "conforming_loan_limit              0\n",
            "derived_loan_product_type          0\n",
            "derived_dwelling_category          0\n",
            "loan_type                          0\n",
            "loan_purpose                       0\n",
            "lien_position                      0\n",
            "reverse_mortgage                   0\n",
            "open-end_line_of_credit            0\n",
            "loan_amount                        0\n",
            "closing_date                       0\n",
            "first_payment_date                 0\n",
            "maturity_date                      0\n",
            "loan_term                          0\n",
            "principal_interest_pmt             0\n",
            "interest_rate                      0\n",
            "property_value                     0\n",
            "total_loan_costs                   2\n",
            "origition_charges                  0\n",
            "other_loan_costs                   0\n",
            "lender_credits                  5328\n",
            "prepayment_pelty_term           5367\n",
            "intro_rate_period               5282\n",
            "negative_amortization              0\n",
            "interest_only_payment              0\n",
            "balloon_payment                    0\n",
            "other_nonamortizing_features       0\n",
            "occupancy_type                     0\n",
            "manufactured_home                  0\n",
            "total_units                        0\n",
            "income_thousands                   0\n",
            "recurring_monthly_debt            27\n",
            "median_fico_score                  0\n",
            "credit_score_type                  0\n",
            "aus_type                          63\n",
            "umbs_code                          0\n",
            "target_profit                      0\n",
            "dtype: int64\n",
            "loan_id                      0\n",
            "closing_date                 0\n",
            "file_in_audit              253\n",
            "file_audit_complete        776\n",
            "file_sent_to_custodian    1160\n",
            "file_at_custodian         2123\n",
            "dtype: int64\n",
            "loan_id                            0\n",
            "state_code                         0\n",
            "county                             0\n",
            "conforming_loan_limit              0\n",
            "derived_loan_product_type          0\n",
            "derived_dwelling_category          0\n",
            "loan_type                          0\n",
            "loan_purpose                       0\n",
            "lien_position                      0\n",
            "reverse_mortgage                   0\n",
            "open-end_line_of_credit            0\n",
            "loan_amount                        0\n",
            "closing_date                       0\n",
            "first_payment_date                 0\n",
            "maturity_date                      0\n",
            "loan_term                          0\n",
            "principal_interest_pmt             0\n",
            "interest_rate                      0\n",
            "umbs_code                          0\n",
            "property_value                     0\n",
            "total_loan_costs                   2\n",
            "origition_charges                  0\n",
            "other_loan_costs                   0\n",
            "lender_credits                  5328\n",
            "prepayment_pelty_term           5367\n",
            "intro_rate_period               5282\n",
            "negative_amortization              0\n",
            "interest_only_payment              0\n",
            "balloon_payment                    0\n",
            "other_nonamortizing_features       0\n",
            "occupancy_type                     0\n",
            "manufactured_home                  0\n",
            "total_units                        0\n",
            "income_thousands                   0\n",
            "recurring_monthly_debt            27\n",
            "median_fico_score                  0\n",
            "credit_score_type                  0\n",
            "aus_type                          63\n",
            "base_margin                        0\n",
            "umbs price                         0\n",
            "trade_margin                       0\n",
            "Target Profit                      0\n",
            "Trade Premium                      0\n",
            "points_and_fees                    0\n",
            "Total Loan Revenue                 0\n",
            "Gross Profit                       2\n",
            "Profit Margin                      2\n",
            "Winning Bid                        0\n",
            "Winner                             0\n",
            "actual trade premium               0\n",
            "acctual loan revenue            3900\n",
            "actual profit margin            3900\n",
            "dtype: int64\n",
            "umbs_code      0\n",
            "umbs_coupon    0\n",
            "umbs_term      0\n",
            "umbs_price     0\n",
            "dtype: int64\n"
          ]
        }
      ]
    },
    {
      "cell_type": "markdown",
      "source": [
        "# Data Cleaning"
      ],
      "metadata": {
        "id": "-256ILsj6b3R"
      }
    },
    {
      "cell_type": "markdown",
      "source": [
        "## 3 data frame have missing values\n",
        "##loan_data\n",
        "##loan_status\n",
        "##target_profit"
      ],
      "metadata": {
        "id": "1b0lKz3B6hDC"
      }
    },
    {
      "cell_type": "code",
      "source": [
        "# Define the columns to drop\n",
        "columns_to_drop_loan_data = ['lender_credits', 'prepayment_pelty_term', 'intro_rate_period','derived_loan_product_type','derived_dwelling_category','loan_type','lien_position','reverse_mortgage','open-end_line_of_credit','negative_amortization','interest_only_payment','balloon_payment','other_nonamortizing_features','manufactured_home']\n",
        "columns_to_drop_target_profit = ['lender_credits', 'prepayment_pelty_term', 'intro_rate_period', 'derived_loan_product_type','derived_dwelling_category','loan_type','lien_position','reverse_mortgage','open-end_line_of_credit','negative_amortization','interest_only_payment','balloon_payment','other_nonamortizing_features','manufactured_home' ,'acctual loan revenue', 'actual profit margin','base_margin']#,'total_loan_costs','base_margin'\n",
        "\n",
        "# Drop columns from loan_data DataFrame\n",
        "loan_data.drop(columns=columns_to_drop_loan_data, inplace=True, errors='ignore')\n",
        "\n",
        "# Drop columns from target_profit DataFrame\n",
        "target_profit.drop(columns=columns_to_drop_target_profit, inplace=True, errors='ignore')\n"
      ],
      "metadata": {
        "id": "jlW4GSgK6bMM"
      },
      "execution_count": null,
      "outputs": []
    },
    {
      "cell_type": "code",
      "source": [
        "import pandas as pd\n",
        "import numpy as np\n",
        "\n",
        "# Ensure all values in 'total_loan_costs' are strings\n",
        "loan_data['total_loan_costs'] = loan_data['total_loan_costs'].astype(str)\n",
        "\n",
        "# Replace '#VALUE!' with NaN\n",
        "loan_data['total_loan_costs'] = loan_data['total_loan_costs'].replace('#VALUE!', np.nan)\n",
        "\n",
        "# Remove parentheses and commas\n",
        "loan_data['total_loan_costs'] = loan_data['total_loan_costs'].str.replace('[\\(\\)]', '', regex=True)\n",
        "loan_data['total_loan_costs'] = loan_data['total_loan_costs'].str.replace(',', '')\n",
        "\n",
        "# Convert to float and handle errors\n",
        "loan_data['total_loan_costs'] = pd.to_numeric(loan_data['total_loan_costs'], errors='coerce')\n",
        "\n",
        "# Fill NaN values with the mean of the column\n",
        "loan_data_mean_value = loan_data['total_loan_costs'].mean()\n",
        "loan_data['total_loan_costs'].fillna(loan_data_mean_value, inplace=True)\n",
        "\n",
        "print(loan_data['total_loan_costs'].head())\n"
      ],
      "metadata": {
        "colab": {
          "base_uri": "https://localhost:8080/"
        },
        "id": "yY0lqmF4ZHX4",
        "outputId": "dece7d4e-3073-4108-b35a-4dcb4f1ead6e"
      },
      "execution_count": null,
      "outputs": [
        {
          "output_type": "stream",
          "name": "stdout",
          "text": [
            "0    10736.5\n",
            "1      843.5\n",
            "2     5450.0\n",
            "3     2078.3\n",
            "4    27392.0\n",
            "Name: total_loan_costs, dtype: float64\n"
          ]
        }
      ]
    },
    {
      "cell_type": "code",
      "source": [
        "# Ensure all values in 'total_loan_costs' are strings\n",
        "target_profit['total_loan_costs'] = target_profit['total_loan_costs'].astype(str)\n",
        "\n",
        "# Replace '#VALUE!' with NaN\n",
        "target_profit['total_loan_costs'] = target_profit['total_loan_costs'].replace('#VALUE!', np.nan)\n",
        "\n",
        "# Remove parentheses and commas\n",
        "target_profit['total_loan_costs'] = target_profit['total_loan_costs'].str.replace('[\\(\\)]', '', regex=True)\n",
        "target_profit['total_loan_costs'] = target_profit['total_loan_costs'].str.replace(',', '')\n",
        "\n",
        "# Convert to float and handle errors\n",
        "target_profit['total_loan_costs'] = pd.to_numeric(target_profit['total_loan_costs'], errors='coerce')\n",
        "\n",
        "# Fill NaN values with the mean of the column\n",
        "loan_data_mean_value = target_profit['total_loan_costs'].mean()\n",
        "target_profit['total_loan_costs'].fillna(loan_data_mean_value, inplace=True)\n",
        "\n",
        "print(target_profit['total_loan_costs'].head())\n"
      ],
      "metadata": {
        "colab": {
          "base_uri": "https://localhost:8080/"
        },
        "id": "rt4u5Vl6NwBh",
        "outputId": "4b7e3d59-6914-4e5a-c6c0-809308cc464d"
      },
      "execution_count": null,
      "outputs": [
        {
          "output_type": "stream",
          "name": "stdout",
          "text": [
            "0    10736.5\n",
            "1      843.5\n",
            "2     5450.0\n",
            "3     2078.3\n",
            "4    27392.0\n",
            "Name: total_loan_costs, dtype: float64\n"
          ]
        }
      ]
    },
    {
      "cell_type": "code",
      "source": [
        "# Check if columns are dropped\n",
        "print(loan_data.columns)\n",
        "print(target_profit.columns)\n",
        "\n",
        "loan_data_columns = []\n",
        "for i in loan_data.columns:\n",
        "  loan_data_columns.append(i)\n",
        "\n",
        "target_profit_columns = []\n",
        "for i in target_profit.columns:\n",
        "  target_profit_columns.append(i)\n",
        "\n",
        "unique = []\n",
        "for i in target_profit_columns:\n",
        "  if i not in loan_data_columns:\n",
        "    unique.append(i)\n",
        "print(unique)"
      ],
      "metadata": {
        "colab": {
          "base_uri": "https://localhost:8080/"
        },
        "id": "ZSd6UVPU4_vM",
        "outputId": "2b7782cb-d3c4-444a-8f20-3baf2532d6da"
      },
      "execution_count": null,
      "outputs": [
        {
          "output_type": "stream",
          "name": "stdout",
          "text": [
            "Index(['loan_id', 'state_code', 'county', 'conforming_loan_limit',\n",
            "       'loan_purpose', 'loan_amount', 'closing_date', 'first_payment_date',\n",
            "       'maturity_date', 'loan_term', 'principal_interest_pmt', 'interest_rate',\n",
            "       'property_value', 'total_loan_costs', 'origition_charges',\n",
            "       'other_loan_costs', 'occupancy_type', 'total_units', 'income_thousands',\n",
            "       'recurring_monthly_debt', 'median_fico_score', 'credit_score_type',\n",
            "       'aus_type', 'umbs_code', 'target_profit'],\n",
            "      dtype='object')\n",
            "Index(['loan_id', 'state_code', 'county', 'conforming_loan_limit',\n",
            "       'loan_purpose', 'loan_amount', 'closing_date', 'first_payment_date',\n",
            "       'maturity_date', 'loan_term', 'principal_interest_pmt', 'interest_rate',\n",
            "       'umbs_code', 'property_value', 'total_loan_costs', 'origition_charges',\n",
            "       'other_loan_costs', 'occupancy_type', 'total_units', 'income_thousands',\n",
            "       'recurring_monthly_debt', 'median_fico_score', 'credit_score_type',\n",
            "       'aus_type', 'umbs price', 'trade_margin', 'Target Profit',\n",
            "       'Trade Premium', 'points_and_fees', 'Total Loan Revenue',\n",
            "       'Gross Profit', 'Profit Margin', 'Winning Bid', 'Winner',\n",
            "       'actual trade premium'],\n",
            "      dtype='object')\n",
            "['umbs price', 'trade_margin', 'Target Profit', 'Trade Premium', 'points_and_fees', 'Total Loan Revenue', 'Gross Profit', 'Profit Margin', 'Winning Bid', 'Winner', 'actual trade premium']\n"
          ]
        }
      ]
    },
    {
      "cell_type": "markdown",
      "source": [
        "# drop empty rows"
      ],
      "metadata": {
        "id": "NSJZtrQ8JKWE"
      }
    },
    {
      "cell_type": "markdown",
      "source": [
        "##loan_status"
      ],
      "metadata": {
        "id": "JJF2oHk2Mccd"
      }
    },
    {
      "cell_type": "code",
      "source": [
        "'''\n",
        "# Drop rows with missing values in file_at_custodian in loan_status DataFrame\n",
        "loan_status_cleaned = loan_status.dropna(subset=['file_at_custodian'])\n",
        "'''"
      ],
      "metadata": {
        "id": "5gzNAUIlTN75"
      },
      "execution_count": null,
      "outputs": []
    },
    {
      "cell_type": "code",
      "source": [
        "'''\n",
        "columns_to_drop_loan_status_cleaned = ['file_in_audit', 'file_audit_complete']\n",
        "# Drop columns from loan_status DataFrame\n",
        "loan_status_cleaned.drop(columns=columns_to_drop_loan_status_cleaned, inplace=True, errors='ignore')\n",
        "'''"
      ],
      "metadata": {
        "id": "dHthW_SXNvE1",
        "colab": {
          "base_uri": "https://localhost:8080/"
        },
        "outputId": "3a98364d-a624-468d-c012-c94245008c6a"
      },
      "execution_count": null,
      "outputs": [
        {
          "output_type": "stream",
          "name": "stderr",
          "text": [
            "<ipython-input-67-8df57f978e5c>:3: SettingWithCopyWarning: \n",
            "A value is trying to be set on a copy of a slice from a DataFrame\n",
            "\n",
            "See the caveats in the documentation: https://pandas.pydata.org/pandas-docs/stable/user_guide/indexing.html#returning-a-view-versus-a-copy\n",
            "  loan_status_cleaned.drop(columns=columns_to_drop_loan_status_cleaned, inplace=True, errors='ignore')\n"
          ]
        }
      ]
    },
    {
      "cell_type": "code",
      "source": [
        "'''\n",
        "## You can specify a subset of columns to consider when identifying duplicates. then keeping only the first occurrence by default\n",
        "loan_status_cleaned.drop_duplicates(subset=['loan_id'], inplace=True)\n",
        "'''"
      ],
      "metadata": {
        "id": "fzBQJCc-PTfx",
        "colab": {
          "base_uri": "https://localhost:8080/"
        },
        "outputId": "dc04360d-af6c-4756-d65a-22a476d8956b"
      },
      "execution_count": null,
      "outputs": [
        {
          "output_type": "stream",
          "name": "stderr",
          "text": [
            "<ipython-input-68-1ef279b240a0>:2: SettingWithCopyWarning: \n",
            "A value is trying to be set on a copy of a slice from a DataFrame\n",
            "\n",
            "See the caveats in the documentation: https://pandas.pydata.org/pandas-docs/stable/user_guide/indexing.html#returning-a-view-versus-a-copy\n",
            "  loan_status_cleaned.drop_duplicates(subset=['loan_id'], inplace=True)\n"
          ]
        }
      ]
    },
    {
      "cell_type": "code",
      "source": [
        "#loan_status_cleaned.info()"
      ],
      "metadata": {
        "id": "D5DmxYdBSFuO",
        "colab": {
          "base_uri": "https://localhost:8080/"
        },
        "outputId": "4ebc3a64-24c7-4c0d-df7d-6a76aeda1851"
      },
      "execution_count": null,
      "outputs": [
        {
          "output_type": "stream",
          "name": "stdout",
          "text": [
            "<class 'pandas.core.frame.DataFrame'>\n",
            "Index: 3244 entries, 14 to 3669\n",
            "Data columns (total 4 columns):\n",
            " #   Column                  Non-Null Count  Dtype         \n",
            "---  ------                  --------------  -----         \n",
            " 0   loan_id                 3244 non-null   int64         \n",
            " 1   closing_date            3244 non-null   datetime64[ns]\n",
            " 2   file_sent_to_custodian  3244 non-null   datetime64[ns]\n",
            " 3   file_at_custodian       3244 non-null   datetime64[ns]\n",
            "dtypes: datetime64[ns](3), int64(1)\n",
            "memory usage: 126.7 KB\n"
          ]
        }
      ]
    },
    {
      "cell_type": "markdown",
      "source": [
        "##loan_balances"
      ],
      "metadata": {
        "id": "wgDMpmxAMXYt"
      }
    },
    {
      "cell_type": "code",
      "source": [
        "# if you have no id type colums mean use below code\n",
        "#It identifies duplicate rows and removes them, keeping only the first occurrence by default.\n",
        "loan_balances.drop_duplicates(inplace=True)"
      ],
      "metadata": {
        "id": "5ItukkJuUM0f"
      },
      "execution_count": null,
      "outputs": []
    },
    {
      "cell_type": "code",
      "source": [
        "loan_balances.info()"
      ],
      "metadata": {
        "colab": {
          "base_uri": "https://localhost:8080/"
        },
        "id": "1vrRGJI4MBzX",
        "outputId": "ed52f527-e683-42e9-d8d4-b9021de4a6c4"
      },
      "execution_count": null,
      "outputs": [
        {
          "output_type": "stream",
          "name": "stdout",
          "text": [
            "<class 'pandas.core.frame.DataFrame'>\n",
            "RangeIndex: 5367 entries, 0 to 5366\n",
            "Data columns (total 9 columns):\n",
            " #   Column                      Non-Null Count  Dtype         \n",
            "---  ------                      --------------  -----         \n",
            " 0   loan_id                     5367 non-null   int64         \n",
            " 1   loan_amount                 5367 non-null   int64         \n",
            " 2   first_payment_date          5367 non-null   datetime64[ns]\n",
            " 3   principal_interest_payment  5367 non-null   float64       \n",
            " 4   interest_rate               5367 non-null   float64       \n",
            " 5   loan_term                   5367 non-null   int64         \n",
            " 6   next_payment_due_date       5367 non-null   datetime64[ns]\n",
            " 7   payment_periods_made        5367 non-null   int64         \n",
            " 8                               5367 non-null   float64       \n",
            "dtypes: datetime64[ns](2), float64(3), int64(4)\n",
            "memory usage: 377.5 KB\n"
          ]
        }
      ]
    },
    {
      "cell_type": "markdown",
      "source": [
        "##loan_data"
      ],
      "metadata": {
        "id": "8g_l2yA9N6t2"
      }
    },
    {
      "cell_type": "code",
      "source": [
        "loan_data.info()\n",
        "\n",
        "print(loan_data.isnull().sum())"
      ],
      "metadata": {
        "colab": {
          "base_uri": "https://localhost:8080/"
        },
        "id": "FfhdabMGN508",
        "outputId": "945230f2-e726-4882-e1c3-43c71d4869a5"
      },
      "execution_count": null,
      "outputs": [
        {
          "output_type": "stream",
          "name": "stdout",
          "text": [
            "<class 'pandas.core.frame.DataFrame'>\n",
            "RangeIndex: 5367 entries, 0 to 5366\n",
            "Data columns (total 25 columns):\n",
            " #   Column                  Non-Null Count  Dtype         \n",
            "---  ------                  --------------  -----         \n",
            " 0   loan_id                 5367 non-null   int64         \n",
            " 1   state_code              5367 non-null   object        \n",
            " 2   county                  5367 non-null   object        \n",
            " 3   conforming_loan_limit   5367 non-null   bool          \n",
            " 4   loan_purpose            5367 non-null   object        \n",
            " 5   loan_amount             5367 non-null   int64         \n",
            " 6   closing_date            5367 non-null   datetime64[ns]\n",
            " 7   first_payment_date      5367 non-null   datetime64[ns]\n",
            " 8   maturity_date           5367 non-null   datetime64[ns]\n",
            " 9   loan_term               5367 non-null   int64         \n",
            " 10  principal_interest_pmt  5367 non-null   float64       \n",
            " 11  interest_rate           5367 non-null   float64       \n",
            " 12  property_value          5367 non-null   int64         \n",
            " 13  total_loan_costs        5367 non-null   float64       \n",
            " 14  origition_charges       5367 non-null   float64       \n",
            " 15  other_loan_costs        5367 non-null   object        \n",
            " 16  occupancy_type          5367 non-null   object        \n",
            " 17  total_units             5367 non-null   int64         \n",
            " 18  income_thousands        5367 non-null   object        \n",
            " 19  recurring_monthly_debt  5340 non-null   float64       \n",
            " 20  median_fico_score       5367 non-null   int64         \n",
            " 21  credit_score_type       5367 non-null   object        \n",
            " 22  aus_type                5304 non-null   object        \n",
            " 23  umbs_code               5367 non-null   object        \n",
            " 24  target_profit           5367 non-null   float64       \n",
            "dtypes: bool(1), datetime64[ns](3), float64(6), int64(6), object(9)\n",
            "memory usage: 1011.7+ KB\n",
            "loan_id                    0\n",
            "state_code                 0\n",
            "county                     0\n",
            "conforming_loan_limit      0\n",
            "loan_purpose               0\n",
            "loan_amount                0\n",
            "closing_date               0\n",
            "first_payment_date         0\n",
            "maturity_date              0\n",
            "loan_term                  0\n",
            "principal_interest_pmt     0\n",
            "interest_rate              0\n",
            "property_value             0\n",
            "total_loan_costs           0\n",
            "origition_charges          0\n",
            "other_loan_costs           0\n",
            "occupancy_type             0\n",
            "total_units                0\n",
            "income_thousands           0\n",
            "recurring_monthly_debt    27\n",
            "median_fico_score          0\n",
            "credit_score_type          0\n",
            "aus_type                  63\n",
            "umbs_code                  0\n",
            "target_profit              0\n",
            "dtype: int64\n"
          ]
        }
      ]
    },
    {
      "cell_type": "code",
      "source": [
        "loan_data['total_loan_costs'].fillna(loan_data['total_loan_costs'].mean(), inplace=True)\n",
        "loan_data['recurring_monthly_debt'].fillna(loan_data['recurring_monthly_debt'].mean(), inplace=True)\n",
        "loan_data['aus_type'].fillna(loan_data['aus_type'].mode()[0], inplace=True)"
      ],
      "metadata": {
        "id": "xj2Z9F9ZMSqX"
      },
      "execution_count": null,
      "outputs": []
    },
    {
      "cell_type": "code",
      "source": [
        "# Check the unique values in loan_purpose column\n",
        "print(loan_data['total_loan_costs'].unique())\n",
        "print(len(loan_data['total_loan_costs'].unique()))"
      ],
      "metadata": {
        "colab": {
          "base_uri": "https://localhost:8080/"
        },
        "id": "KDdPe4AnblSh",
        "outputId": "a72e2320-b73e-44db-e41b-253224943f37"
      },
      "execution_count": null,
      "outputs": [
        {
          "output_type": "stream",
          "name": "stdout",
          "text": [
            "[10736.5    843.5   5450.   ...  4274.5   4814.5  12880.58]\n",
            "5094\n"
          ]
        }
      ]
    },
    {
      "cell_type": "code",
      "source": [
        "loan_data"
      ],
      "metadata": {
        "colab": {
          "base_uri": "https://localhost:8080/",
          "height": 617
        },
        "id": "9hehnxGBXCO0",
        "outputId": "bccbf41e-e237-4c1b-fb6b-e25b28c11ad1"
      },
      "execution_count": null,
      "outputs": [
        {
          "output_type": "execute_result",
          "data": {
            "text/plain": [
              "      loan_id state_code           county  conforming_loan_limit  \\\n",
              "0     5021367         CA   Los Angeles                      True   \n",
              "1     5021373         CA         Lake                       True   \n",
              "2     5021380         CA         Kern                       True   \n",
              "3     5021427         NC      Forsyth                       True   \n",
              "4     5021446         MA    Middlesex                       True   \n",
              "...       ...        ...              ...                    ...   \n",
              "5362  5037265         OR     Columbia                       True   \n",
              "5363  5037439         CA  Contra Costa                      True   \n",
              "5364  5037440         AZ     Maricopa                       True   \n",
              "5365  5037498         WI    Milwaukee                       True   \n",
              "5366  5037550         OH       Warren                       True   \n",
              "\n",
              "            loan_purpose  loan_amount closing_date first_payment_date  \\\n",
              "0            Refinancing       545000   2021-08-27         2021-10-01   \n",
              "1            Refinancing       135000   2021-08-31         2021-10-01   \n",
              "2            Refinancing       125000   2021-09-01         2021-10-01   \n",
              "3            Refinancing       125000   2021-09-09         2021-10-01   \n",
              "4            Refinancing       535000   2021-09-11         2021-10-01   \n",
              "...                  ...          ...          ...                ...   \n",
              "5362         Refinancing       205000   2021-09-17         2021-11-01   \n",
              "5363         Refinancing       765000   2021-08-30         2021-10-01   \n",
              "5364       Home purchase       515000   2021-09-14         2021-10-01   \n",
              "5365  Cash-out refinance       175000   2021-09-08         2021-10-01   \n",
              "5366         Refinancing       215000   2021-09-03         2021-10-01   \n",
              "\n",
              "     maturity_date  loan_term  ...  other_loan_costs       occupancy_type  \\\n",
              "0       2041-09-01        240  ...                 0    Primary residence   \n",
              "1       2051-09-01        360  ...               317    Primary residence   \n",
              "2       2036-09-01        180  ...            3187.5  Investment property   \n",
              "3       2051-09-01        360  ...            1590.8    Primary residence   \n",
              "4       2051-09-01        360  ...                 0    Primary residence   \n",
              "...            ...        ...  ...               ...                  ...   \n",
              "5362    2036-10-01        180  ...              1657    Primary residence   \n",
              "5363    2051-09-01        360  ...           2067.95    Primary residence   \n",
              "5364    2051-09-01        360  ...                 0    Primary residence   \n",
              "5365    2051-09-01        360  ...              1647    Primary residence   \n",
              "5366    2041-09-01        240  ...           1872.58    Primary residence   \n",
              "\n",
              "      total_units  income_thousands  recurring_monthly_debt median_fico_score  \\\n",
              "0               1               108                  4230.0               620   \n",
              "1               1                89                  3635.0               620   \n",
              "2               3               142                  5325.0               620   \n",
              "3               1                32                  1120.0               620   \n",
              "4               1               122                  3864.0               620   \n",
              "...           ...               ...                     ...               ...   \n",
              "5362            1                75                  2250.0               853   \n",
              "5363            1               194                  3557.0               855   \n",
              "5364            1               135                  4500.0               856   \n",
              "5365            1                85                  3188.0               859   \n",
              "5366            1               109                  2998.0               886   \n",
              "\n",
              "            credit_score_type  aus_type      umbs_code  target_profit  \n",
              "0          Equifax Beacon 5.0        LP  UMBS 15YR 2.0        27250.0  \n",
              "1         Experian Fair Isaac        LP  UMBS 30YR 3.0         6750.0  \n",
              "2         Experian Fair Isaac        LP  UMBS 30YR 2.5         6250.0  \n",
              "3          Equifax Beacon 5.0        LP  UMBS 30YR 3.0         6250.0  \n",
              "4          Equifax Beacon 5.0        DU  UMBS 30YR 2.0        26750.0  \n",
              "...                       ...       ...            ...            ...  \n",
              "5362       Equifax Beacon 5.0        DU  UMBS 30YR 2.0        10250.0  \n",
              "5363       Equifax Beacon 5.0        DU  UMBS 15YR 2.0        38250.0  \n",
              "5364      Experian Fair Isaac        DU  UMBS 15YR 2.5        25750.0  \n",
              "5365      Experian Fair Isaac        LP  UMBS 30YR 2.5         8750.0  \n",
              "5366  FICO Risk Score Classic        DU  UMBS 30YR 2.0        10750.0  \n",
              "\n",
              "[5367 rows x 25 columns]"
            ],
            "text/html": [
              "\n",
              "  <div id=\"df-ec2f3968-ac0a-41f8-9743-40077c0b8191\" class=\"colab-df-container\">\n",
              "    <div>\n",
              "<style scoped>\n",
              "    .dataframe tbody tr th:only-of-type {\n",
              "        vertical-align: middle;\n",
              "    }\n",
              "\n",
              "    .dataframe tbody tr th {\n",
              "        vertical-align: top;\n",
              "    }\n",
              "\n",
              "    .dataframe thead th {\n",
              "        text-align: right;\n",
              "    }\n",
              "</style>\n",
              "<table border=\"1\" class=\"dataframe\">\n",
              "  <thead>\n",
              "    <tr style=\"text-align: right;\">\n",
              "      <th></th>\n",
              "      <th>loan_id</th>\n",
              "      <th>state_code</th>\n",
              "      <th>county</th>\n",
              "      <th>conforming_loan_limit</th>\n",
              "      <th>loan_purpose</th>\n",
              "      <th>loan_amount</th>\n",
              "      <th>closing_date</th>\n",
              "      <th>first_payment_date</th>\n",
              "      <th>maturity_date</th>\n",
              "      <th>loan_term</th>\n",
              "      <th>...</th>\n",
              "      <th>other_loan_costs</th>\n",
              "      <th>occupancy_type</th>\n",
              "      <th>total_units</th>\n",
              "      <th>income_thousands</th>\n",
              "      <th>recurring_monthly_debt</th>\n",
              "      <th>median_fico_score</th>\n",
              "      <th>credit_score_type</th>\n",
              "      <th>aus_type</th>\n",
              "      <th>umbs_code</th>\n",
              "      <th>target_profit</th>\n",
              "    </tr>\n",
              "  </thead>\n",
              "  <tbody>\n",
              "    <tr>\n",
              "      <th>0</th>\n",
              "      <td>5021367</td>\n",
              "      <td>CA</td>\n",
              "      <td>Los Angeles</td>\n",
              "      <td>True</td>\n",
              "      <td>Refinancing</td>\n",
              "      <td>545000</td>\n",
              "      <td>2021-08-27</td>\n",
              "      <td>2021-10-01</td>\n",
              "      <td>2041-09-01</td>\n",
              "      <td>240</td>\n",
              "      <td>...</td>\n",
              "      <td>0</td>\n",
              "      <td>Primary residence</td>\n",
              "      <td>1</td>\n",
              "      <td>108</td>\n",
              "      <td>4230.0</td>\n",
              "      <td>620</td>\n",
              "      <td>Equifax Beacon 5.0</td>\n",
              "      <td>LP</td>\n",
              "      <td>UMBS 15YR 2.0</td>\n",
              "      <td>27250.0</td>\n",
              "    </tr>\n",
              "    <tr>\n",
              "      <th>1</th>\n",
              "      <td>5021373</td>\n",
              "      <td>CA</td>\n",
              "      <td>Lake</td>\n",
              "      <td>True</td>\n",
              "      <td>Refinancing</td>\n",
              "      <td>135000</td>\n",
              "      <td>2021-08-31</td>\n",
              "      <td>2021-10-01</td>\n",
              "      <td>2051-09-01</td>\n",
              "      <td>360</td>\n",
              "      <td>...</td>\n",
              "      <td>317</td>\n",
              "      <td>Primary residence</td>\n",
              "      <td>1</td>\n",
              "      <td>89</td>\n",
              "      <td>3635.0</td>\n",
              "      <td>620</td>\n",
              "      <td>Experian Fair Isaac</td>\n",
              "      <td>LP</td>\n",
              "      <td>UMBS 30YR 3.0</td>\n",
              "      <td>6750.0</td>\n",
              "    </tr>\n",
              "    <tr>\n",
              "      <th>2</th>\n",
              "      <td>5021380</td>\n",
              "      <td>CA</td>\n",
              "      <td>Kern</td>\n",
              "      <td>True</td>\n",
              "      <td>Refinancing</td>\n",
              "      <td>125000</td>\n",
              "      <td>2021-09-01</td>\n",
              "      <td>2021-10-01</td>\n",
              "      <td>2036-09-01</td>\n",
              "      <td>180</td>\n",
              "      <td>...</td>\n",
              "      <td>3187.5</td>\n",
              "      <td>Investment property</td>\n",
              "      <td>3</td>\n",
              "      <td>142</td>\n",
              "      <td>5325.0</td>\n",
              "      <td>620</td>\n",
              "      <td>Experian Fair Isaac</td>\n",
              "      <td>LP</td>\n",
              "      <td>UMBS 30YR 2.5</td>\n",
              "      <td>6250.0</td>\n",
              "    </tr>\n",
              "    <tr>\n",
              "      <th>3</th>\n",
              "      <td>5021427</td>\n",
              "      <td>NC</td>\n",
              "      <td>Forsyth</td>\n",
              "      <td>True</td>\n",
              "      <td>Refinancing</td>\n",
              "      <td>125000</td>\n",
              "      <td>2021-09-09</td>\n",
              "      <td>2021-10-01</td>\n",
              "      <td>2051-09-01</td>\n",
              "      <td>360</td>\n",
              "      <td>...</td>\n",
              "      <td>1590.8</td>\n",
              "      <td>Primary residence</td>\n",
              "      <td>1</td>\n",
              "      <td>32</td>\n",
              "      <td>1120.0</td>\n",
              "      <td>620</td>\n",
              "      <td>Equifax Beacon 5.0</td>\n",
              "      <td>LP</td>\n",
              "      <td>UMBS 30YR 3.0</td>\n",
              "      <td>6250.0</td>\n",
              "    </tr>\n",
              "    <tr>\n",
              "      <th>4</th>\n",
              "      <td>5021446</td>\n",
              "      <td>MA</td>\n",
              "      <td>Middlesex</td>\n",
              "      <td>True</td>\n",
              "      <td>Refinancing</td>\n",
              "      <td>535000</td>\n",
              "      <td>2021-09-11</td>\n",
              "      <td>2021-10-01</td>\n",
              "      <td>2051-09-01</td>\n",
              "      <td>360</td>\n",
              "      <td>...</td>\n",
              "      <td>0</td>\n",
              "      <td>Primary residence</td>\n",
              "      <td>1</td>\n",
              "      <td>122</td>\n",
              "      <td>3864.0</td>\n",
              "      <td>620</td>\n",
              "      <td>Equifax Beacon 5.0</td>\n",
              "      <td>DU</td>\n",
              "      <td>UMBS 30YR 2.0</td>\n",
              "      <td>26750.0</td>\n",
              "    </tr>\n",
              "    <tr>\n",
              "      <th>...</th>\n",
              "      <td>...</td>\n",
              "      <td>...</td>\n",
              "      <td>...</td>\n",
              "      <td>...</td>\n",
              "      <td>...</td>\n",
              "      <td>...</td>\n",
              "      <td>...</td>\n",
              "      <td>...</td>\n",
              "      <td>...</td>\n",
              "      <td>...</td>\n",
              "      <td>...</td>\n",
              "      <td>...</td>\n",
              "      <td>...</td>\n",
              "      <td>...</td>\n",
              "      <td>...</td>\n",
              "      <td>...</td>\n",
              "      <td>...</td>\n",
              "      <td>...</td>\n",
              "      <td>...</td>\n",
              "      <td>...</td>\n",
              "      <td>...</td>\n",
              "    </tr>\n",
              "    <tr>\n",
              "      <th>5362</th>\n",
              "      <td>5037265</td>\n",
              "      <td>OR</td>\n",
              "      <td>Columbia</td>\n",
              "      <td>True</td>\n",
              "      <td>Refinancing</td>\n",
              "      <td>205000</td>\n",
              "      <td>2021-09-17</td>\n",
              "      <td>2021-11-01</td>\n",
              "      <td>2036-10-01</td>\n",
              "      <td>180</td>\n",
              "      <td>...</td>\n",
              "      <td>1657</td>\n",
              "      <td>Primary residence</td>\n",
              "      <td>1</td>\n",
              "      <td>75</td>\n",
              "      <td>2250.0</td>\n",
              "      <td>853</td>\n",
              "      <td>Equifax Beacon 5.0</td>\n",
              "      <td>DU</td>\n",
              "      <td>UMBS 30YR 2.0</td>\n",
              "      <td>10250.0</td>\n",
              "    </tr>\n",
              "    <tr>\n",
              "      <th>5363</th>\n",
              "      <td>5037439</td>\n",
              "      <td>CA</td>\n",
              "      <td>Contra Costa</td>\n",
              "      <td>True</td>\n",
              "      <td>Refinancing</td>\n",
              "      <td>765000</td>\n",
              "      <td>2021-08-30</td>\n",
              "      <td>2021-10-01</td>\n",
              "      <td>2051-09-01</td>\n",
              "      <td>360</td>\n",
              "      <td>...</td>\n",
              "      <td>2067.95</td>\n",
              "      <td>Primary residence</td>\n",
              "      <td>1</td>\n",
              "      <td>194</td>\n",
              "      <td>3557.0</td>\n",
              "      <td>855</td>\n",
              "      <td>Equifax Beacon 5.0</td>\n",
              "      <td>DU</td>\n",
              "      <td>UMBS 15YR 2.0</td>\n",
              "      <td>38250.0</td>\n",
              "    </tr>\n",
              "    <tr>\n",
              "      <th>5364</th>\n",
              "      <td>5037440</td>\n",
              "      <td>AZ</td>\n",
              "      <td>Maricopa</td>\n",
              "      <td>True</td>\n",
              "      <td>Home purchase</td>\n",
              "      <td>515000</td>\n",
              "      <td>2021-09-14</td>\n",
              "      <td>2021-10-01</td>\n",
              "      <td>2051-09-01</td>\n",
              "      <td>360</td>\n",
              "      <td>...</td>\n",
              "      <td>0</td>\n",
              "      <td>Primary residence</td>\n",
              "      <td>1</td>\n",
              "      <td>135</td>\n",
              "      <td>4500.0</td>\n",
              "      <td>856</td>\n",
              "      <td>Experian Fair Isaac</td>\n",
              "      <td>DU</td>\n",
              "      <td>UMBS 15YR 2.5</td>\n",
              "      <td>25750.0</td>\n",
              "    </tr>\n",
              "    <tr>\n",
              "      <th>5365</th>\n",
              "      <td>5037498</td>\n",
              "      <td>WI</td>\n",
              "      <td>Milwaukee</td>\n",
              "      <td>True</td>\n",
              "      <td>Cash-out refinance</td>\n",
              "      <td>175000</td>\n",
              "      <td>2021-09-08</td>\n",
              "      <td>2021-10-01</td>\n",
              "      <td>2051-09-01</td>\n",
              "      <td>360</td>\n",
              "      <td>...</td>\n",
              "      <td>1647</td>\n",
              "      <td>Primary residence</td>\n",
              "      <td>1</td>\n",
              "      <td>85</td>\n",
              "      <td>3188.0</td>\n",
              "      <td>859</td>\n",
              "      <td>Experian Fair Isaac</td>\n",
              "      <td>LP</td>\n",
              "      <td>UMBS 30YR 2.5</td>\n",
              "      <td>8750.0</td>\n",
              "    </tr>\n",
              "    <tr>\n",
              "      <th>5366</th>\n",
              "      <td>5037550</td>\n",
              "      <td>OH</td>\n",
              "      <td>Warren</td>\n",
              "      <td>True</td>\n",
              "      <td>Refinancing</td>\n",
              "      <td>215000</td>\n",
              "      <td>2021-09-03</td>\n",
              "      <td>2021-10-01</td>\n",
              "      <td>2041-09-01</td>\n",
              "      <td>240</td>\n",
              "      <td>...</td>\n",
              "      <td>1872.58</td>\n",
              "      <td>Primary residence</td>\n",
              "      <td>1</td>\n",
              "      <td>109</td>\n",
              "      <td>2998.0</td>\n",
              "      <td>886</td>\n",
              "      <td>FICO Risk Score Classic</td>\n",
              "      <td>DU</td>\n",
              "      <td>UMBS 30YR 2.0</td>\n",
              "      <td>10750.0</td>\n",
              "    </tr>\n",
              "  </tbody>\n",
              "</table>\n",
              "<p>5367 rows × 25 columns</p>\n",
              "</div>\n",
              "    <div class=\"colab-df-buttons\">\n",
              "\n",
              "  <div class=\"colab-df-container\">\n",
              "    <button class=\"colab-df-convert\" onclick=\"convertToInteractive('df-ec2f3968-ac0a-41f8-9743-40077c0b8191')\"\n",
              "            title=\"Convert this dataframe to an interactive table.\"\n",
              "            style=\"display:none;\">\n",
              "\n",
              "  <svg xmlns=\"http://www.w3.org/2000/svg\" height=\"24px\" viewBox=\"0 -960 960 960\">\n",
              "    <path d=\"M120-120v-720h720v720H120Zm60-500h600v-160H180v160Zm220 220h160v-160H400v160Zm0 220h160v-160H400v160ZM180-400h160v-160H180v160Zm440 0h160v-160H620v160ZM180-180h160v-160H180v160Zm440 0h160v-160H620v160Z\"/>\n",
              "  </svg>\n",
              "    </button>\n",
              "\n",
              "  <style>\n",
              "    .colab-df-container {\n",
              "      display:flex;\n",
              "      gap: 12px;\n",
              "    }\n",
              "\n",
              "    .colab-df-convert {\n",
              "      background-color: #E8F0FE;\n",
              "      border: none;\n",
              "      border-radius: 50%;\n",
              "      cursor: pointer;\n",
              "      display: none;\n",
              "      fill: #1967D2;\n",
              "      height: 32px;\n",
              "      padding: 0 0 0 0;\n",
              "      width: 32px;\n",
              "    }\n",
              "\n",
              "    .colab-df-convert:hover {\n",
              "      background-color: #E2EBFA;\n",
              "      box-shadow: 0px 1px 2px rgba(60, 64, 67, 0.3), 0px 1px 3px 1px rgba(60, 64, 67, 0.15);\n",
              "      fill: #174EA6;\n",
              "    }\n",
              "\n",
              "    .colab-df-buttons div {\n",
              "      margin-bottom: 4px;\n",
              "    }\n",
              "\n",
              "    [theme=dark] .colab-df-convert {\n",
              "      background-color: #3B4455;\n",
              "      fill: #D2E3FC;\n",
              "    }\n",
              "\n",
              "    [theme=dark] .colab-df-convert:hover {\n",
              "      background-color: #434B5C;\n",
              "      box-shadow: 0px 1px 3px 1px rgba(0, 0, 0, 0.15);\n",
              "      filter: drop-shadow(0px 1px 2px rgba(0, 0, 0, 0.3));\n",
              "      fill: #FFFFFF;\n",
              "    }\n",
              "  </style>\n",
              "\n",
              "    <script>\n",
              "      const buttonEl =\n",
              "        document.querySelector('#df-ec2f3968-ac0a-41f8-9743-40077c0b8191 button.colab-df-convert');\n",
              "      buttonEl.style.display =\n",
              "        google.colab.kernel.accessAllowed ? 'block' : 'none';\n",
              "\n",
              "      async function convertToInteractive(key) {\n",
              "        const element = document.querySelector('#df-ec2f3968-ac0a-41f8-9743-40077c0b8191');\n",
              "        const dataTable =\n",
              "          await google.colab.kernel.invokeFunction('convertToInteractive',\n",
              "                                                    [key], {});\n",
              "        if (!dataTable) return;\n",
              "\n",
              "        const docLinkHtml = 'Like what you see? Visit the ' +\n",
              "          '<a target=\"_blank\" href=https://colab.research.google.com/notebooks/data_table.ipynb>data table notebook</a>'\n",
              "          + ' to learn more about interactive tables.';\n",
              "        element.innerHTML = '';\n",
              "        dataTable['output_type'] = 'display_data';\n",
              "        await google.colab.output.renderOutput(dataTable, element);\n",
              "        const docLink = document.createElement('div');\n",
              "        docLink.innerHTML = docLinkHtml;\n",
              "        element.appendChild(docLink);\n",
              "      }\n",
              "    </script>\n",
              "  </div>\n",
              "\n",
              "\n",
              "<div id=\"df-5734bbd3-a7ae-4bb0-a4b0-241051c33a70\">\n",
              "  <button class=\"colab-df-quickchart\" onclick=\"quickchart('df-5734bbd3-a7ae-4bb0-a4b0-241051c33a70')\"\n",
              "            title=\"Suggest charts\"\n",
              "            style=\"display:none;\">\n",
              "\n",
              "<svg xmlns=\"http://www.w3.org/2000/svg\" height=\"24px\"viewBox=\"0 0 24 24\"\n",
              "     width=\"24px\">\n",
              "    <g>\n",
              "        <path d=\"M19 3H5c-1.1 0-2 .9-2 2v14c0 1.1.9 2 2 2h14c1.1 0 2-.9 2-2V5c0-1.1-.9-2-2-2zM9 17H7v-7h2v7zm4 0h-2V7h2v10zm4 0h-2v-4h2v4z\"/>\n",
              "    </g>\n",
              "</svg>\n",
              "  </button>\n",
              "\n",
              "<style>\n",
              "  .colab-df-quickchart {\n",
              "      --bg-color: #E8F0FE;\n",
              "      --fill-color: #1967D2;\n",
              "      --hover-bg-color: #E2EBFA;\n",
              "      --hover-fill-color: #174EA6;\n",
              "      --disabled-fill-color: #AAA;\n",
              "      --disabled-bg-color: #DDD;\n",
              "  }\n",
              "\n",
              "  [theme=dark] .colab-df-quickchart {\n",
              "      --bg-color: #3B4455;\n",
              "      --fill-color: #D2E3FC;\n",
              "      --hover-bg-color: #434B5C;\n",
              "      --hover-fill-color: #FFFFFF;\n",
              "      --disabled-bg-color: #3B4455;\n",
              "      --disabled-fill-color: #666;\n",
              "  }\n",
              "\n",
              "  .colab-df-quickchart {\n",
              "    background-color: var(--bg-color);\n",
              "    border: none;\n",
              "    border-radius: 50%;\n",
              "    cursor: pointer;\n",
              "    display: none;\n",
              "    fill: var(--fill-color);\n",
              "    height: 32px;\n",
              "    padding: 0;\n",
              "    width: 32px;\n",
              "  }\n",
              "\n",
              "  .colab-df-quickchart:hover {\n",
              "    background-color: var(--hover-bg-color);\n",
              "    box-shadow: 0 1px 2px rgba(60, 64, 67, 0.3), 0 1px 3px 1px rgba(60, 64, 67, 0.15);\n",
              "    fill: var(--button-hover-fill-color);\n",
              "  }\n",
              "\n",
              "  .colab-df-quickchart-complete:disabled,\n",
              "  .colab-df-quickchart-complete:disabled:hover {\n",
              "    background-color: var(--disabled-bg-color);\n",
              "    fill: var(--disabled-fill-color);\n",
              "    box-shadow: none;\n",
              "  }\n",
              "\n",
              "  .colab-df-spinner {\n",
              "    border: 2px solid var(--fill-color);\n",
              "    border-color: transparent;\n",
              "    border-bottom-color: var(--fill-color);\n",
              "    animation:\n",
              "      spin 1s steps(1) infinite;\n",
              "  }\n",
              "\n",
              "  @keyframes spin {\n",
              "    0% {\n",
              "      border-color: transparent;\n",
              "      border-bottom-color: var(--fill-color);\n",
              "      border-left-color: var(--fill-color);\n",
              "    }\n",
              "    20% {\n",
              "      border-color: transparent;\n",
              "      border-left-color: var(--fill-color);\n",
              "      border-top-color: var(--fill-color);\n",
              "    }\n",
              "    30% {\n",
              "      border-color: transparent;\n",
              "      border-left-color: var(--fill-color);\n",
              "      border-top-color: var(--fill-color);\n",
              "      border-right-color: var(--fill-color);\n",
              "    }\n",
              "    40% {\n",
              "      border-color: transparent;\n",
              "      border-right-color: var(--fill-color);\n",
              "      border-top-color: var(--fill-color);\n",
              "    }\n",
              "    60% {\n",
              "      border-color: transparent;\n",
              "      border-right-color: var(--fill-color);\n",
              "    }\n",
              "    80% {\n",
              "      border-color: transparent;\n",
              "      border-right-color: var(--fill-color);\n",
              "      border-bottom-color: var(--fill-color);\n",
              "    }\n",
              "    90% {\n",
              "      border-color: transparent;\n",
              "      border-bottom-color: var(--fill-color);\n",
              "    }\n",
              "  }\n",
              "</style>\n",
              "\n",
              "  <script>\n",
              "    async function quickchart(key) {\n",
              "      const quickchartButtonEl =\n",
              "        document.querySelector('#' + key + ' button');\n",
              "      quickchartButtonEl.disabled = true;  // To prevent multiple clicks.\n",
              "      quickchartButtonEl.classList.add('colab-df-spinner');\n",
              "      try {\n",
              "        const charts = await google.colab.kernel.invokeFunction(\n",
              "            'suggestCharts', [key], {});\n",
              "      } catch (error) {\n",
              "        console.error('Error during call to suggestCharts:', error);\n",
              "      }\n",
              "      quickchartButtonEl.classList.remove('colab-df-spinner');\n",
              "      quickchartButtonEl.classList.add('colab-df-quickchart-complete');\n",
              "    }\n",
              "    (() => {\n",
              "      let quickchartButtonEl =\n",
              "        document.querySelector('#df-5734bbd3-a7ae-4bb0-a4b0-241051c33a70 button');\n",
              "      quickchartButtonEl.style.display =\n",
              "        google.colab.kernel.accessAllowed ? 'block' : 'none';\n",
              "    })();\n",
              "  </script>\n",
              "</div>\n",
              "\n",
              "  <div id=\"id_2d575fe6-25f4-41b3-b5e2-ff4edab0b703\">\n",
              "    <style>\n",
              "      .colab-df-generate {\n",
              "        background-color: #E8F0FE;\n",
              "        border: none;\n",
              "        border-radius: 50%;\n",
              "        cursor: pointer;\n",
              "        display: none;\n",
              "        fill: #1967D2;\n",
              "        height: 32px;\n",
              "        padding: 0 0 0 0;\n",
              "        width: 32px;\n",
              "      }\n",
              "\n",
              "      .colab-df-generate:hover {\n",
              "        background-color: #E2EBFA;\n",
              "        box-shadow: 0px 1px 2px rgba(60, 64, 67, 0.3), 0px 1px 3px 1px rgba(60, 64, 67, 0.15);\n",
              "        fill: #174EA6;\n",
              "      }\n",
              "\n",
              "      [theme=dark] .colab-df-generate {\n",
              "        background-color: #3B4455;\n",
              "        fill: #D2E3FC;\n",
              "      }\n",
              "\n",
              "      [theme=dark] .colab-df-generate:hover {\n",
              "        background-color: #434B5C;\n",
              "        box-shadow: 0px 1px 3px 1px rgba(0, 0, 0, 0.15);\n",
              "        filter: drop-shadow(0px 1px 2px rgba(0, 0, 0, 0.3));\n",
              "        fill: #FFFFFF;\n",
              "      }\n",
              "    </style>\n",
              "    <button class=\"colab-df-generate\" onclick=\"generateWithVariable('loan_data')\"\n",
              "            title=\"Generate code using this dataframe.\"\n",
              "            style=\"display:none;\">\n",
              "\n",
              "  <svg xmlns=\"http://www.w3.org/2000/svg\" height=\"24px\"viewBox=\"0 0 24 24\"\n",
              "       width=\"24px\">\n",
              "    <path d=\"M7,19H8.4L18.45,9,17,7.55,7,17.6ZM5,21V16.75L18.45,3.32a2,2,0,0,1,2.83,0l1.4,1.43a1.91,1.91,0,0,1,.58,1.4,1.91,1.91,0,0,1-.58,1.4L9.25,21ZM18.45,9,17,7.55Zm-12,3A5.31,5.31,0,0,0,4.9,8.1,5.31,5.31,0,0,0,1,6.5,5.31,5.31,0,0,0,4.9,4.9,5.31,5.31,0,0,0,6.5,1,5.31,5.31,0,0,0,8.1,4.9,5.31,5.31,0,0,0,12,6.5,5.46,5.46,0,0,0,6.5,12Z\"/>\n",
              "  </svg>\n",
              "    </button>\n",
              "    <script>\n",
              "      (() => {\n",
              "      const buttonEl =\n",
              "        document.querySelector('#id_2d575fe6-25f4-41b3-b5e2-ff4edab0b703 button.colab-df-generate');\n",
              "      buttonEl.style.display =\n",
              "        google.colab.kernel.accessAllowed ? 'block' : 'none';\n",
              "\n",
              "      buttonEl.onclick = () => {\n",
              "        google.colab.notebook.generateWithVariable('loan_data');\n",
              "      }\n",
              "      })();\n",
              "    </script>\n",
              "  </div>\n",
              "\n",
              "    </div>\n",
              "  </div>\n"
            ],
            "application/vnd.google.colaboratory.intrinsic+json": {
              "type": "dataframe",
              "variable_name": "loan_data"
            }
          },
          "metadata": {},
          "execution_count": 80
        }
      ]
    },
    {
      "cell_type": "code",
      "source": [
        "# Replace '-' with 0 in the other_loan_costs column and convert to numeric\n",
        "loan_data['other_loan_costs'] = loan_data['other_loan_costs'].replace('-', 0)\n",
        "\n",
        "# Check the updated column\n",
        "print(loan_data['other_loan_costs'].head())"
      ],
      "metadata": {
        "colab": {
          "base_uri": "https://localhost:8080/"
        },
        "id": "JY-rY_S6K3GT",
        "outputId": "3c523841-4c9f-4081-9c65-11067095c14d"
      },
      "execution_count": null,
      "outputs": [
        {
          "output_type": "stream",
          "name": "stdout",
          "text": [
            "0         0\n",
            "1       317\n",
            "2    3187.5\n",
            "3    1590.8\n",
            "4         0\n",
            "Name: other_loan_costs, dtype: object\n"
          ]
        }
      ]
    },
    {
      "cell_type": "code",
      "source": [
        "## You can specify a subset of columns to consider when identifying duplicates. then keeping only the first occurrence by default\n",
        "loan_data.drop_duplicates(subset=['loan_id'], inplace=True)"
      ],
      "metadata": {
        "id": "RVqK5Ptq-JvN"
      },
      "execution_count": null,
      "outputs": []
    },
    {
      "cell_type": "markdown",
      "source": [
        "##target_profit"
      ],
      "metadata": {
        "id": "XvZe_BoV-hV-"
      }
    },
    {
      "cell_type": "code",
      "source": [
        "target_profit.info()\n",
        "print(target_profit.isnull().sum())"
      ],
      "metadata": {
        "colab": {
          "base_uri": "https://localhost:8080/"
        },
        "id": "Yw8lGzBw-Vk0",
        "outputId": "9155a2dc-d71f-4184-b8ca-590270d219f5"
      },
      "execution_count": null,
      "outputs": [
        {
          "output_type": "stream",
          "name": "stdout",
          "text": [
            "<class 'pandas.core.frame.DataFrame'>\n",
            "RangeIndex: 5367 entries, 0 to 5366\n",
            "Data columns (total 35 columns):\n",
            " #   Column                  Non-Null Count  Dtype         \n",
            "---  ------                  --------------  -----         \n",
            " 0   loan_id                 5367 non-null   int64         \n",
            " 1   state_code              5367 non-null   object        \n",
            " 2   county                  5367 non-null   object        \n",
            " 3   conforming_loan_limit   5367 non-null   bool          \n",
            " 4   loan_purpose            5367 non-null   object        \n",
            " 5   loan_amount             5367 non-null   int64         \n",
            " 6   closing_date            5367 non-null   datetime64[ns]\n",
            " 7   first_payment_date      5367 non-null   datetime64[ns]\n",
            " 8   maturity_date           5367 non-null   datetime64[ns]\n",
            " 9   loan_term               5367 non-null   int64         \n",
            " 10  principal_interest_pmt  5367 non-null   float64       \n",
            " 11  interest_rate           5367 non-null   float64       \n",
            " 12  umbs_code               5367 non-null   object        \n",
            " 13  property_value          5367 non-null   int64         \n",
            " 14  total_loan_costs        5367 non-null   float64       \n",
            " 15  origition_charges       5367 non-null   float64       \n",
            " 16  other_loan_costs        5367 non-null   object        \n",
            " 17  occupancy_type          5367 non-null   object        \n",
            " 18  total_units             5367 non-null   int64         \n",
            " 19  income_thousands        5367 non-null   object        \n",
            " 20  recurring_monthly_debt  5340 non-null   float64       \n",
            " 21  median_fico_score       5367 non-null   int64         \n",
            " 22  credit_score_type       5367 non-null   object        \n",
            " 23  aus_type                5304 non-null   object        \n",
            " 24  umbs price              5367 non-null   float64       \n",
            " 25  trade_margin            5367 non-null   float64       \n",
            " 26  Target Profit           5367 non-null   float64       \n",
            " 27  Trade Premium           5367 non-null   float64       \n",
            " 28  points_and_fees         5367 non-null   float64       \n",
            " 29  Total Loan Revenue      5367 non-null   float64       \n",
            " 30  Gross Profit            5365 non-null   float64       \n",
            " 31  Profit Margin           5365 non-null   float64       \n",
            " 32  Winning Bid             5367 non-null   float64       \n",
            " 33  Winner                  5367 non-null   object        \n",
            " 34  actual trade premium    5367 non-null   float64       \n",
            "dtypes: bool(1), datetime64[ns](3), float64(15), int64(6), object(10)\n",
            "memory usage: 1.4+ MB\n",
            "loan_id                    0\n",
            "state_code                 0\n",
            "county                     0\n",
            "conforming_loan_limit      0\n",
            "loan_purpose               0\n",
            "loan_amount                0\n",
            "closing_date               0\n",
            "first_payment_date         0\n",
            "maturity_date              0\n",
            "loan_term                  0\n",
            "principal_interest_pmt     0\n",
            "interest_rate              0\n",
            "umbs_code                  0\n",
            "property_value             0\n",
            "total_loan_costs           0\n",
            "origition_charges          0\n",
            "other_loan_costs           0\n",
            "occupancy_type             0\n",
            "total_units                0\n",
            "income_thousands           0\n",
            "recurring_monthly_debt    27\n",
            "median_fico_score          0\n",
            "credit_score_type          0\n",
            "aus_type                  63\n",
            "umbs price                 0\n",
            "trade_margin               0\n",
            "Target Profit              0\n",
            "Trade Premium              0\n",
            "points_and_fees            0\n",
            "Total Loan Revenue         0\n",
            "Gross Profit               2\n",
            "Profit Margin              2\n",
            "Winning Bid                0\n",
            "Winner                     0\n",
            "actual trade premium       0\n",
            "dtype: int64\n"
          ]
        }
      ]
    },
    {
      "cell_type": "code",
      "source": [
        "target_profit['total_loan_costs'].fillna(target_profit['total_loan_costs'].mean(), inplace=True)\n",
        "target_profit['recurring_monthly_debt'].fillna(target_profit['recurring_monthly_debt'].mean(), inplace=True)\n",
        "target_profit['aus_type'].fillna(target_profit['aus_type'].mode()[0], inplace=True)"
      ],
      "metadata": {
        "id": "buXai-pyh-tA"
      },
      "execution_count": null,
      "outputs": []
    },
    {
      "cell_type": "code",
      "source": [
        "# Check the unique values in loan_purpose column\n",
        "print(loan_data['total_loan_costs'].unique())\n",
        "print(len(loan_data['total_loan_costs'].unique()))"
      ],
      "metadata": {
        "colab": {
          "base_uri": "https://localhost:8080/"
        },
        "id": "pKrcXSAdiATB",
        "outputId": "73b0aaf4-f169-467d-8b49-0aa5b7bbe18a"
      },
      "execution_count": null,
      "outputs": [
        {
          "output_type": "stream",
          "name": "stdout",
          "text": [
            "[10736.5    843.5   5450.   ...  4274.5   4814.5  12880.58]\n",
            "5094\n"
          ]
        }
      ]
    },
    {
      "cell_type": "code",
      "source": [
        "# Check the unique values in loan_purpose column\n",
        "print(target_profit['Profit Margin'].unique())"
      ],
      "metadata": {
        "id": "rSm2EY0d_kC-",
        "colab": {
          "base_uri": "https://localhost:8080/"
        },
        "outputId": "5cd34c58-77dd-43d3-a141-2b9db61a6c65"
      },
      "execution_count": null,
      "outputs": [
        {
          "output_type": "stream",
          "name": "stdout",
          "text": [
            "[0.05       0.05       0.05       0.05       0.0451273  0.05\n",
            " 0.0484262  0.04631926 0.04768332 0.03915214 0.04892588        nan\n",
            " 0.04794445 0.04308351 0.04808345 0.04237084 0.0395     0.0443806\n",
            " 0.0497486  0.0473672  0.04802036 0.04631076 0.04763117 0.04090109\n",
            " 0.04932347 0.04772072 0.03530322 0.0480618  0.03767681 0.04867451\n",
            " 0.04318953 0.04991864 0.04231631 0.04724921 0.04945663 0.04929486\n",
            " 0.03772289 0.04846363 0.04974987 0.04916161 0.04540723 0.04551388\n",
            " 0.04942044]\n"
          ]
        }
      ]
    },
    {
      "cell_type": "code",
      "source": [
        "target_profit['total_loan_costs'].fillna(target_profit['total_loan_costs'].mean(), inplace=True)\n",
        "target_profit['recurring_monthly_debt'].fillna(target_profit['recurring_monthly_debt'].mean(), inplace=True)\n",
        "target_profit['aus_type'].fillna(target_profit['aus_type'].mode()[0], inplace=True)\n",
        "target_profit['Gross Profit'].fillna(target_profit['Gross Profit'].mean(), inplace=True)\n",
        "target_profit['Profit Margin'].fillna(target_profit['Profit Margin'].mean(), inplace=True)\n"
      ],
      "metadata": {
        "id": "c0IpNrq0-vbe"
      },
      "execution_count": null,
      "outputs": []
    },
    {
      "cell_type": "code",
      "source": [],
      "metadata": {
        "id": "co7s41OaW_Bi"
      },
      "execution_count": null,
      "outputs": []
    },
    {
      "cell_type": "code",
      "source": [
        "## You can specify a subset of columns to consider when identifying duplicates. then keeping only the first occurrence by default\n",
        "target_profit.drop_duplicates(subset=['loan_id'], inplace=True)"
      ],
      "metadata": {
        "id": "eCTbC751A1yq"
      },
      "execution_count": null,
      "outputs": []
    },
    {
      "cell_type": "markdown",
      "source": [
        "##loan_bids"
      ],
      "metadata": {
        "id": "cNidS6qbBGbq"
      }
    },
    {
      "cell_type": "code",
      "source": [
        "loan_bids.info()\n",
        "print(loan_bids.isnull().sum())"
      ],
      "metadata": {
        "colab": {
          "base_uri": "https://localhost:8080/"
        },
        "id": "GkPxgqUYBCyK",
        "outputId": "0ad9b5d3-b8a3-4f79-df74-f95d2a0f221b"
      },
      "execution_count": null,
      "outputs": [
        {
          "output_type": "stream",
          "name": "stdout",
          "text": [
            "<class 'pandas.core.frame.DataFrame'>\n",
            "RangeIndex: 5367 entries, 0 to 5366\n",
            "Data columns (total 6 columns):\n",
            " #   Column             Non-Null Count  Dtype  \n",
            "---  ------             --------------  -----  \n",
            " 0   loan_id            5367 non-null   int64  \n",
            " 1   golden_sachs       5367 non-null   float64\n",
            " 2   storgan_manley     5367 non-null   float64\n",
            " 3   smells_largo       5367 non-null   float64\n",
            " 4   bank_of_americans  5367 non-null   float64\n",
            " 5   pj_logan           5367 non-null   float64\n",
            "dtypes: float64(5), int64(1)\n",
            "memory usage: 251.7 KB\n",
            "loan_id              0\n",
            "golden_sachs         0\n",
            "storgan_manley       0\n",
            "smells_largo         0\n",
            "bank_of_americans    0\n",
            "pj_logan             0\n",
            "dtype: int64\n"
          ]
        }
      ]
    },
    {
      "cell_type": "code",
      "source": [
        "## You can specify a subset of columns to consider when identifying duplicates. then keeping only the first occurrence by default\n",
        "loan_bids.drop_duplicates(subset=['loan_id'], inplace=True)"
      ],
      "metadata": {
        "id": "MDv1nbBtDRR8"
      },
      "execution_count": null,
      "outputs": []
    },
    {
      "cell_type": "markdown",
      "source": [
        "## umbs_prices"
      ],
      "metadata": {
        "id": "f-7-vMHoDsWF"
      }
    },
    {
      "cell_type": "code",
      "source": [
        "umbs_prices.info()\n",
        "print(umbs_prices.isnull().sum())"
      ],
      "metadata": {
        "colab": {
          "base_uri": "https://localhost:8080/"
        },
        "id": "58ZdGlZLDXOh",
        "outputId": "2f0a4853-85e1-49d5-d9d6-c0e7e9f9aa1e"
      },
      "execution_count": null,
      "outputs": [
        {
          "output_type": "stream",
          "name": "stdout",
          "text": [
            "<class 'pandas.core.frame.DataFrame'>\n",
            "RangeIndex: 17 entries, 0 to 16\n",
            "Data columns (total 4 columns):\n",
            " #   Column       Non-Null Count  Dtype  \n",
            "---  ------       --------------  -----  \n",
            " 0   umbs_code    17 non-null     object \n",
            " 1   umbs_coupon  17 non-null     float64\n",
            " 2   umbs_term    17 non-null     int64  \n",
            " 3   umbs_price   17 non-null     float64\n",
            "dtypes: float64(2), int64(1), object(1)\n",
            "memory usage: 672.0+ bytes\n",
            "umbs_code      0\n",
            "umbs_coupon    0\n",
            "umbs_term      0\n",
            "umbs_price     0\n",
            "dtype: int64\n"
          ]
        }
      ]
    },
    {
      "cell_type": "code",
      "source": [
        "# if you have no id type colums mean use below code\n",
        "#It identifies duplicate rows and removes them, keeping only the first occurrence by default.\n",
        "umbs_prices.drop_duplicates(inplace=True)"
      ],
      "metadata": {
        "id": "tTRJG6OHDxKF"
      },
      "execution_count": null,
      "outputs": []
    },
    {
      "cell_type": "markdown",
      "source": [
        "#Data Encoding"
      ],
      "metadata": {
        "id": "NIu4UCUuGKOh"
      }
    },
    {
      "cell_type": "markdown",
      "source": [
        "##Loan Data"
      ],
      "metadata": {
        "id": "ROnON13oGRQ2"
      }
    },
    {
      "cell_type": "code",
      "source": [
        "loan_data.info()"
      ],
      "metadata": {
        "id": "dZDJItjLD80I",
        "colab": {
          "base_uri": "https://localhost:8080/"
        },
        "outputId": "a52f53c3-0407-489d-8a8f-dd2aad39a610"
      },
      "execution_count": null,
      "outputs": [
        {
          "output_type": "stream",
          "name": "stdout",
          "text": [
            "<class 'pandas.core.frame.DataFrame'>\n",
            "RangeIndex: 5367 entries, 0 to 5366\n",
            "Data columns (total 25 columns):\n",
            " #   Column                  Non-Null Count  Dtype         \n",
            "---  ------                  --------------  -----         \n",
            " 0   loan_id                 5367 non-null   int64         \n",
            " 1   state_code              5367 non-null   object        \n",
            " 2   county                  5367 non-null   object        \n",
            " 3   conforming_loan_limit   5367 non-null   bool          \n",
            " 4   loan_purpose            5367 non-null   object        \n",
            " 5   loan_amount             5367 non-null   int64         \n",
            " 6   closing_date            5367 non-null   datetime64[ns]\n",
            " 7   first_payment_date      5367 non-null   datetime64[ns]\n",
            " 8   maturity_date           5367 non-null   datetime64[ns]\n",
            " 9   loan_term               5367 non-null   int64         \n",
            " 10  principal_interest_pmt  5367 non-null   float64       \n",
            " 11  interest_rate           5367 non-null   float64       \n",
            " 12  property_value          5367 non-null   int64         \n",
            " 13  total_loan_costs        5367 non-null   float64       \n",
            " 14  origition_charges       5367 non-null   float64       \n",
            " 15  other_loan_costs        5367 non-null   object        \n",
            " 16  occupancy_type          5367 non-null   object        \n",
            " 17  total_units             5367 non-null   int64         \n",
            " 18  income_thousands        5367 non-null   object        \n",
            " 19  recurring_monthly_debt  5367 non-null   float64       \n",
            " 20  median_fico_score       5367 non-null   int64         \n",
            " 21  credit_score_type       5367 non-null   object        \n",
            " 22  aus_type                5367 non-null   object        \n",
            " 23  umbs_code               5367 non-null   object        \n",
            " 24  target_profit           5367 non-null   float64       \n",
            "dtypes: bool(1), datetime64[ns](3), float64(6), int64(6), object(9)\n",
            "memory usage: 1011.7+ KB\n"
          ]
        }
      ]
    },
    {
      "cell_type": "code",
      "source": [
        "# Convert True/False to 1/0 in the conforming_loan_limit column\n",
        "loan_data['conforming_loan_limit'] = loan_data['conforming_loan_limit'].astype(int)"
      ],
      "metadata": {
        "id": "hm_JghY1Q95Z"
      },
      "execution_count": null,
      "outputs": []
    },
    {
      "cell_type": "code",
      "source": [
        "# Check the unique values in loan_purpose column\n",
        "print(loan_data['loan_purpose'].unique())"
      ],
      "metadata": {
        "colab": {
          "base_uri": "https://localhost:8080/"
        },
        "id": "FhxGI3ziN0B5",
        "outputId": "97af5921-962f-4beb-e49e-55de07d0d631"
      },
      "execution_count": null,
      "outputs": [
        {
          "output_type": "stream",
          "name": "stdout",
          "text": [
            "['Refinancing' 'Cash-out refinance' 'Home purchase' 'Home improvement'\n",
            " 'Other']\n"
          ]
        }
      ]
    },
    {
      "cell_type": "code",
      "source": [
        "# Check the unique values in loan_purpose column and their counts\n",
        "loan_purpose_counts = loan_data['loan_purpose'].value_counts()\n",
        "\n",
        "print(\"\\nCounts of each unique value:\")\n",
        "print(loan_purpose_counts)"
      ],
      "metadata": {
        "colab": {
          "base_uri": "https://localhost:8080/"
        },
        "id": "XamlL74jSbkZ",
        "outputId": "e5a879ee-6605-4127-888d-72c146d0251e"
      },
      "execution_count": null,
      "outputs": [
        {
          "output_type": "stream",
          "name": "stdout",
          "text": [
            "\n",
            "Counts of each unique value:\n",
            "loan_purpose\n",
            "Refinancing           2375\n",
            "Cash-out refinance    2098\n",
            "Home purchase          805\n",
            "Other                   58\n",
            "Home improvement        31\n",
            "Name: count, dtype: int64\n"
          ]
        }
      ]
    },
    {
      "cell_type": "code",
      "source": [
        "#lable encoded\n",
        "# Replace 'Yes' with 1 and 'No' with 0 in the 'Attrition' column\n",
        "loan_data['loan_purpose'] = loan_data['loan_purpose'].map({'Other': 0, 'Home improvement': 1, 'Home purchase': 2,'Cash-out refinance': 3, 'Refinancing': 4})"
      ],
      "metadata": {
        "id": "NH7g3BN7OyQ1"
      },
      "execution_count": null,
      "outputs": []
    },
    {
      "cell_type": "code",
      "source": [
        "# Check the unique values in loan_purpose column and their counts\n",
        "loan_purpose_counts = loan_data['other_loan_costs'].value_counts()\n",
        "\n",
        "print(\"\\nCounts of each unique value:\")\n",
        "print(loan_purpose_counts)\n",
        "\n",
        "# Check the unique values in loan_purpose column\n",
        "print(loan_data['other_loan_costs'].unique())\n",
        "print(len(loan_data['other_loan_costs'].unique()))"
      ],
      "metadata": {
        "colab": {
          "base_uri": "https://localhost:8080/"
        },
        "id": "FztUvfPCUKOz",
        "outputId": "3fbe60fd-a098-4bb5-e634-3fbae58b2c5e"
      },
      "execution_count": null,
      "outputs": [
        {
          "output_type": "stream",
          "name": "stdout",
          "text": [
            "\n",
            "Counts of each unique value:\n",
            "other_loan_costs\n",
            "0.00       393\n",
            "107.00      40\n",
            "1157.00     34\n",
            "149.50      23\n",
            "967.00      22\n",
            "          ... \n",
            "586.32       1\n",
            "2814.50      1\n",
            "524.00       1\n",
            "1496.25      1\n",
            "1872.58      1\n",
            "Name: count, Length: 4131, dtype: int64\n",
            "[0 317 3187.5 ... 2168.1499999999996 2067.95 1872.58]\n",
            "4131\n"
          ]
        }
      ]
    },
    {
      "cell_type": "code",
      "source": [
        "# Replace '-' with 0 in the other_loan_costs column and convert to numeric\n",
        "loan_data['other_loan_costs'] = loan_data['other_loan_costs'].replace('na', 0)\n",
        "# Convert 'other_loan_costs' column from object to float\n",
        "loan_data['other_loan_costs'] = loan_data['other_loan_costs'].astype(float)"
      ],
      "metadata": {
        "id": "jijpB2UUR4DY"
      },
      "execution_count": null,
      "outputs": []
    },
    {
      "cell_type": "code",
      "source": [
        "# Check the unique values in loan_purpose column\n",
        "print(loan_data['occupancy_type'].unique())\n",
        "\n",
        "# Check the unique values in loan_purpose column and their counts\n",
        "loan_purpose_counts = loan_data['occupancy_type'].value_counts()\n",
        "\n",
        "print(\"\\nCounts of each unique value:\")\n",
        "print(loan_purpose_counts)"
      ],
      "metadata": {
        "colab": {
          "base_uri": "https://localhost:8080/"
        },
        "id": "e5ea5itZWY-4",
        "outputId": "e41c0b6f-9802-4ba6-af4a-3a4355a733df"
      },
      "execution_count": null,
      "outputs": [
        {
          "output_type": "stream",
          "name": "stdout",
          "text": [
            "['Primary residence' 'Investment property' 'Second residence']\n",
            "\n",
            "Counts of each unique value:\n",
            "occupancy_type\n",
            "Primary residence      4957\n",
            "Investment property     279\n",
            "Second residence        131\n",
            "Name: count, dtype: int64\n"
          ]
        }
      ]
    },
    {
      "cell_type": "code",
      "source": [
        "#lable encoded\n",
        "# Replace 'Yes' with 1 and 'No' with 0 in the 'Attrition' column\n",
        "loan_data['occupancy_type'] = loan_data['occupancy_type'].map({'Second residence': 0, 'Investment property': 1, 'Primary residence': 2})"
      ],
      "metadata": {
        "id": "kp4GeEoDT1r0"
      },
      "execution_count": null,
      "outputs": []
    },
    {
      "cell_type": "code",
      "source": [
        "# Check the unique values in loan_purpose column\n",
        "print(loan_data['income_thousands'].unique())\n",
        "\n",
        "# Check the unique values in loan_purpose column and their counts\n",
        "loan_purpose_counts = loan_data['income_thousands'].value_counts()\n",
        "\n",
        "print(\"\\nCounts of each unique value:\")\n",
        "print(loan_purpose_counts)"
      ],
      "metadata": {
        "colab": {
          "base_uri": "https://localhost:8080/"
        },
        "id": "SbZ8MUfRXU8_",
        "outputId": "4bcd014c-436a-4a70-ab64-06a024c346ce"
      },
      "execution_count": null,
      "outputs": [
        {
          "output_type": "stream",
          "name": "stdout",
          "text": [
            "[108 89 142 32 122 111 69 59 149 115 112 113 330 19 24 63 82 65 38 260 52\n",
            " 139 118 194 34 73 163 250 201 107 232 130 80 44 249 138 160 68 71 151 390\n",
            " 124 67 168 131 62 133 81 206 90 104 140 97 119 143 157 94 42 120 99 180\n",
            " 136 245 83 110 197 162 77 109 14 215 70 102 56 134 166 126 128 183 85 96\n",
            " 55 64 300 181 195 58 241 230 88 127 244 255 84 114 159 234 95 103 100 35\n",
            " 399 43 121 48 384 188 275 208 137 371 39 98 182 37 30 31 117 57 86 172 93\n",
            " 123 161 415 325 454 79 158 60 76 27 271 362 125 72 289 36 175 91 141 331\n",
            " 167 75 299 135 66 132 105 45 61 54 226 46 92 428 47 471 49 150 50 74 33\n",
            " 190 251 229 360 'na' 29 214 78 23 144 282 147 22 145 263 116 176 290 252\n",
            " 191 129 404 165 356 40 500 41 196 106 51 198 346 173 178 238 18 146 155\n",
            " 28 243 148 154 20 224 278 211 359 235 221 248 164 153 603 25 189 247 1338\n",
            " 101 240 225 310 653 216 212 274 386 87 156 53 683 174 209 219 192 314 210\n",
            " 265 227 334 281 26 200 286 349 504 222 280 213 901 237 345 193 410 848\n",
            " 187 205 21 152 306 525 534 239 199 295 316 170 324 11 16 319 400 179 184\n",
            " 754 267 302 365 264 171 320 254 750 343 256 394 303 478 203 233 367 1223\n",
            " 268 465 185 636 204 279 337 177 291 336 451 202 332 790 294 342 288 463\n",
            " 261 1165 313 242 207 350 323 308 272 285 363 259 389 433 364 169 520 270\n",
            " 262 218 868 487 529 246 401 438 269 17 236 508 353 369 441 358 351 407\n",
            " 335 231 296 220 1466 307 416 304 228 276 186 459 373 287 411 607 779 1491\n",
            " 13 713 391 341 515 253 405 223 503 851 609 277 257 686 381 344 321 301\n",
            " 322 499 555 474 273 292 472 258 617 570 293 326 338 796 355 461 361 329\n",
            " 327 315 646 418]\n",
            "\n",
            "Counts of each unique value:\n",
            "income_thousands\n",
            "48     57\n",
            "75     54\n",
            "60     52\n",
            "73     52\n",
            "65     51\n",
            "       ..\n",
            "288     1\n",
            "342     1\n",
            "790     1\n",
            "332     1\n",
            "418     1\n",
            "Name: count, Length: 406, dtype: int64\n"
          ]
        }
      ]
    },
    {
      "cell_type": "code",
      "source": [
        "# Replace '-' with 0 in the other_loan_costs column and convert to numeric\n",
        "loan_data['income_thousands'] = loan_data['income_thousands'].replace('na', 0)\n",
        "# Convert 'other_loan_costs' column from object to float\n",
        "loan_data['income_thousands'] = loan_data['income_thousands'].astype(int)"
      ],
      "metadata": {
        "id": "z6kGifDlW1Hq"
      },
      "execution_count": null,
      "outputs": []
    },
    {
      "cell_type": "code",
      "source": [
        "# Check the unique values in loan_purpose column\n",
        "print(loan_data['recurring_monthly_debt'].unique())\n",
        "\n",
        "# Check the unique values in loan_purpose column and their counts\n",
        "loan_purpose_counts = loan_data['recurring_monthly_debt'].value_counts()\n",
        "\n",
        "print(\"\\nCounts of each unique value:\")\n",
        "print(loan_purpose_counts)"
      ],
      "metadata": {
        "colab": {
          "base_uri": "https://localhost:8080/"
        },
        "id": "lLTbBuo6YUxJ",
        "outputId": "74963205-3d24-4046-b214-fca75b5c10c6"
      },
      "execution_count": null,
      "outputs": [
        {
          "output_type": "stream",
          "name": "stdout",
          "text": [
            "[4230. 3635. 5325. ... 1511. 8140. 2804.]\n",
            "\n",
            "Counts of each unique value:\n",
            "recurring_monthly_debt\n",
            "3114.159176     27\n",
            "1800.000000     20\n",
            "2700.000000     19\n",
            "1400.000000     17\n",
            "2760.000000     16\n",
            "                ..\n",
            "11999.000000     1\n",
            "4804.000000      1\n",
            "2884.000000      1\n",
            "6747.000000      1\n",
            "2804.000000      1\n",
            "Name: count, Length: 2219, dtype: int64\n"
          ]
        }
      ]
    },
    {
      "cell_type": "code",
      "source": [
        "# Replace '-' with 0 in the other_loan_costs column and convert to numeric\n",
        "#loan_data['income_thousands'] = loan_data['income_thousands'].replace('na', 0)\n",
        "# Convert 'other_loan_costs' column from object to float\n",
        "loan_data['recurring_monthly_debt'] = loan_data['recurring_monthly_debt'].astype(int)"
      ],
      "metadata": {
        "id": "D1PyLpP-X7QU"
      },
      "execution_count": null,
      "outputs": []
    },
    {
      "cell_type": "code",
      "source": [
        "# Check the unique values in loan_purpose column\n",
        "print(loan_data['credit_score_type'].unique())\n",
        "\n",
        "# Check the unique values in loan_purpose column and their counts\n",
        "loan_purpose_counts = loan_data['credit_score_type'].value_counts()\n",
        "\n",
        "print(\"\\nCounts of each unique value:\")\n",
        "print(loan_purpose_counts)"
      ],
      "metadata": {
        "colab": {
          "base_uri": "https://localhost:8080/"
        },
        "id": "RHKD1JfJYmDt",
        "outputId": "d27fb7aa-b97e-4160-9d4c-1dd14092e51f"
      },
      "execution_count": null,
      "outputs": [
        {
          "output_type": "stream",
          "name": "stdout",
          "text": [
            "['Equifax Beacon 5.0' 'Experian Fair Isaac' 'FICO Risk Score Classic']\n",
            "\n",
            "Counts of each unique value:\n",
            "credit_score_type\n",
            "Equifax Beacon 5.0         2048\n",
            "FICO Risk Score Classic    1791\n",
            "Experian Fair Isaac        1528\n",
            "Name: count, dtype: int64\n"
          ]
        }
      ]
    },
    {
      "cell_type": "code",
      "source": [
        "#lable encoded\n",
        "# Replace 'Yes' with 1 and 'No' with 0 in the 'Attrition' column\n",
        "loan_data['credit_score_type'] = loan_data['credit_score_type'].map({'Experian Fair Isaac': 0, 'FICO Risk Score Classic': 1, 'Equifax Beacon 5.0': 2})"
      ],
      "metadata": {
        "id": "VVDucUtdZNBG"
      },
      "execution_count": null,
      "outputs": []
    },
    {
      "cell_type": "code",
      "source": [
        "# Check the unique values in loan_purpose column\n",
        "print(loan_data['aus_type'].unique())\n",
        "\n",
        "# Check the unique values in loan_purpose column and their counts\n",
        "loan_purpose_counts = loan_data['aus_type'].value_counts()\n",
        "\n",
        "print(\"\\nCounts of each unique value:\")\n",
        "print(loan_purpose_counts)"
      ],
      "metadata": {
        "colab": {
          "base_uri": "https://localhost:8080/"
        },
        "id": "QCf6s_myajUB",
        "outputId": "07151c34-2055-4d80-b552-cc119723fdad"
      },
      "execution_count": null,
      "outputs": [
        {
          "output_type": "stream",
          "name": "stdout",
          "text": [
            "['LP' 'DU']\n",
            "\n",
            "Counts of each unique value:\n",
            "aus_type\n",
            "DU    3803\n",
            "LP    1564\n",
            "Name: count, dtype: int64\n"
          ]
        }
      ]
    },
    {
      "cell_type": "code",
      "source": [
        "#lable encoded\n",
        "# Replace 'Yes' with 1 and 'No' with 0 in the 'Attrition' column\n",
        "loan_data['aus_type'] = loan_data['aus_type'].map({'LP': 0, 'DU': 1})"
      ],
      "metadata": {
        "id": "b8a3cOFdZ0Ob"
      },
      "execution_count": null,
      "outputs": []
    },
    {
      "cell_type": "code",
      "source": [
        "# Check the unique values in loan_purpose column\n",
        "print(loan_data['umbs_code'].unique())\n",
        "\n",
        "# Check the unique values in loan_purpose column and their counts\n",
        "loan_purpose_counts = loan_data['umbs_code'].value_counts()\n",
        "\n",
        "print(\"\\nCounts of each unique value:\")\n",
        "print(loan_purpose_counts)"
      ],
      "metadata": {
        "colab": {
          "base_uri": "https://localhost:8080/"
        },
        "id": "Qn1PwV3Ia1ad",
        "outputId": "5ee23f06-0210-4830-e436-37bb401b9640"
      },
      "execution_count": null,
      "outputs": [
        {
          "output_type": "stream",
          "name": "stdout",
          "text": [
            "['UMBS 15YR 2.0' 'UMBS 30YR 3.0' 'UMBS 30YR 2.5' 'UMBS 30YR 2.0'\n",
            " 'UMBS 30YR 1.5' 'UMBS 15YR 3.0' 'UMBS 30YR 3.5' 'UMBS 15YR 2.5'\n",
            " 'UMBS 15YR 3.5' 'UMBS 15YR 1.5' 'UMBS 30YR 4.0' 'UMBS 30YR 1.0'\n",
            " 'UMBS 15YR 4.0']\n",
            "\n",
            "Counts of each unique value:\n",
            "umbs_code\n",
            "UMBS 30YR 2.5    2160\n",
            "UMBS 30YR 3.0     874\n",
            "UMBS 30YR 2.0     795\n",
            "UMBS 15YR 2.5     635\n",
            "UMBS 15YR 3.0     274\n",
            "UMBS 15YR 2.0     249\n",
            "UMBS 30YR 1.5     208\n",
            "UMBS 30YR 3.5      76\n",
            "UMBS 15YR 1.5      65\n",
            "UMBS 15YR 3.5      20\n",
            "UMBS 30YR 4.0       5\n",
            "UMBS 30YR 1.0       4\n",
            "UMBS 15YR 4.0       2\n",
            "Name: count, dtype: int64\n"
          ]
        }
      ]
    },
    {
      "cell_type": "code",
      "source": [
        "#lable encoded\n",
        "# Replace 'Yes' with 1 and 'No' with 0 in the 'Attrition' column\n",
        "loan_data['umbs_code'] = loan_data['umbs_code'].map({'UMBS 15YR 4.0': 4.0, 'UMBS 30YR 1.0': 1.0,'UMBS 30YR 4.0': 4.0,'UMBS 15YR 3.5': 3.5,'UMBS 15YR 1.5': 1.5,'UMBS 30YR 3.5': 3.5,'UMBS 30YR 1.5': 1.5,'UMBS 15YR 2.0':2.0,'UMBS 15YR 3.0':3.0,'UMBS 15YR 2.5':2.5,'UMBS 30YR 2.0':2.0,'UMBS 30YR 3.0':3.0,'UMBS 30YR 2.5' :2.5})"
      ],
      "metadata": {
        "id": "65gEpV3LbO9x"
      },
      "execution_count": null,
      "outputs": []
    },
    {
      "cell_type": "markdown",
      "source": [
        "## loan_balances"
      ],
      "metadata": {
        "id": "IM0DRKoQ41gA"
      }
    },
    {
      "cell_type": "code",
      "source": [
        "loan_balances.info()\n",
        "print(loan_balances.isnull().sum())"
      ],
      "metadata": {
        "id": "rc9z6O03clHn",
        "colab": {
          "base_uri": "https://localhost:8080/"
        },
        "outputId": "0f087e3e-7382-4380-b153-c78c3bdb87c2"
      },
      "execution_count": null,
      "outputs": [
        {
          "output_type": "stream",
          "name": "stdout",
          "text": [
            "<class 'pandas.core.frame.DataFrame'>\n",
            "RangeIndex: 5367 entries, 0 to 5366\n",
            "Data columns (total 9 columns):\n",
            " #   Column                      Non-Null Count  Dtype         \n",
            "---  ------                      --------------  -----         \n",
            " 0   loan_id                     5367 non-null   int64         \n",
            " 1   loan_amount                 5367 non-null   int64         \n",
            " 2   first_payment_date          5367 non-null   datetime64[ns]\n",
            " 3   principal_interest_payment  5367 non-null   float64       \n",
            " 4   interest_rate               5367 non-null   float64       \n",
            " 5   loan_term                   5367 non-null   int64         \n",
            " 6   next_payment_due_date       5367 non-null   datetime64[ns]\n",
            " 7   payment_periods_made        5367 non-null   int64         \n",
            " 8                               5367 non-null   float64       \n",
            "dtypes: datetime64[ns](2), float64(3), int64(4)\n",
            "memory usage: 377.5 KB\n",
            "loan_id                       0\n",
            "loan_amount                   0\n",
            "first_payment_date            0\n",
            "principal_interest_payment    0\n",
            "interest_rate                 0\n",
            "loan_term                     0\n",
            "next_payment_due_date         0\n",
            "payment_periods_made          0\n",
            "                              0\n",
            "dtype: int64\n"
          ]
        }
      ]
    },
    {
      "cell_type": "markdown",
      "source": [
        "##loan_status"
      ],
      "metadata": {
        "id": "beyvxhSnG-Ev"
      }
    },
    {
      "cell_type": "code",
      "source": [
        "loan_status.info()\n",
        "print(loan_status.isnull().sum())"
      ],
      "metadata": {
        "colab": {
          "base_uri": "https://localhost:8080/"
        },
        "id": "KDjuB5VV5qor",
        "outputId": "754a67d8-8eae-4440-bd40-1713bb593e8a"
      },
      "execution_count": null,
      "outputs": [
        {
          "output_type": "stream",
          "name": "stdout",
          "text": [
            "<class 'pandas.core.frame.DataFrame'>\n",
            "RangeIndex: 5367 entries, 0 to 5366\n",
            "Data columns (total 6 columns):\n",
            " #   Column                  Non-Null Count  Dtype         \n",
            "---  ------                  --------------  -----         \n",
            " 0   loan_id                 5367 non-null   int64         \n",
            " 1   closing_date            5367 non-null   datetime64[ns]\n",
            " 2   file_in_audit           5114 non-null   datetime64[ns]\n",
            " 3   file_audit_complete     4591 non-null   datetime64[ns]\n",
            " 4   file_sent_to_custodian  4207 non-null   datetime64[ns]\n",
            " 5   file_at_custodian       3244 non-null   datetime64[ns]\n",
            "dtypes: datetime64[ns](5), int64(1)\n",
            "memory usage: 251.7 KB\n",
            "loan_id                      0\n",
            "closing_date                 0\n",
            "file_in_audit              253\n",
            "file_audit_complete        776\n",
            "file_sent_to_custodian    1160\n",
            "file_at_custodian         2123\n",
            "dtype: int64\n"
          ]
        }
      ]
    },
    {
      "cell_type": "code",
      "source": [
        "loan_status_cleaned.info()"
      ],
      "metadata": {
        "colab": {
          "base_uri": "https://localhost:8080/",
          "height": 141
        },
        "id": "KV6ENqB2RcMN",
        "outputId": "4b74a733-d836-43b5-827b-937aac664bf4"
      },
      "execution_count": null,
      "outputs": [
        {
          "output_type": "error",
          "ename": "NameError",
          "evalue": "name 'loan_status_cleaned' is not defined",
          "traceback": [
            "\u001b[0;31m---------------------------------------------------------------------------\u001b[0m",
            "\u001b[0;31mNameError\u001b[0m                                 Traceback (most recent call last)",
            "\u001b[0;32m<ipython-input-141-51b2b6fe769e>\u001b[0m in \u001b[0;36m<cell line: 1>\u001b[0;34m()\u001b[0m\n\u001b[0;32m----> 1\u001b[0;31m \u001b[0mloan_status_cleaned\u001b[0m\u001b[0;34m.\u001b[0m\u001b[0minfo\u001b[0m\u001b[0;34m(\u001b[0m\u001b[0;34m)\u001b[0m\u001b[0;34m\u001b[0m\u001b[0;34m\u001b[0m\u001b[0m\n\u001b[0m",
            "\u001b[0;31mNameError\u001b[0m: name 'loan_status_cleaned' is not defined"
          ]
        }
      ]
    },
    {
      "cell_type": "markdown",
      "source": [
        "##umbs_prices"
      ],
      "metadata": {
        "id": "9MlN-UVNHYet"
      }
    },
    {
      "cell_type": "code",
      "source": [
        "umbs_prices.info()\n",
        "print(umbs_prices.isnull().sum())"
      ],
      "metadata": {
        "colab": {
          "base_uri": "https://localhost:8080/"
        },
        "id": "CWFguicuHTHe",
        "outputId": "e2a8e5ad-7934-405b-a007-083423e4cbb9"
      },
      "execution_count": null,
      "outputs": [
        {
          "output_type": "stream",
          "name": "stdout",
          "text": [
            "<class 'pandas.core.frame.DataFrame'>\n",
            "RangeIndex: 17 entries, 0 to 16\n",
            "Data columns (total 4 columns):\n",
            " #   Column       Non-Null Count  Dtype  \n",
            "---  ------       --------------  -----  \n",
            " 0   umbs_code    17 non-null     object \n",
            " 1   umbs_coupon  17 non-null     float64\n",
            " 2   umbs_term    17 non-null     int64  \n",
            " 3   umbs_price   17 non-null     float64\n",
            "dtypes: float64(2), int64(1), object(1)\n",
            "memory usage: 672.0+ bytes\n",
            "umbs_code      0\n",
            "umbs_coupon    0\n",
            "umbs_term      0\n",
            "umbs_price     0\n",
            "dtype: int64\n"
          ]
        }
      ]
    },
    {
      "cell_type": "code",
      "source": [
        "umbs_prices"
      ],
      "metadata": {
        "colab": {
          "base_uri": "https://localhost:8080/",
          "height": 582
        },
        "id": "G8i90k6mHDEm",
        "outputId": "656bbfe1-e0c9-4d45-e00c-6b8e15cb532c"
      },
      "execution_count": null,
      "outputs": [
        {
          "output_type": "execute_result",
          "data": {
            "text/plain": [
              "        umbs_code  umbs_coupon  umbs_term  umbs_price\n",
              "0   UMBS 30YR 1.0          1.0         30       94.98\n",
              "1   UMBS 30YR 1.5          1.5         30       97.45\n",
              "2   UMBS 30YR 2.0          2.0         30       99.88\n",
              "3   UMBS 30YR 2.5          2.5         30      103.19\n",
              "4   UMBS 30YR 3.0          3.0         30      104.61\n",
              "5   UMBS 30YR 3.5          3.5         30      105.77\n",
              "6   UMBS 30YR 4.0          4.0         30      107.09\n",
              "7   UMBS 30YR 4.5          4.5         30      108.11\n",
              "8   UMBS 30YR 5.0          5.0         30      109.92\n",
              "9   UMBS 15YR 1.5          1.5         15      100.93\n",
              "10  UMBS 15YR 2.0          2.0         15      103.03\n",
              "11  UMBS 15YR 2.5          2.5         15      104.17\n",
              "12  UMBS 15YR 3.0          3.0         15      105.00\n",
              "13  UMBS 15YR 3.5          3.5         15      106.41\n",
              "14  UMBS 15YR 4.0          4.0         15      105.78\n",
              "15  UMBS 15YR 4.5          4.5         15      104.28\n",
              "16  UMBS 15YR 5.0          5.0         15      105.48"
            ],
            "text/html": [
              "\n",
              "  <div id=\"df-cc755653-ba55-4f24-b8e5-e52bc7ff562c\" class=\"colab-df-container\">\n",
              "    <div>\n",
              "<style scoped>\n",
              "    .dataframe tbody tr th:only-of-type {\n",
              "        vertical-align: middle;\n",
              "    }\n",
              "\n",
              "    .dataframe tbody tr th {\n",
              "        vertical-align: top;\n",
              "    }\n",
              "\n",
              "    .dataframe thead th {\n",
              "        text-align: right;\n",
              "    }\n",
              "</style>\n",
              "<table border=\"1\" class=\"dataframe\">\n",
              "  <thead>\n",
              "    <tr style=\"text-align: right;\">\n",
              "      <th></th>\n",
              "      <th>umbs_code</th>\n",
              "      <th>umbs_coupon</th>\n",
              "      <th>umbs_term</th>\n",
              "      <th>umbs_price</th>\n",
              "    </tr>\n",
              "  </thead>\n",
              "  <tbody>\n",
              "    <tr>\n",
              "      <th>0</th>\n",
              "      <td>UMBS 30YR 1.0</td>\n",
              "      <td>1.0</td>\n",
              "      <td>30</td>\n",
              "      <td>94.98</td>\n",
              "    </tr>\n",
              "    <tr>\n",
              "      <th>1</th>\n",
              "      <td>UMBS 30YR 1.5</td>\n",
              "      <td>1.5</td>\n",
              "      <td>30</td>\n",
              "      <td>97.45</td>\n",
              "    </tr>\n",
              "    <tr>\n",
              "      <th>2</th>\n",
              "      <td>UMBS 30YR 2.0</td>\n",
              "      <td>2.0</td>\n",
              "      <td>30</td>\n",
              "      <td>99.88</td>\n",
              "    </tr>\n",
              "    <tr>\n",
              "      <th>3</th>\n",
              "      <td>UMBS 30YR 2.5</td>\n",
              "      <td>2.5</td>\n",
              "      <td>30</td>\n",
              "      <td>103.19</td>\n",
              "    </tr>\n",
              "    <tr>\n",
              "      <th>4</th>\n",
              "      <td>UMBS 30YR 3.0</td>\n",
              "      <td>3.0</td>\n",
              "      <td>30</td>\n",
              "      <td>104.61</td>\n",
              "    </tr>\n",
              "    <tr>\n",
              "      <th>5</th>\n",
              "      <td>UMBS 30YR 3.5</td>\n",
              "      <td>3.5</td>\n",
              "      <td>30</td>\n",
              "      <td>105.77</td>\n",
              "    </tr>\n",
              "    <tr>\n",
              "      <th>6</th>\n",
              "      <td>UMBS 30YR 4.0</td>\n",
              "      <td>4.0</td>\n",
              "      <td>30</td>\n",
              "      <td>107.09</td>\n",
              "    </tr>\n",
              "    <tr>\n",
              "      <th>7</th>\n",
              "      <td>UMBS 30YR 4.5</td>\n",
              "      <td>4.5</td>\n",
              "      <td>30</td>\n",
              "      <td>108.11</td>\n",
              "    </tr>\n",
              "    <tr>\n",
              "      <th>8</th>\n",
              "      <td>UMBS 30YR 5.0</td>\n",
              "      <td>5.0</td>\n",
              "      <td>30</td>\n",
              "      <td>109.92</td>\n",
              "    </tr>\n",
              "    <tr>\n",
              "      <th>9</th>\n",
              "      <td>UMBS 15YR 1.5</td>\n",
              "      <td>1.5</td>\n",
              "      <td>15</td>\n",
              "      <td>100.93</td>\n",
              "    </tr>\n",
              "    <tr>\n",
              "      <th>10</th>\n",
              "      <td>UMBS 15YR 2.0</td>\n",
              "      <td>2.0</td>\n",
              "      <td>15</td>\n",
              "      <td>103.03</td>\n",
              "    </tr>\n",
              "    <tr>\n",
              "      <th>11</th>\n",
              "      <td>UMBS 15YR 2.5</td>\n",
              "      <td>2.5</td>\n",
              "      <td>15</td>\n",
              "      <td>104.17</td>\n",
              "    </tr>\n",
              "    <tr>\n",
              "      <th>12</th>\n",
              "      <td>UMBS 15YR 3.0</td>\n",
              "      <td>3.0</td>\n",
              "      <td>15</td>\n",
              "      <td>105.00</td>\n",
              "    </tr>\n",
              "    <tr>\n",
              "      <th>13</th>\n",
              "      <td>UMBS 15YR 3.5</td>\n",
              "      <td>3.5</td>\n",
              "      <td>15</td>\n",
              "      <td>106.41</td>\n",
              "    </tr>\n",
              "    <tr>\n",
              "      <th>14</th>\n",
              "      <td>UMBS 15YR 4.0</td>\n",
              "      <td>4.0</td>\n",
              "      <td>15</td>\n",
              "      <td>105.78</td>\n",
              "    </tr>\n",
              "    <tr>\n",
              "      <th>15</th>\n",
              "      <td>UMBS 15YR 4.5</td>\n",
              "      <td>4.5</td>\n",
              "      <td>15</td>\n",
              "      <td>104.28</td>\n",
              "    </tr>\n",
              "    <tr>\n",
              "      <th>16</th>\n",
              "      <td>UMBS 15YR 5.0</td>\n",
              "      <td>5.0</td>\n",
              "      <td>15</td>\n",
              "      <td>105.48</td>\n",
              "    </tr>\n",
              "  </tbody>\n",
              "</table>\n",
              "</div>\n",
              "    <div class=\"colab-df-buttons\">\n",
              "\n",
              "  <div class=\"colab-df-container\">\n",
              "    <button class=\"colab-df-convert\" onclick=\"convertToInteractive('df-cc755653-ba55-4f24-b8e5-e52bc7ff562c')\"\n",
              "            title=\"Convert this dataframe to an interactive table.\"\n",
              "            style=\"display:none;\">\n",
              "\n",
              "  <svg xmlns=\"http://www.w3.org/2000/svg\" height=\"24px\" viewBox=\"0 -960 960 960\">\n",
              "    <path d=\"M120-120v-720h720v720H120Zm60-500h600v-160H180v160Zm220 220h160v-160H400v160Zm0 220h160v-160H400v160ZM180-400h160v-160H180v160Zm440 0h160v-160H620v160ZM180-180h160v-160H180v160Zm440 0h160v-160H620v160Z\"/>\n",
              "  </svg>\n",
              "    </button>\n",
              "\n",
              "  <style>\n",
              "    .colab-df-container {\n",
              "      display:flex;\n",
              "      gap: 12px;\n",
              "    }\n",
              "\n",
              "    .colab-df-convert {\n",
              "      background-color: #E8F0FE;\n",
              "      border: none;\n",
              "      border-radius: 50%;\n",
              "      cursor: pointer;\n",
              "      display: none;\n",
              "      fill: #1967D2;\n",
              "      height: 32px;\n",
              "      padding: 0 0 0 0;\n",
              "      width: 32px;\n",
              "    }\n",
              "\n",
              "    .colab-df-convert:hover {\n",
              "      background-color: #E2EBFA;\n",
              "      box-shadow: 0px 1px 2px rgba(60, 64, 67, 0.3), 0px 1px 3px 1px rgba(60, 64, 67, 0.15);\n",
              "      fill: #174EA6;\n",
              "    }\n",
              "\n",
              "    .colab-df-buttons div {\n",
              "      margin-bottom: 4px;\n",
              "    }\n",
              "\n",
              "    [theme=dark] .colab-df-convert {\n",
              "      background-color: #3B4455;\n",
              "      fill: #D2E3FC;\n",
              "    }\n",
              "\n",
              "    [theme=dark] .colab-df-convert:hover {\n",
              "      background-color: #434B5C;\n",
              "      box-shadow: 0px 1px 3px 1px rgba(0, 0, 0, 0.15);\n",
              "      filter: drop-shadow(0px 1px 2px rgba(0, 0, 0, 0.3));\n",
              "      fill: #FFFFFF;\n",
              "    }\n",
              "  </style>\n",
              "\n",
              "    <script>\n",
              "      const buttonEl =\n",
              "        document.querySelector('#df-cc755653-ba55-4f24-b8e5-e52bc7ff562c button.colab-df-convert');\n",
              "      buttonEl.style.display =\n",
              "        google.colab.kernel.accessAllowed ? 'block' : 'none';\n",
              "\n",
              "      async function convertToInteractive(key) {\n",
              "        const element = document.querySelector('#df-cc755653-ba55-4f24-b8e5-e52bc7ff562c');\n",
              "        const dataTable =\n",
              "          await google.colab.kernel.invokeFunction('convertToInteractive',\n",
              "                                                    [key], {});\n",
              "        if (!dataTable) return;\n",
              "\n",
              "        const docLinkHtml = 'Like what you see? Visit the ' +\n",
              "          '<a target=\"_blank\" href=https://colab.research.google.com/notebooks/data_table.ipynb>data table notebook</a>'\n",
              "          + ' to learn more about interactive tables.';\n",
              "        element.innerHTML = '';\n",
              "        dataTable['output_type'] = 'display_data';\n",
              "        await google.colab.output.renderOutput(dataTable, element);\n",
              "        const docLink = document.createElement('div');\n",
              "        docLink.innerHTML = docLinkHtml;\n",
              "        element.appendChild(docLink);\n",
              "      }\n",
              "    </script>\n",
              "  </div>\n",
              "\n",
              "\n",
              "<div id=\"df-1755c9cd-a964-4bc3-8af7-baa800aafeef\">\n",
              "  <button class=\"colab-df-quickchart\" onclick=\"quickchart('df-1755c9cd-a964-4bc3-8af7-baa800aafeef')\"\n",
              "            title=\"Suggest charts\"\n",
              "            style=\"display:none;\">\n",
              "\n",
              "<svg xmlns=\"http://www.w3.org/2000/svg\" height=\"24px\"viewBox=\"0 0 24 24\"\n",
              "     width=\"24px\">\n",
              "    <g>\n",
              "        <path d=\"M19 3H5c-1.1 0-2 .9-2 2v14c0 1.1.9 2 2 2h14c1.1 0 2-.9 2-2V5c0-1.1-.9-2-2-2zM9 17H7v-7h2v7zm4 0h-2V7h2v10zm4 0h-2v-4h2v4z\"/>\n",
              "    </g>\n",
              "</svg>\n",
              "  </button>\n",
              "\n",
              "<style>\n",
              "  .colab-df-quickchart {\n",
              "      --bg-color: #E8F0FE;\n",
              "      --fill-color: #1967D2;\n",
              "      --hover-bg-color: #E2EBFA;\n",
              "      --hover-fill-color: #174EA6;\n",
              "      --disabled-fill-color: #AAA;\n",
              "      --disabled-bg-color: #DDD;\n",
              "  }\n",
              "\n",
              "  [theme=dark] .colab-df-quickchart {\n",
              "      --bg-color: #3B4455;\n",
              "      --fill-color: #D2E3FC;\n",
              "      --hover-bg-color: #434B5C;\n",
              "      --hover-fill-color: #FFFFFF;\n",
              "      --disabled-bg-color: #3B4455;\n",
              "      --disabled-fill-color: #666;\n",
              "  }\n",
              "\n",
              "  .colab-df-quickchart {\n",
              "    background-color: var(--bg-color);\n",
              "    border: none;\n",
              "    border-radius: 50%;\n",
              "    cursor: pointer;\n",
              "    display: none;\n",
              "    fill: var(--fill-color);\n",
              "    height: 32px;\n",
              "    padding: 0;\n",
              "    width: 32px;\n",
              "  }\n",
              "\n",
              "  .colab-df-quickchart:hover {\n",
              "    background-color: var(--hover-bg-color);\n",
              "    box-shadow: 0 1px 2px rgba(60, 64, 67, 0.3), 0 1px 3px 1px rgba(60, 64, 67, 0.15);\n",
              "    fill: var(--button-hover-fill-color);\n",
              "  }\n",
              "\n",
              "  .colab-df-quickchart-complete:disabled,\n",
              "  .colab-df-quickchart-complete:disabled:hover {\n",
              "    background-color: var(--disabled-bg-color);\n",
              "    fill: var(--disabled-fill-color);\n",
              "    box-shadow: none;\n",
              "  }\n",
              "\n",
              "  .colab-df-spinner {\n",
              "    border: 2px solid var(--fill-color);\n",
              "    border-color: transparent;\n",
              "    border-bottom-color: var(--fill-color);\n",
              "    animation:\n",
              "      spin 1s steps(1) infinite;\n",
              "  }\n",
              "\n",
              "  @keyframes spin {\n",
              "    0% {\n",
              "      border-color: transparent;\n",
              "      border-bottom-color: var(--fill-color);\n",
              "      border-left-color: var(--fill-color);\n",
              "    }\n",
              "    20% {\n",
              "      border-color: transparent;\n",
              "      border-left-color: var(--fill-color);\n",
              "      border-top-color: var(--fill-color);\n",
              "    }\n",
              "    30% {\n",
              "      border-color: transparent;\n",
              "      border-left-color: var(--fill-color);\n",
              "      border-top-color: var(--fill-color);\n",
              "      border-right-color: var(--fill-color);\n",
              "    }\n",
              "    40% {\n",
              "      border-color: transparent;\n",
              "      border-right-color: var(--fill-color);\n",
              "      border-top-color: var(--fill-color);\n",
              "    }\n",
              "    60% {\n",
              "      border-color: transparent;\n",
              "      border-right-color: var(--fill-color);\n",
              "    }\n",
              "    80% {\n",
              "      border-color: transparent;\n",
              "      border-right-color: var(--fill-color);\n",
              "      border-bottom-color: var(--fill-color);\n",
              "    }\n",
              "    90% {\n",
              "      border-color: transparent;\n",
              "      border-bottom-color: var(--fill-color);\n",
              "    }\n",
              "  }\n",
              "</style>\n",
              "\n",
              "  <script>\n",
              "    async function quickchart(key) {\n",
              "      const quickchartButtonEl =\n",
              "        document.querySelector('#' + key + ' button');\n",
              "      quickchartButtonEl.disabled = true;  // To prevent multiple clicks.\n",
              "      quickchartButtonEl.classList.add('colab-df-spinner');\n",
              "      try {\n",
              "        const charts = await google.colab.kernel.invokeFunction(\n",
              "            'suggestCharts', [key], {});\n",
              "      } catch (error) {\n",
              "        console.error('Error during call to suggestCharts:', error);\n",
              "      }\n",
              "      quickchartButtonEl.classList.remove('colab-df-spinner');\n",
              "      quickchartButtonEl.classList.add('colab-df-quickchart-complete');\n",
              "    }\n",
              "    (() => {\n",
              "      let quickchartButtonEl =\n",
              "        document.querySelector('#df-1755c9cd-a964-4bc3-8af7-baa800aafeef button');\n",
              "      quickchartButtonEl.style.display =\n",
              "        google.colab.kernel.accessAllowed ? 'block' : 'none';\n",
              "    })();\n",
              "  </script>\n",
              "</div>\n",
              "\n",
              "  <div id=\"id_69ed214b-b6a5-4991-be87-29c543535ce0\">\n",
              "    <style>\n",
              "      .colab-df-generate {\n",
              "        background-color: #E8F0FE;\n",
              "        border: none;\n",
              "        border-radius: 50%;\n",
              "        cursor: pointer;\n",
              "        display: none;\n",
              "        fill: #1967D2;\n",
              "        height: 32px;\n",
              "        padding: 0 0 0 0;\n",
              "        width: 32px;\n",
              "      }\n",
              "\n",
              "      .colab-df-generate:hover {\n",
              "        background-color: #E2EBFA;\n",
              "        box-shadow: 0px 1px 2px rgba(60, 64, 67, 0.3), 0px 1px 3px 1px rgba(60, 64, 67, 0.15);\n",
              "        fill: #174EA6;\n",
              "      }\n",
              "\n",
              "      [theme=dark] .colab-df-generate {\n",
              "        background-color: #3B4455;\n",
              "        fill: #D2E3FC;\n",
              "      }\n",
              "\n",
              "      [theme=dark] .colab-df-generate:hover {\n",
              "        background-color: #434B5C;\n",
              "        box-shadow: 0px 1px 3px 1px rgba(0, 0, 0, 0.15);\n",
              "        filter: drop-shadow(0px 1px 2px rgba(0, 0, 0, 0.3));\n",
              "        fill: #FFFFFF;\n",
              "      }\n",
              "    </style>\n",
              "    <button class=\"colab-df-generate\" onclick=\"generateWithVariable('umbs_prices')\"\n",
              "            title=\"Generate code using this dataframe.\"\n",
              "            style=\"display:none;\">\n",
              "\n",
              "  <svg xmlns=\"http://www.w3.org/2000/svg\" height=\"24px\"viewBox=\"0 0 24 24\"\n",
              "       width=\"24px\">\n",
              "    <path d=\"M7,19H8.4L18.45,9,17,7.55,7,17.6ZM5,21V16.75L18.45,3.32a2,2,0,0,1,2.83,0l1.4,1.43a1.91,1.91,0,0,1,.58,1.4,1.91,1.91,0,0,1-.58,1.4L9.25,21ZM18.45,9,17,7.55Zm-12,3A5.31,5.31,0,0,0,4.9,8.1,5.31,5.31,0,0,0,1,6.5,5.31,5.31,0,0,0,4.9,4.9,5.31,5.31,0,0,0,6.5,1,5.31,5.31,0,0,0,8.1,4.9,5.31,5.31,0,0,0,12,6.5,5.46,5.46,0,0,0,6.5,12Z\"/>\n",
              "  </svg>\n",
              "    </button>\n",
              "    <script>\n",
              "      (() => {\n",
              "      const buttonEl =\n",
              "        document.querySelector('#id_69ed214b-b6a5-4991-be87-29c543535ce0 button.colab-df-generate');\n",
              "      buttonEl.style.display =\n",
              "        google.colab.kernel.accessAllowed ? 'block' : 'none';\n",
              "\n",
              "      buttonEl.onclick = () => {\n",
              "        google.colab.notebook.generateWithVariable('umbs_prices');\n",
              "      }\n",
              "      })();\n",
              "    </script>\n",
              "  </div>\n",
              "\n",
              "    </div>\n",
              "  </div>\n"
            ],
            "application/vnd.google.colaboratory.intrinsic+json": {
              "type": "dataframe",
              "variable_name": "umbs_prices",
              "summary": "{\n  \"name\": \"umbs_prices\",\n  \"rows\": 17,\n  \"fields\": [\n    {\n      \"column\": \"umbs_code\",\n      \"properties\": {\n        \"dtype\": \"string\",\n        \"num_unique_values\": 17,\n        \"samples\": [\n          \"UMBS 30YR 1.0\",\n          \"UMBS 30YR 1.5\",\n          \"UMBS 30YR 3.5\"\n        ],\n        \"semantic_type\": \"\",\n        \"description\": \"\"\n      }\n    },\n    {\n      \"column\": \"umbs_coupon\",\n      \"properties\": {\n        \"dtype\": \"number\",\n        \"std\": 1.2689736473414486,\n        \"min\": 1.0,\n        \"max\": 5.0,\n        \"num_unique_values\": 9,\n        \"samples\": [\n          4.5,\n          1.5,\n          3.5\n        ],\n        \"semantic_type\": \"\",\n        \"description\": \"\"\n      }\n    },\n    {\n      \"column\": \"umbs_term\",\n      \"properties\": {\n        \"dtype\": \"number\",\n        \"std\": 7,\n        \"min\": 15,\n        \"max\": 30,\n        \"num_unique_values\": 2,\n        \"samples\": [\n          15,\n          30\n        ],\n        \"semantic_type\": \"\",\n        \"description\": \"\"\n      }\n    },\n    {\n      \"column\": \"umbs_price\",\n      \"properties\": {\n        \"dtype\": \"number\",\n        \"std\": 3.7857310468155982,\n        \"min\": 94.98,\n        \"max\": 109.92,\n        \"num_unique_values\": 17,\n        \"samples\": [\n          94.98,\n          97.45\n        ],\n        \"semantic_type\": \"\",\n        \"description\": \"\"\n      }\n    }\n  ]\n}"
            }
          },
          "metadata": {},
          "execution_count": 143
        }
      ]
    },
    {
      "cell_type": "markdown",
      "source": [
        "##loan_bids"
      ],
      "metadata": {
        "id": "bVUnPRyLJLGG"
      }
    },
    {
      "cell_type": "code",
      "source": [
        "loan_bids.info()\n",
        "print(loan_bids.isnull().sum())"
      ],
      "metadata": {
        "colab": {
          "base_uri": "https://localhost:8080/"
        },
        "id": "xOljyNx5JKaA",
        "outputId": "b6d6aa7b-c4a4-47eb-8272-83501d2d6321"
      },
      "execution_count": null,
      "outputs": [
        {
          "output_type": "stream",
          "name": "stdout",
          "text": [
            "<class 'pandas.core.frame.DataFrame'>\n",
            "RangeIndex: 5367 entries, 0 to 5366\n",
            "Data columns (total 6 columns):\n",
            " #   Column             Non-Null Count  Dtype  \n",
            "---  ------             --------------  -----  \n",
            " 0   loan_id            5367 non-null   int64  \n",
            " 1   golden_sachs       5367 non-null   float64\n",
            " 2   storgan_manley     5367 non-null   float64\n",
            " 3   smells_largo       5367 non-null   float64\n",
            " 4   bank_of_americans  5367 non-null   float64\n",
            " 5   pj_logan           5367 non-null   float64\n",
            "dtypes: float64(5), int64(1)\n",
            "memory usage: 251.7 KB\n",
            "loan_id              0\n",
            "golden_sachs         0\n",
            "storgan_manley       0\n",
            "smells_largo         0\n",
            "bank_of_americans    0\n",
            "pj_logan             0\n",
            "dtype: int64\n"
          ]
        }
      ]
    },
    {
      "cell_type": "markdown",
      "source": [
        "##target_profit"
      ],
      "metadata": {
        "id": "EK7ywRL_QJZH"
      }
    },
    {
      "cell_type": "code",
      "source": [
        "target_profit.info()\n",
        "print(target_profit.isnull().sum())"
      ],
      "metadata": {
        "colab": {
          "base_uri": "https://localhost:8080/"
        },
        "id": "z5kaqo0gHky0",
        "outputId": "5cb6f713-fc64-4360-a499-ffa6a58c7cf1"
      },
      "execution_count": null,
      "outputs": [
        {
          "output_type": "stream",
          "name": "stdout",
          "text": [
            "<class 'pandas.core.frame.DataFrame'>\n",
            "RangeIndex: 5367 entries, 0 to 5366\n",
            "Data columns (total 35 columns):\n",
            " #   Column                  Non-Null Count  Dtype         \n",
            "---  ------                  --------------  -----         \n",
            " 0   loan_id                 5367 non-null   int64         \n",
            " 1   state_code              5367 non-null   object        \n",
            " 2   county                  5367 non-null   object        \n",
            " 3   conforming_loan_limit   5367 non-null   bool          \n",
            " 4   loan_purpose            5367 non-null   object        \n",
            " 5   loan_amount             5367 non-null   int64         \n",
            " 6   closing_date            5367 non-null   datetime64[ns]\n",
            " 7   first_payment_date      5367 non-null   datetime64[ns]\n",
            " 8   maturity_date           5367 non-null   datetime64[ns]\n",
            " 9   loan_term               5367 non-null   int64         \n",
            " 10  principal_interest_pmt  5367 non-null   float64       \n",
            " 11  interest_rate           5367 non-null   float64       \n",
            " 12  umbs_code               5367 non-null   object        \n",
            " 13  property_value          5367 non-null   int64         \n",
            " 14  total_loan_costs        5367 non-null   float64       \n",
            " 15  origition_charges       5367 non-null   float64       \n",
            " 16  other_loan_costs        5367 non-null   object        \n",
            " 17  occupancy_type          5367 non-null   object        \n",
            " 18  total_units             5367 non-null   int64         \n",
            " 19  income_thousands        5367 non-null   object        \n",
            " 20  recurring_monthly_debt  5367 non-null   float64       \n",
            " 21  median_fico_score       5367 non-null   int64         \n",
            " 22  credit_score_type       5367 non-null   object        \n",
            " 23  aus_type                5367 non-null   object        \n",
            " 24  umbs price              5367 non-null   float64       \n",
            " 25  trade_margin            5367 non-null   float64       \n",
            " 26  Target Profit           5367 non-null   float64       \n",
            " 27  Trade Premium           5367 non-null   float64       \n",
            " 28  points_and_fees         5367 non-null   float64       \n",
            " 29  Total Loan Revenue      5367 non-null   float64       \n",
            " 30  Gross Profit            5367 non-null   float64       \n",
            " 31  Profit Margin           5367 non-null   float64       \n",
            " 32  Winning Bid             5367 non-null   float64       \n",
            " 33  Winner                  5367 non-null   object        \n",
            " 34  actual trade premium    5367 non-null   float64       \n",
            "dtypes: bool(1), datetime64[ns](3), float64(15), int64(6), object(10)\n",
            "memory usage: 1.4+ MB\n",
            "loan_id                   0\n",
            "state_code                0\n",
            "county                    0\n",
            "conforming_loan_limit     0\n",
            "loan_purpose              0\n",
            "loan_amount               0\n",
            "closing_date              0\n",
            "first_payment_date        0\n",
            "maturity_date             0\n",
            "loan_term                 0\n",
            "principal_interest_pmt    0\n",
            "interest_rate             0\n",
            "umbs_code                 0\n",
            "property_value            0\n",
            "total_loan_costs          0\n",
            "origition_charges         0\n",
            "other_loan_costs          0\n",
            "occupancy_type            0\n",
            "total_units               0\n",
            "income_thousands          0\n",
            "recurring_monthly_debt    0\n",
            "median_fico_score         0\n",
            "credit_score_type         0\n",
            "aus_type                  0\n",
            "umbs price                0\n",
            "trade_margin              0\n",
            "Target Profit             0\n",
            "Trade Premium             0\n",
            "points_and_fees           0\n",
            "Total Loan Revenue        0\n",
            "Gross Profit              0\n",
            "Profit Margin             0\n",
            "Winning Bid               0\n",
            "Winner                    0\n",
            "actual trade premium      0\n",
            "dtype: int64\n"
          ]
        }
      ]
    },
    {
      "cell_type": "code",
      "source": [
        "print(unique)"
      ],
      "metadata": {
        "colab": {
          "base_uri": "https://localhost:8080/"
        },
        "id": "LGASn8j9pBcK",
        "outputId": "bc1d488c-1247-4675-a30e-65648f1d459e"
      },
      "execution_count": null,
      "outputs": [
        {
          "output_type": "stream",
          "name": "stdout",
          "text": [
            "['umbs price', 'trade_margin', 'Target Profit', 'Trade Premium', 'points_and_fees', 'Total Loan Revenue', 'Gross Profit', 'Profit Margin', 'Winning Bid', 'Winner', 'actual trade premium']\n"
          ]
        }
      ]
    },
    {
      "cell_type": "code",
      "source": [
        "# Check the unique values in loan_purpose column\n",
        "print(target_profit['Winner'].unique())\n",
        "\n",
        "# Check the unique values in loan_purpose column and their counts\n",
        "loan_purpose_counts = target_profit['Winner'].value_counts()\n",
        "\n",
        "print(\"\\nCounts of each unique value:\")\n",
        "print(loan_purpose_counts)"
      ],
      "metadata": {
        "colab": {
          "base_uri": "https://localhost:8080/"
        },
        "id": "7QoQy9wjpbER",
        "outputId": "35697f83-528d-4cab-a06d-420522c65486"
      },
      "execution_count": null,
      "outputs": [
        {
          "output_type": "stream",
          "name": "stdout",
          "text": [
            "['umbs_price' 'golden_sachs' 'pj_logan' 'bank_of_americans'\n",
            " 'storgan_manley']\n",
            "\n",
            "Counts of each unique value:\n",
            "Winner\n",
            "umbs_price           3900\n",
            "storgan_manley        577\n",
            "golden_sachs          532\n",
            "pj_logan              234\n",
            "bank_of_americans     124\n",
            "Name: count, dtype: int64\n"
          ]
        }
      ]
    },
    {
      "cell_type": "code",
      "source": [
        "#lable encoded\n",
        "# Replace 'Yes' with 1 and 'No' with 0 in the 'Attrition' column\n",
        "target_profit['Winner'] = target_profit['Winner'].map({'bank_of_americans': 0, 'pj_logan': 1, 'golden_sachs': 2, 'storgan_manley': 3,'umbs_price': 4})"
      ],
      "metadata": {
        "id": "Gj92YWKkU5kx"
      },
      "execution_count": null,
      "outputs": []
    },
    {
      "cell_type": "markdown",
      "source": [
        "#Create Loan Statuses"
      ],
      "metadata": {
        "id": "yluzb_UzWsqk"
      }
    },
    {
      "cell_type": "code",
      "source": [
        "'''\n",
        "import pandas as pd\n",
        "\n",
        "# Assuming you have already loaded the loan_balances DataFrame\n",
        "# loan_balances = pd.read_excel('loan_balances.xlsx')\n",
        "\n",
        "# Define loan statuses\n",
        "def determine_loan_status(row):\n",
        "    if row['current_balance'] > 0 and row['next_payment_due_date'] >= pd.Timestamp.today():\n",
        "        return 'Active'\n",
        "    else:\n",
        "        return 'Closed'\n",
        "\n",
        "# Create a new column 'loan_status' using the defined function\n",
        "loan_balances['loan_status'] = loan_balances.apply(determine_loan_status, axis=1)\n",
        "\n",
        "# Check the updated DataFrame\n",
        "print(loan_balances[['loan_id', 'current_balance', 'next_payment_due_date', 'loan_status']].head())\n",
        "'''"
      ],
      "metadata": {
        "colab": {
          "base_uri": "https://localhost:8080/",
          "height": 87
        },
        "id": "ld8O-yhIWsZ0",
        "outputId": "25d68276-388e-4134-94d6-746df2dfec58"
      },
      "execution_count": null,
      "outputs": [
        {
          "output_type": "execute_result",
          "data": {
            "text/plain": [
              "\"\\nimport pandas as pd\\n\\n# Assuming you have already loaded the loan_balances DataFrame\\n# loan_balances = pd.read_excel('loan_balances.xlsx')\\n\\n# Define loan statuses\\ndef determine_loan_status(row):\\n    if row['current_balance'] > 0 and row['next_payment_due_date'] >= pd.Timestamp.today():\\n        return 'Active'\\n    else:\\n        return 'Closed'\\n\\n# Create a new column 'loan_status' using the defined function\\nloan_balances['loan_status'] = loan_balances.apply(determine_loan_status, axis=1)\\n\\n# Check the updated DataFrame\\nprint(loan_balances[['loan_id', 'current_balance', 'next_payment_due_date', 'loan_status']].head())\\n\""
            ],
            "application/vnd.google.colaboratory.intrinsic+json": {
              "type": "string"
            }
          },
          "metadata": {},
          "execution_count": 121
        }
      ]
    },
    {
      "cell_type": "code",
      "source": [
        "loan_balances.info()"
      ],
      "metadata": {
        "colab": {
          "base_uri": "https://localhost:8080/"
        },
        "id": "EWi5S767ZHDz",
        "outputId": "2ee71f85-347c-436a-d1b8-53714c1be2de"
      },
      "execution_count": null,
      "outputs": [
        {
          "output_type": "stream",
          "name": "stdout",
          "text": [
            "<class 'pandas.core.frame.DataFrame'>\n",
            "RangeIndex: 5367 entries, 0 to 5366\n",
            "Data columns (total 9 columns):\n",
            " #   Column                      Non-Null Count  Dtype         \n",
            "---  ------                      --------------  -----         \n",
            " 0   loan_id                     5367 non-null   int64         \n",
            " 1   loan_amount                 5367 non-null   int64         \n",
            " 2   first_payment_date          5367 non-null   datetime64[ns]\n",
            " 3   principal_interest_payment  5367 non-null   float64       \n",
            " 4   interest_rate               5367 non-null   float64       \n",
            " 5   loan_term                   5367 non-null   int64         \n",
            " 6   next_payment_due_date       5367 non-null   datetime64[ns]\n",
            " 7   payment_periods_made        5367 non-null   int64         \n",
            " 8   current_balance             5367 non-null   float64       \n",
            "dtypes: datetime64[ns](2), float64(3), int64(4)\n",
            "memory usage: 377.5 KB\n"
          ]
        }
      ]
    },
    {
      "cell_type": "code",
      "source": [
        "'''\n",
        "# Check the unique values in loan_purpose column\n",
        "print(loan_balances['loan_status'].unique())\n",
        "\n",
        "# Check the unique values in loan_purpose column and their counts\n",
        "loan_purpose_counts = loan_balances['loan_status'].value_counts()\n",
        "\n",
        "print(\"\\nCounts of each unique value:\")\n",
        "print(loan_purpose_counts)\n",
        "'''"
      ],
      "metadata": {
        "colab": {
          "base_uri": "https://localhost:8080/",
          "height": 53
        },
        "id": "Y7yGHdt9XJiH",
        "outputId": "7cebafee-a032-4a50-b511-5e5f62402759"
      },
      "execution_count": null,
      "outputs": [
        {
          "output_type": "execute_result",
          "data": {
            "text/plain": [
              "'\\n# Check the unique values in loan_purpose column\\nprint(loan_balances[\\'loan_status\\'].unique())\\n\\n# Check the unique values in loan_purpose column and their counts\\nloan_purpose_counts = loan_balances[\\'loan_status\\'].value_counts()\\n\\nprint(\"\\nCounts of each unique value:\")\\nprint(loan_purpose_counts)\\n'"
            ],
            "application/vnd.google.colaboratory.intrinsic+json": {
              "type": "string"
            }
          },
          "metadata": {},
          "execution_count": 125
        }
      ]
    },
    {
      "cell_type": "markdown",
      "source": [
        "# Creating New Feature name as amortized_balance in loan_balances data frame"
      ],
      "metadata": {
        "id": "cOM5k7oETyHP"
      }
    },
    {
      "cell_type": "code",
      "source": [
        "# Calculate monthly interest rate\n",
        "loan_balances['monthly_interest_rate'] = loan_balances['interest_rate'] / 12 / 100\n",
        "\n",
        "# Calculate the number of remaining payments\n",
        "loan_balances['remaining_payments'] = loan_balances['loan_term'] - loan_balances['payment_periods_made']\n",
        "\n",
        "# Calculate the amortized loan balance using the formula for the present value of an annuity\n",
        "loan_balances['amortized_balance'] = loan_balances['principal_interest_payment'] * \\\n",
        "    ((1 - (1 + loan_balances['monthly_interest_rate'])**-loan_balances['remaining_payments']) / loan_balances['monthly_interest_rate'])\n",
        "\n",
        "# Drop intermediate columns if not needed\n",
        "loan_balances.drop(['monthly_interest_rate', 'remaining_payments'], axis=1, inplace=True)\n",
        "\n",
        "# Display the first few rows to verify\n",
        "print(loan_balances[['loan_id', 'principal_interest_payment', 'interest_rate', 'loan_term', 'payment_periods_made', 'amortized_balance']].head())"
      ],
      "metadata": {
        "colab": {
          "base_uri": "https://localhost:8080/"
        },
        "id": "0pkkIdmuqwF0",
        "outputId": "4168f716-f250-495d-bcde-9f38304b080e"
      },
      "execution_count": null,
      "outputs": [
        {
          "output_type": "stream",
          "name": "stdout",
          "text": [
            "   loan_id  principal_interest_payment  interest_rate  loan_term  \\\n",
            "0  5021364                     1632.03        0.03250        360   \n",
            "1  5021367                     2822.06        0.02250        240   \n",
            "2  5021369                     1368.47        0.02990        360   \n",
            "3  5021371                     1099.47        0.02875        360   \n",
            "4  5021372                     1304.19        0.03375        360   \n",
            "\n",
            "   payment_periods_made  amortized_balance  \n",
            "0                     0      584667.994587  \n",
            "1                     0      675766.449851  \n",
            "2                     0      490440.177368  \n",
            "3                     0      394102.469005  \n",
            "4                     0      467132.979625  \n"
          ]
        }
      ]
    },
    {
      "cell_type": "code",
      "source": [
        "loan_balances.info()"
      ],
      "metadata": {
        "colab": {
          "base_uri": "https://localhost:8080/"
        },
        "id": "dPB5SiwIUWNt",
        "outputId": "173ccbd9-9237-468b-f649-96a5756036b7"
      },
      "execution_count": null,
      "outputs": [
        {
          "output_type": "stream",
          "name": "stdout",
          "text": [
            "<class 'pandas.core.frame.DataFrame'>\n",
            "RangeIndex: 5367 entries, 0 to 5366\n",
            "Data columns (total 10 columns):\n",
            " #   Column                      Non-Null Count  Dtype         \n",
            "---  ------                      --------------  -----         \n",
            " 0   loan_id                     5367 non-null   int64         \n",
            " 1   loan_amount                 5367 non-null   int64         \n",
            " 2   first_payment_date          5367 non-null   datetime64[ns]\n",
            " 3   principal_interest_payment  5367 non-null   float64       \n",
            " 4   interest_rate               5367 non-null   float64       \n",
            " 5   loan_term                   5367 non-null   int64         \n",
            " 6   next_payment_due_date       5367 non-null   datetime64[ns]\n",
            " 7   payment_periods_made        5367 non-null   int64         \n",
            " 8                               5367 non-null   float64       \n",
            " 9   amortized_balance           5367 non-null   float64       \n",
            "dtypes: datetime64[ns](2), float64(4), int64(4)\n",
            "memory usage: 419.4 KB\n"
          ]
        }
      ]
    },
    {
      "cell_type": "markdown",
      "source": [
        "#Merge data frame"
      ],
      "metadata": {
        "id": "Thh0h8DToy8A"
      }
    },
    {
      "cell_type": "code",
      "source": [
        "# Merge loan_balances, loan_bids, loan_data, loan_status, and target_profit on 'loan_id'\n",
        "merged_df = loan_balances.merge(loan_bids, on='loan_id', how='left') \\\n",
        "                         .merge(loan_data, on='loan_id', how='left') \\\n",
        "                         .merge(loan_status[['loan_id', 'file_at_custodian']], on='loan_id', how='left') \\\n",
        "                         .merge(target_profit[['loan_id', 'umbs price', 'trade_margin', 'Target Profit', 'Trade Premium', 'points_and_fees',\n",
        "                                              'Total Loan Revenue', 'Gross Profit', 'Profit Margin', 'Winning Bid', 'Winner',\n",
        "                                              'actual trade premium']], on='loan_id', how='left')\n",
        "\n",
        "# Check the merged DataFrame\n",
        "print(merged_df.head())"
      ],
      "metadata": {
        "colab": {
          "base_uri": "https://localhost:8080/"
        },
        "id": "-JoA5Mz5Uetj",
        "outputId": "13ff3113-68a4-4964-ce8a-5426374e0b6b"
      },
      "execution_count": null,
      "outputs": [
        {
          "output_type": "stream",
          "name": "stdout",
          "text": [
            "   loan_id  loan_amount_x first_payment_date_x  principal_interest_payment  \\\n",
            "0  5021364         375000           2021-10-01                     1632.03   \n",
            "1  5021367         545000           2021-10-01                     2822.06   \n",
            "2  5021369         325000           2021-10-01                     1368.47   \n",
            "3  5021371         265000           2021-10-01                     1099.47   \n",
            "4  5021372         295000           2021-11-01                     1304.19   \n",
            "\n",
            "   interest_rate_x  loan_term_x next_payment_due_date  payment_periods_made  \\\n",
            "0          0.03250          360            2021-10-01                     0   \n",
            "1          0.02250          240            2021-10-01                     0   \n",
            "2          0.02990          360            2021-10-01                     0   \n",
            "3          0.02875          360            2021-10-01                     0   \n",
            "4          0.03375          360            2021-11-01                     0   \n",
            "\n",
            "             amortized_balance  ...  trade_margin  Target Profit  \\\n",
            "0  375000.0      584667.994587  ...        0.0500        18750.0   \n",
            "1  545000.0      675766.449851  ...        0.0303        27250.0   \n",
            "2  325000.0      490440.177368  ...        0.0319        16250.0   \n",
            "3  265000.0      394102.469005  ...        0.0319        13250.0   \n",
            "4  295000.0      467132.979625  ...        0.0500        14750.0   \n",
            "\n",
            "   Trade Premium  points_and_fees  Total Loan Revenue Gross Profit  \\\n",
            "0        18750.0              0.0             18750.0      18750.0   \n",
            "1        16513.5          10736.5             27250.0      27250.0   \n",
            "2        10367.5           5882.5             16250.0      16250.0   \n",
            "3         8453.5           4796.5             13250.0      13250.0   \n",
            "4        14750.0              0.0             14750.0      14750.0   \n",
            "\n",
            "  Profit Margin  Winning Bid  Winner  actual trade premium  \n",
            "0          0.05       0.0500       4               18750.0  \n",
            "1          0.05       0.0303       4               16513.5  \n",
            "2          0.05       0.0319       4               10367.5  \n",
            "3          0.05       0.0319       4                8453.5  \n",
            "4          0.05       0.0500       4               14750.0  \n",
            "\n",
            "[5 rows x 51 columns]\n"
          ]
        }
      ]
    },
    {
      "cell_type": "code",
      "source": [
        "'''\n",
        "# Convert next_payment_due_date and maturity_date to datetime if they're not already\n",
        "merged_df['next_payment_due_date'] = pd.to_datetime(merged_df['next_payment_due_date'])\n",
        "merged_df['maturity_date'] = pd.to_datetime(merged_df['maturity_date'])\n",
        "\n",
        "# Define function to determine loan status\n",
        "def determine_loan_status(row):\n",
        "    if row['current_balance'] > 0 and row['next_payment_due_date'] < row['maturity_date']:\n",
        "        return 'Active'\n",
        "    else:\n",
        "        return 'Closed'\n",
        "\n",
        "# Apply the function to create loan_status column\n",
        "merged_df['loan_status'] = merged_df.apply(determine_loan_status, axis=1)\n",
        "'''"
      ],
      "metadata": {
        "id": "w1_TNuthrVXL"
      },
      "execution_count": null,
      "outputs": []
    },
    {
      "cell_type": "code",
      "source": [
        "# Check the unique values in loan_purpose column\n",
        "print(merged_df['loan_status'].unique())\n",
        "\n",
        "# Check the unique values in loan_purpose column and their counts\n",
        "loan_purpose_counts = merged_df['loan_status'].value_counts()\n",
        "\n",
        "print(\"\\nCounts of each unique value:\")\n",
        "print(loan_purpose_counts)\n"
      ],
      "metadata": {
        "colab": {
          "base_uri": "https://localhost:8080/",
          "height": 477
        },
        "id": "CVMNQMU-rhWk",
        "outputId": "b5ac3611-78c6-4cbe-9e97-7c84818840e3"
      },
      "execution_count": null,
      "outputs": [
        {
          "output_type": "error",
          "ename": "KeyError",
          "evalue": "'loan_status'",
          "traceback": [
            "\u001b[0;31m---------------------------------------------------------------------------\u001b[0m",
            "\u001b[0;31mKeyError\u001b[0m                                  Traceback (most recent call last)",
            "\u001b[0;32m/usr/local/lib/python3.10/dist-packages/pandas/core/indexes/base.py\u001b[0m in \u001b[0;36mget_loc\u001b[0;34m(self, key)\u001b[0m\n\u001b[1;32m   3652\u001b[0m         \u001b[0;32mtry\u001b[0m\u001b[0;34m:\u001b[0m\u001b[0;34m\u001b[0m\u001b[0;34m\u001b[0m\u001b[0m\n\u001b[0;32m-> 3653\u001b[0;31m             \u001b[0;32mreturn\u001b[0m \u001b[0mself\u001b[0m\u001b[0;34m.\u001b[0m\u001b[0m_engine\u001b[0m\u001b[0;34m.\u001b[0m\u001b[0mget_loc\u001b[0m\u001b[0;34m(\u001b[0m\u001b[0mcasted_key\u001b[0m\u001b[0;34m)\u001b[0m\u001b[0;34m\u001b[0m\u001b[0;34m\u001b[0m\u001b[0m\n\u001b[0m\u001b[1;32m   3654\u001b[0m         \u001b[0;32mexcept\u001b[0m \u001b[0mKeyError\u001b[0m \u001b[0;32mas\u001b[0m \u001b[0merr\u001b[0m\u001b[0;34m:\u001b[0m\u001b[0;34m\u001b[0m\u001b[0;34m\u001b[0m\u001b[0m\n",
            "\u001b[0;32m/usr/local/lib/python3.10/dist-packages/pandas/_libs/index.pyx\u001b[0m in \u001b[0;36mpandas._libs.index.IndexEngine.get_loc\u001b[0;34m()\u001b[0m\n",
            "\u001b[0;32m/usr/local/lib/python3.10/dist-packages/pandas/_libs/index.pyx\u001b[0m in \u001b[0;36mpandas._libs.index.IndexEngine.get_loc\u001b[0;34m()\u001b[0m\n",
            "\u001b[0;32mpandas/_libs/hashtable_class_helper.pxi\u001b[0m in \u001b[0;36mpandas._libs.hashtable.PyObjectHashTable.get_item\u001b[0;34m()\u001b[0m\n",
            "\u001b[0;32mpandas/_libs/hashtable_class_helper.pxi\u001b[0m in \u001b[0;36mpandas._libs.hashtable.PyObjectHashTable.get_item\u001b[0;34m()\u001b[0m\n",
            "\u001b[0;31mKeyError\u001b[0m: 'loan_status'",
            "\nThe above exception was the direct cause of the following exception:\n",
            "\u001b[0;31mKeyError\u001b[0m                                  Traceback (most recent call last)",
            "\u001b[0;32m<ipython-input-152-02bbadd057b5>\u001b[0m in \u001b[0;36m<cell line: 2>\u001b[0;34m()\u001b[0m\n\u001b[1;32m      1\u001b[0m \u001b[0;31m# Check the unique values in loan_purpose column\u001b[0m\u001b[0;34m\u001b[0m\u001b[0;34m\u001b[0m\u001b[0m\n\u001b[0;32m----> 2\u001b[0;31m \u001b[0mprint\u001b[0m\u001b[0;34m(\u001b[0m\u001b[0mmerged_df\u001b[0m\u001b[0;34m[\u001b[0m\u001b[0;34m'loan_status'\u001b[0m\u001b[0;34m]\u001b[0m\u001b[0;34m.\u001b[0m\u001b[0munique\u001b[0m\u001b[0;34m(\u001b[0m\u001b[0;34m)\u001b[0m\u001b[0;34m)\u001b[0m\u001b[0;34m\u001b[0m\u001b[0;34m\u001b[0m\u001b[0m\n\u001b[0m\u001b[1;32m      3\u001b[0m \u001b[0;34m\u001b[0m\u001b[0m\n\u001b[1;32m      4\u001b[0m \u001b[0;31m# Check the unique values in loan_purpose column and their counts\u001b[0m\u001b[0;34m\u001b[0m\u001b[0;34m\u001b[0m\u001b[0m\n\u001b[1;32m      5\u001b[0m \u001b[0mloan_purpose_counts\u001b[0m \u001b[0;34m=\u001b[0m \u001b[0mmerged_df\u001b[0m\u001b[0;34m[\u001b[0m\u001b[0;34m'loan_status'\u001b[0m\u001b[0;34m]\u001b[0m\u001b[0;34m.\u001b[0m\u001b[0mvalue_counts\u001b[0m\u001b[0;34m(\u001b[0m\u001b[0;34m)\u001b[0m\u001b[0;34m\u001b[0m\u001b[0;34m\u001b[0m\u001b[0m\n",
            "\u001b[0;32m/usr/local/lib/python3.10/dist-packages/pandas/core/frame.py\u001b[0m in \u001b[0;36m__getitem__\u001b[0;34m(self, key)\u001b[0m\n\u001b[1;32m   3759\u001b[0m             \u001b[0;32mif\u001b[0m \u001b[0mself\u001b[0m\u001b[0;34m.\u001b[0m\u001b[0mcolumns\u001b[0m\u001b[0;34m.\u001b[0m\u001b[0mnlevels\u001b[0m \u001b[0;34m>\u001b[0m \u001b[0;36m1\u001b[0m\u001b[0;34m:\u001b[0m\u001b[0;34m\u001b[0m\u001b[0;34m\u001b[0m\u001b[0m\n\u001b[1;32m   3760\u001b[0m                 \u001b[0;32mreturn\u001b[0m \u001b[0mself\u001b[0m\u001b[0;34m.\u001b[0m\u001b[0m_getitem_multilevel\u001b[0m\u001b[0;34m(\u001b[0m\u001b[0mkey\u001b[0m\u001b[0;34m)\u001b[0m\u001b[0;34m\u001b[0m\u001b[0;34m\u001b[0m\u001b[0m\n\u001b[0;32m-> 3761\u001b[0;31m             \u001b[0mindexer\u001b[0m \u001b[0;34m=\u001b[0m \u001b[0mself\u001b[0m\u001b[0;34m.\u001b[0m\u001b[0mcolumns\u001b[0m\u001b[0;34m.\u001b[0m\u001b[0mget_loc\u001b[0m\u001b[0;34m(\u001b[0m\u001b[0mkey\u001b[0m\u001b[0;34m)\u001b[0m\u001b[0;34m\u001b[0m\u001b[0;34m\u001b[0m\u001b[0m\n\u001b[0m\u001b[1;32m   3762\u001b[0m             \u001b[0;32mif\u001b[0m \u001b[0mis_integer\u001b[0m\u001b[0;34m(\u001b[0m\u001b[0mindexer\u001b[0m\u001b[0;34m)\u001b[0m\u001b[0;34m:\u001b[0m\u001b[0;34m\u001b[0m\u001b[0;34m\u001b[0m\u001b[0m\n\u001b[1;32m   3763\u001b[0m                 \u001b[0mindexer\u001b[0m \u001b[0;34m=\u001b[0m \u001b[0;34m[\u001b[0m\u001b[0mindexer\u001b[0m\u001b[0;34m]\u001b[0m\u001b[0;34m\u001b[0m\u001b[0;34m\u001b[0m\u001b[0m\n",
            "\u001b[0;32m/usr/local/lib/python3.10/dist-packages/pandas/core/indexes/base.py\u001b[0m in \u001b[0;36mget_loc\u001b[0;34m(self, key)\u001b[0m\n\u001b[1;32m   3653\u001b[0m             \u001b[0;32mreturn\u001b[0m \u001b[0mself\u001b[0m\u001b[0;34m.\u001b[0m\u001b[0m_engine\u001b[0m\u001b[0;34m.\u001b[0m\u001b[0mget_loc\u001b[0m\u001b[0;34m(\u001b[0m\u001b[0mcasted_key\u001b[0m\u001b[0;34m)\u001b[0m\u001b[0;34m\u001b[0m\u001b[0;34m\u001b[0m\u001b[0m\n\u001b[1;32m   3654\u001b[0m         \u001b[0;32mexcept\u001b[0m \u001b[0mKeyError\u001b[0m \u001b[0;32mas\u001b[0m \u001b[0merr\u001b[0m\u001b[0;34m:\u001b[0m\u001b[0;34m\u001b[0m\u001b[0;34m\u001b[0m\u001b[0m\n\u001b[0;32m-> 3655\u001b[0;31m             \u001b[0;32mraise\u001b[0m \u001b[0mKeyError\u001b[0m\u001b[0;34m(\u001b[0m\u001b[0mkey\u001b[0m\u001b[0;34m)\u001b[0m \u001b[0;32mfrom\u001b[0m \u001b[0merr\u001b[0m\u001b[0;34m\u001b[0m\u001b[0;34m\u001b[0m\u001b[0m\n\u001b[0m\u001b[1;32m   3656\u001b[0m         \u001b[0;32mexcept\u001b[0m \u001b[0mTypeError\u001b[0m\u001b[0;34m:\u001b[0m\u001b[0;34m\u001b[0m\u001b[0;34m\u001b[0m\u001b[0m\n\u001b[1;32m   3657\u001b[0m             \u001b[0;31m# If we have a listlike key, _check_indexing_error will raise\u001b[0m\u001b[0;34m\u001b[0m\u001b[0;34m\u001b[0m\u001b[0m\n",
            "\u001b[0;31mKeyError\u001b[0m: 'loan_status'"
          ]
        }
      ]
    },
    {
      "cell_type": "code",
      "source": [
        "'''\n",
        "# Check for delayed payments\n",
        "current_date = datetime.now()\n",
        "\n",
        "# Ensure the 'next_payment_due_date' column is of datetime type\n",
        "merged_df['next_payment_due_date'] = pd.to_datetime(merged_df['next_payment_due_date'])\n",
        "\n",
        "# Identify delayed payments by comparing the next payment due date with the current date\n",
        "merged_df['delayed_payment'] = merged_df['next_payment_due_date'] < current_date\n",
        "\n",
        "# Display the first few rows to verify\n",
        "print(merged_df.head())\n",
        "'''"
      ],
      "metadata": {
        "id": "8hA17TFqqb4R"
      },
      "execution_count": null,
      "outputs": []
    },
    {
      "cell_type": "code",
      "source": [
        "import pandas as pd\n",
        "from datetime import datetime, timedelta\n",
        "\n",
        "# Assuming 'merged_df' is your merged DataFrame\n",
        "\n",
        "# Define current date\n",
        "current_date = datetime.now()\n",
        "\n",
        "# Ensure 'next_payment_due_date' is in datetime format\n",
        "merged_df['next_payment_due_date'] = pd.to_datetime(merged_df['next_payment_due_date'])\n",
        "\n",
        "# Define default criteria\n",
        "default_days_past_due = 90\n",
        "default_income_threshold = 0.10  # 10% of income_thousands\n",
        "\n",
        "# Calculate default based on the criteria\n",
        "merged_df['default'] = ((current_date - merged_df['next_payment_due_date']).dt.days > default_days_past_due) & \\\n",
        "                       (merged_df['income_thousands'] < default_income_threshold * 1000)  # Assuming income_thousands is in thousands\n",
        "\n",
        "# Convert the boolean values to 0 and 1\n",
        "merged_df['default'] = merged_df['default'].astype(int)\n",
        "\n"
      ],
      "metadata": {
        "id": "sBO3df5MNMGe"
      },
      "execution_count": null,
      "outputs": []
    },
    {
      "cell_type": "code",
      "source": [
        "merged_df.info()"
      ],
      "metadata": {
        "colab": {
          "base_uri": "https://localhost:8080/"
        },
        "id": "SFD61Ogjlh3k",
        "outputId": "05a065b9-55ea-4118-9a5d-ad744ecdedec"
      },
      "execution_count": null,
      "outputs": [
        {
          "output_type": "stream",
          "name": "stdout",
          "text": [
            "<class 'pandas.core.frame.DataFrame'>\n",
            "RangeIndex: 5367 entries, 0 to 5366\n",
            "Data columns (total 52 columns):\n",
            " #   Column                      Non-Null Count  Dtype         \n",
            "---  ------                      --------------  -----         \n",
            " 0   loan_id                     5367 non-null   int64         \n",
            " 1   loan_amount_x               5367 non-null   int64         \n",
            " 2   first_payment_date_x        5367 non-null   datetime64[ns]\n",
            " 3   principal_interest_payment  5367 non-null   float64       \n",
            " 4   interest_rate_x             5367 non-null   float64       \n",
            " 5   loan_term_x                 5367 non-null   int64         \n",
            " 6   next_payment_due_date       5367 non-null   datetime64[ns]\n",
            " 7   payment_periods_made        5367 non-null   int64         \n",
            " 8                               5367 non-null   float64       \n",
            " 9   amortized_balance           5367 non-null   float64       \n",
            " 10  golden_sachs                5367 non-null   float64       \n",
            " 11  storgan_manley              5367 non-null   float64       \n",
            " 12  smells_largo                5367 non-null   float64       \n",
            " 13  bank_of_americans           5367 non-null   float64       \n",
            " 14  pj_logan                    5367 non-null   float64       \n",
            " 15  state_code                  5367 non-null   object        \n",
            " 16  county                      5367 non-null   object        \n",
            " 17  conforming_loan_limit       5367 non-null   int64         \n",
            " 18  loan_purpose                5367 non-null   int64         \n",
            " 19  loan_amount_y               5367 non-null   int64         \n",
            " 20  closing_date                5367 non-null   datetime64[ns]\n",
            " 21  first_payment_date_y        5367 non-null   datetime64[ns]\n",
            " 22  maturity_date               5367 non-null   datetime64[ns]\n",
            " 23  loan_term_y                 5367 non-null   int64         \n",
            " 24  principal_interest_pmt      5367 non-null   float64       \n",
            " 25  interest_rate_y             5367 non-null   float64       \n",
            " 26  property_value              5367 non-null   int64         \n",
            " 27  total_loan_costs            5367 non-null   float64       \n",
            " 28  origition_charges           5367 non-null   float64       \n",
            " 29  other_loan_costs            5367 non-null   float64       \n",
            " 30  occupancy_type              5367 non-null   int64         \n",
            " 31  total_units                 5367 non-null   int64         \n",
            " 32  income_thousands            5367 non-null   int64         \n",
            " 33  recurring_monthly_debt      5367 non-null   int64         \n",
            " 34  median_fico_score           5367 non-null   int64         \n",
            " 35  credit_score_type           5367 non-null   int64         \n",
            " 36  aus_type                    5367 non-null   int64         \n",
            " 37  umbs_code                   5367 non-null   float64       \n",
            " 38  target_profit               5367 non-null   float64       \n",
            " 39  file_at_custodian           3244 non-null   datetime64[ns]\n",
            " 40  umbs price                  5367 non-null   float64       \n",
            " 41  trade_margin                5367 non-null   float64       \n",
            " 42  Target Profit               5367 non-null   float64       \n",
            " 43  Trade Premium               5367 non-null   float64       \n",
            " 44  points_and_fees             5367 non-null   float64       \n",
            " 45  Total Loan Revenue          5367 non-null   float64       \n",
            " 46  Gross Profit                5367 non-null   float64       \n",
            " 47  Profit Margin               5367 non-null   float64       \n",
            " 48  Winning Bid                 5367 non-null   float64       \n",
            " 49  Winner                      5367 non-null   int64         \n",
            " 50  actual trade premium        5367 non-null   float64       \n",
            " 51  default                     5367 non-null   int64         \n",
            "dtypes: datetime64[ns](6), float64(26), int64(18), object(2)\n",
            "memory usage: 2.1+ MB\n"
          ]
        }
      ]
    },
    {
      "cell_type": "code",
      "source": [
        "\n",
        "# Check the unique values in loan_purpose column\n",
        "print(merged_df['days_past_due'].unique())\n",
        "\n",
        "# Check the unique values in loan_purpose column and their counts\n",
        "loan_purpose_counts = merged_df['days_past_due'].value_counts()\n",
        "\n",
        "print(\"\\nCounts of each unique value:\")\n",
        "print(loan_purpose_counts)\n"
      ],
      "metadata": {
        "id": "ZuQPe5L8llxL",
        "colab": {
          "base_uri": "https://localhost:8080/"
        },
        "outputId": "b60647af-7a62-47ee-91d4-20e1c3a2799c"
      },
      "execution_count": null,
      "outputs": [
        {
          "output_type": "stream",
          "name": "stdout",
          "text": [
            "[1020  989 1050  959 1142  897  928  838]\n",
            "\n",
            "Counts of each unique value:\n",
            "days_past_due\n",
            "1020    4107\n",
            "989     1190\n",
            "1050      48\n",
            "959       17\n",
            "897        2\n",
            "1142       1\n",
            "928        1\n",
            "838        1\n",
            "Name: count, dtype: int64\n"
          ]
        }
      ]
    },
    {
      "cell_type": "code",
      "source": [
        "\n",
        "# Check the unique values in loan_purpose column\n",
        "print(merged_df['default'].unique())\n",
        "\n",
        "# Check the unique values in loan_purpose column and their counts\n",
        "loan_purpose_counts = merged_df['default'].value_counts()\n",
        "\n",
        "print(\"\\nCounts of each unique value:\")\n",
        "print(loan_purpose_counts)\n"
      ],
      "metadata": {
        "colab": {
          "base_uri": "https://localhost:8080/"
        },
        "id": "w3-NRawtOxr8",
        "outputId": "07a05fb8-dbe3-4e54-b38c-a14d849e3882"
      },
      "execution_count": null,
      "outputs": [
        {
          "output_type": "stream",
          "name": "stdout",
          "text": [
            "[0 1]\n",
            "\n",
            "Counts of each unique value:\n",
            "default\n",
            "1    2785\n",
            "0    2582\n",
            "Name: count, dtype: int64\n"
          ]
        }
      ]
    },
    {
      "cell_type": "code",
      "source": [
        "merged_df"
      ],
      "metadata": {
        "colab": {
          "base_uri": "https://localhost:8080/",
          "height": 478
        },
        "id": "alamVU_8Q3tv",
        "outputId": "99bda357-c9d6-4144-8763-7c46c0875af5"
      },
      "execution_count": null,
      "outputs": [
        {
          "output_type": "execute_result",
          "data": {
            "text/plain": [
              "      loan_id  loan_amount_x first_payment_date_x  principal_interest_payment  \\\n",
              "0     5021364         375000           2021-10-01                     1632.03   \n",
              "1     5021367         545000           2021-10-01                     2822.06   \n",
              "2     5021369         325000           2021-10-01                     1368.47   \n",
              "3     5021371         265000           2021-10-01                     1099.47   \n",
              "4     5021372         295000           2021-11-01                     1304.19   \n",
              "...       ...            ...                  ...                         ...   \n",
              "5362  5037634         345000           2021-11-01                     1501.47   \n",
              "5363  5037636         215000           2021-10-01                      905.29   \n",
              "5364  5037638         405000           2021-10-01                     1705.32   \n",
              "5365  5037641         255000           2021-10-01                     1057.98   \n",
              "5366  5037646          95000           2021-10-01                      420.00   \n",
              "\n",
              "      interest_rate_x  loan_term_x next_payment_due_date  \\\n",
              "0             0.03250          360            2021-10-01   \n",
              "1             0.02250          240            2021-10-01   \n",
              "2             0.02990          360            2021-10-01   \n",
              "3             0.02875          360            2021-10-01   \n",
              "4             0.03375          360            2021-11-01   \n",
              "...               ...          ...                   ...   \n",
              "5362          0.03250          360            2021-11-01   \n",
              "5363          0.02990          360            2021-10-01   \n",
              "5364          0.02990          360            2021-10-01   \n",
              "5365          0.02875          360            2021-10-01   \n",
              "5366          0.03375          360            2021-10-01   \n",
              "\n",
              "      payment_periods_made  current_balance  amortized_balance  ...  \\\n",
              "0                        0         375000.0      584667.994587  ...   \n",
              "1                        0         545000.0      675766.449851  ...   \n",
              "2                        0         325000.0      490440.177368  ...   \n",
              "3                        0         265000.0      394102.469005  ...   \n",
              "4                        0         295000.0      467132.979625  ...   \n",
              "...                    ...              ...                ...  ...   \n",
              "5362                     0         345000.0      537895.414810  ...   \n",
              "5363                     0         215000.0      324443.055507  ...   \n",
              "5364                     0         405000.0      611162.424657  ...   \n",
              "5365                     0         255000.0      379230.474827  ...   \n",
              "5366                     0          95000.0      150435.022077  ...   \n",
              "\n",
              "      points_and_fees  Total Loan Revenue  Gross Profit  Profit Margin  \\\n",
              "0                 0.0             18750.0       18750.0           0.05   \n",
              "1             10736.5             27250.0       27250.0           0.05   \n",
              "2              5882.5             16250.0       16250.0           0.05   \n",
              "3              4796.5             13250.0       13250.0           0.05   \n",
              "4                 0.0             14750.0       14750.0           0.05   \n",
              "...               ...                 ...           ...            ...   \n",
              "5362           1345.5             17250.0       17250.0           0.05   \n",
              "5363           3891.5             10750.0       10750.0           0.05   \n",
              "5364           7330.5             20250.0       20250.0           0.05   \n",
              "5365           4615.5             12750.0       12750.0           0.05   \n",
              "5366              0.0              4750.0        4750.0           0.05   \n",
              "\n",
              "      Winning Bid Winner actual trade premium  default  days_past_due  \\\n",
              "0        0.050000      4           18750.0000        1           1020   \n",
              "1        0.030300      4           16513.5000        1           1020   \n",
              "2        0.031900      4           10367.5000        1           1020   \n",
              "3        0.031900      4            8453.5000        1           1020   \n",
              "4        0.050000      4           14750.0000        1            989   \n",
              "...           ...    ...                  ...      ...            ...   \n",
              "5362     0.046100      4           15904.5000        1            989   \n",
              "5363     0.034087      2            7328.8125        1           1020   \n",
              "5364     0.031900      4           12919.5000        1           1020   \n",
              "5365     0.031900      4            8134.5000        1           1020   \n",
              "5366     0.054688      1            5195.3125        1           1020   \n",
              "\n",
              "      delayed_payment  \n",
              "0                True  \n",
              "1                True  \n",
              "2                True  \n",
              "3                True  \n",
              "4                True  \n",
              "...               ...  \n",
              "5362             True  \n",
              "5363             True  \n",
              "5364             True  \n",
              "5365             True  \n",
              "5366             True  \n",
              "\n",
              "[5367 rows x 54 columns]"
            ],
            "text/html": [
              "\n",
              "  <div id=\"df-91a44458-3fc0-4750-b806-3ee10eb25ab8\" class=\"colab-df-container\">\n",
              "    <div>\n",
              "<style scoped>\n",
              "    .dataframe tbody tr th:only-of-type {\n",
              "        vertical-align: middle;\n",
              "    }\n",
              "\n",
              "    .dataframe tbody tr th {\n",
              "        vertical-align: top;\n",
              "    }\n",
              "\n",
              "    .dataframe thead th {\n",
              "        text-align: right;\n",
              "    }\n",
              "</style>\n",
              "<table border=\"1\" class=\"dataframe\">\n",
              "  <thead>\n",
              "    <tr style=\"text-align: right;\">\n",
              "      <th></th>\n",
              "      <th>loan_id</th>\n",
              "      <th>loan_amount_x</th>\n",
              "      <th>first_payment_date_x</th>\n",
              "      <th>principal_interest_payment</th>\n",
              "      <th>interest_rate_x</th>\n",
              "      <th>loan_term_x</th>\n",
              "      <th>next_payment_due_date</th>\n",
              "      <th>payment_periods_made</th>\n",
              "      <th>current_balance</th>\n",
              "      <th>amortized_balance</th>\n",
              "      <th>...</th>\n",
              "      <th>points_and_fees</th>\n",
              "      <th>Total Loan Revenue</th>\n",
              "      <th>Gross Profit</th>\n",
              "      <th>Profit Margin</th>\n",
              "      <th>Winning Bid</th>\n",
              "      <th>Winner</th>\n",
              "      <th>actual trade premium</th>\n",
              "      <th>default</th>\n",
              "      <th>days_past_due</th>\n",
              "      <th>delayed_payment</th>\n",
              "    </tr>\n",
              "  </thead>\n",
              "  <tbody>\n",
              "    <tr>\n",
              "      <th>0</th>\n",
              "      <td>5021364</td>\n",
              "      <td>375000</td>\n",
              "      <td>2021-10-01</td>\n",
              "      <td>1632.03</td>\n",
              "      <td>0.03250</td>\n",
              "      <td>360</td>\n",
              "      <td>2021-10-01</td>\n",
              "      <td>0</td>\n",
              "      <td>375000.0</td>\n",
              "      <td>584667.994587</td>\n",
              "      <td>...</td>\n",
              "      <td>0.0</td>\n",
              "      <td>18750.0</td>\n",
              "      <td>18750.0</td>\n",
              "      <td>0.05</td>\n",
              "      <td>0.050000</td>\n",
              "      <td>4</td>\n",
              "      <td>18750.0000</td>\n",
              "      <td>1</td>\n",
              "      <td>1020</td>\n",
              "      <td>True</td>\n",
              "    </tr>\n",
              "    <tr>\n",
              "      <th>1</th>\n",
              "      <td>5021367</td>\n",
              "      <td>545000</td>\n",
              "      <td>2021-10-01</td>\n",
              "      <td>2822.06</td>\n",
              "      <td>0.02250</td>\n",
              "      <td>240</td>\n",
              "      <td>2021-10-01</td>\n",
              "      <td>0</td>\n",
              "      <td>545000.0</td>\n",
              "      <td>675766.449851</td>\n",
              "      <td>...</td>\n",
              "      <td>10736.5</td>\n",
              "      <td>27250.0</td>\n",
              "      <td>27250.0</td>\n",
              "      <td>0.05</td>\n",
              "      <td>0.030300</td>\n",
              "      <td>4</td>\n",
              "      <td>16513.5000</td>\n",
              "      <td>1</td>\n",
              "      <td>1020</td>\n",
              "      <td>True</td>\n",
              "    </tr>\n",
              "    <tr>\n",
              "      <th>2</th>\n",
              "      <td>5021369</td>\n",
              "      <td>325000</td>\n",
              "      <td>2021-10-01</td>\n",
              "      <td>1368.47</td>\n",
              "      <td>0.02990</td>\n",
              "      <td>360</td>\n",
              "      <td>2021-10-01</td>\n",
              "      <td>0</td>\n",
              "      <td>325000.0</td>\n",
              "      <td>490440.177368</td>\n",
              "      <td>...</td>\n",
              "      <td>5882.5</td>\n",
              "      <td>16250.0</td>\n",
              "      <td>16250.0</td>\n",
              "      <td>0.05</td>\n",
              "      <td>0.031900</td>\n",
              "      <td>4</td>\n",
              "      <td>10367.5000</td>\n",
              "      <td>1</td>\n",
              "      <td>1020</td>\n",
              "      <td>True</td>\n",
              "    </tr>\n",
              "    <tr>\n",
              "      <th>3</th>\n",
              "      <td>5021371</td>\n",
              "      <td>265000</td>\n",
              "      <td>2021-10-01</td>\n",
              "      <td>1099.47</td>\n",
              "      <td>0.02875</td>\n",
              "      <td>360</td>\n",
              "      <td>2021-10-01</td>\n",
              "      <td>0</td>\n",
              "      <td>265000.0</td>\n",
              "      <td>394102.469005</td>\n",
              "      <td>...</td>\n",
              "      <td>4796.5</td>\n",
              "      <td>13250.0</td>\n",
              "      <td>13250.0</td>\n",
              "      <td>0.05</td>\n",
              "      <td>0.031900</td>\n",
              "      <td>4</td>\n",
              "      <td>8453.5000</td>\n",
              "      <td>1</td>\n",
              "      <td>1020</td>\n",
              "      <td>True</td>\n",
              "    </tr>\n",
              "    <tr>\n",
              "      <th>4</th>\n",
              "      <td>5021372</td>\n",
              "      <td>295000</td>\n",
              "      <td>2021-11-01</td>\n",
              "      <td>1304.19</td>\n",
              "      <td>0.03375</td>\n",
              "      <td>360</td>\n",
              "      <td>2021-11-01</td>\n",
              "      <td>0</td>\n",
              "      <td>295000.0</td>\n",
              "      <td>467132.979625</td>\n",
              "      <td>...</td>\n",
              "      <td>0.0</td>\n",
              "      <td>14750.0</td>\n",
              "      <td>14750.0</td>\n",
              "      <td>0.05</td>\n",
              "      <td>0.050000</td>\n",
              "      <td>4</td>\n",
              "      <td>14750.0000</td>\n",
              "      <td>1</td>\n",
              "      <td>989</td>\n",
              "      <td>True</td>\n",
              "    </tr>\n",
              "    <tr>\n",
              "      <th>...</th>\n",
              "      <td>...</td>\n",
              "      <td>...</td>\n",
              "      <td>...</td>\n",
              "      <td>...</td>\n",
              "      <td>...</td>\n",
              "      <td>...</td>\n",
              "      <td>...</td>\n",
              "      <td>...</td>\n",
              "      <td>...</td>\n",
              "      <td>...</td>\n",
              "      <td>...</td>\n",
              "      <td>...</td>\n",
              "      <td>...</td>\n",
              "      <td>...</td>\n",
              "      <td>...</td>\n",
              "      <td>...</td>\n",
              "      <td>...</td>\n",
              "      <td>...</td>\n",
              "      <td>...</td>\n",
              "      <td>...</td>\n",
              "      <td>...</td>\n",
              "    </tr>\n",
              "    <tr>\n",
              "      <th>5362</th>\n",
              "      <td>5037634</td>\n",
              "      <td>345000</td>\n",
              "      <td>2021-11-01</td>\n",
              "      <td>1501.47</td>\n",
              "      <td>0.03250</td>\n",
              "      <td>360</td>\n",
              "      <td>2021-11-01</td>\n",
              "      <td>0</td>\n",
              "      <td>345000.0</td>\n",
              "      <td>537895.414810</td>\n",
              "      <td>...</td>\n",
              "      <td>1345.5</td>\n",
              "      <td>17250.0</td>\n",
              "      <td>17250.0</td>\n",
              "      <td>0.05</td>\n",
              "      <td>0.046100</td>\n",
              "      <td>4</td>\n",
              "      <td>15904.5000</td>\n",
              "      <td>1</td>\n",
              "      <td>989</td>\n",
              "      <td>True</td>\n",
              "    </tr>\n",
              "    <tr>\n",
              "      <th>5363</th>\n",
              "      <td>5037636</td>\n",
              "      <td>215000</td>\n",
              "      <td>2021-10-01</td>\n",
              "      <td>905.29</td>\n",
              "      <td>0.02990</td>\n",
              "      <td>360</td>\n",
              "      <td>2021-10-01</td>\n",
              "      <td>0</td>\n",
              "      <td>215000.0</td>\n",
              "      <td>324443.055507</td>\n",
              "      <td>...</td>\n",
              "      <td>3891.5</td>\n",
              "      <td>10750.0</td>\n",
              "      <td>10750.0</td>\n",
              "      <td>0.05</td>\n",
              "      <td>0.034087</td>\n",
              "      <td>2</td>\n",
              "      <td>7328.8125</td>\n",
              "      <td>1</td>\n",
              "      <td>1020</td>\n",
              "      <td>True</td>\n",
              "    </tr>\n",
              "    <tr>\n",
              "      <th>5364</th>\n",
              "      <td>5037638</td>\n",
              "      <td>405000</td>\n",
              "      <td>2021-10-01</td>\n",
              "      <td>1705.32</td>\n",
              "      <td>0.02990</td>\n",
              "      <td>360</td>\n",
              "      <td>2021-10-01</td>\n",
              "      <td>0</td>\n",
              "      <td>405000.0</td>\n",
              "      <td>611162.424657</td>\n",
              "      <td>...</td>\n",
              "      <td>7330.5</td>\n",
              "      <td>20250.0</td>\n",
              "      <td>20250.0</td>\n",
              "      <td>0.05</td>\n",
              "      <td>0.031900</td>\n",
              "      <td>4</td>\n",
              "      <td>12919.5000</td>\n",
              "      <td>1</td>\n",
              "      <td>1020</td>\n",
              "      <td>True</td>\n",
              "    </tr>\n",
              "    <tr>\n",
              "      <th>5365</th>\n",
              "      <td>5037641</td>\n",
              "      <td>255000</td>\n",
              "      <td>2021-10-01</td>\n",
              "      <td>1057.98</td>\n",
              "      <td>0.02875</td>\n",
              "      <td>360</td>\n",
              "      <td>2021-10-01</td>\n",
              "      <td>0</td>\n",
              "      <td>255000.0</td>\n",
              "      <td>379230.474827</td>\n",
              "      <td>...</td>\n",
              "      <td>4615.5</td>\n",
              "      <td>12750.0</td>\n",
              "      <td>12750.0</td>\n",
              "      <td>0.05</td>\n",
              "      <td>0.031900</td>\n",
              "      <td>4</td>\n",
              "      <td>8134.5000</td>\n",
              "      <td>1</td>\n",
              "      <td>1020</td>\n",
              "      <td>True</td>\n",
              "    </tr>\n",
              "    <tr>\n",
              "      <th>5366</th>\n",
              "      <td>5037646</td>\n",
              "      <td>95000</td>\n",
              "      <td>2021-10-01</td>\n",
              "      <td>420.00</td>\n",
              "      <td>0.03375</td>\n",
              "      <td>360</td>\n",
              "      <td>2021-10-01</td>\n",
              "      <td>0</td>\n",
              "      <td>95000.0</td>\n",
              "      <td>150435.022077</td>\n",
              "      <td>...</td>\n",
              "      <td>0.0</td>\n",
              "      <td>4750.0</td>\n",
              "      <td>4750.0</td>\n",
              "      <td>0.05</td>\n",
              "      <td>0.054688</td>\n",
              "      <td>1</td>\n",
              "      <td>5195.3125</td>\n",
              "      <td>1</td>\n",
              "      <td>1020</td>\n",
              "      <td>True</td>\n",
              "    </tr>\n",
              "  </tbody>\n",
              "</table>\n",
              "<p>5367 rows × 54 columns</p>\n",
              "</div>\n",
              "    <div class=\"colab-df-buttons\">\n",
              "\n",
              "  <div class=\"colab-df-container\">\n",
              "    <button class=\"colab-df-convert\" onclick=\"convertToInteractive('df-91a44458-3fc0-4750-b806-3ee10eb25ab8')\"\n",
              "            title=\"Convert this dataframe to an interactive table.\"\n",
              "            style=\"display:none;\">\n",
              "\n",
              "  <svg xmlns=\"http://www.w3.org/2000/svg\" height=\"24px\" viewBox=\"0 -960 960 960\">\n",
              "    <path d=\"M120-120v-720h720v720H120Zm60-500h600v-160H180v160Zm220 220h160v-160H400v160Zm0 220h160v-160H400v160ZM180-400h160v-160H180v160Zm440 0h160v-160H620v160ZM180-180h160v-160H180v160Zm440 0h160v-160H620v160Z\"/>\n",
              "  </svg>\n",
              "    </button>\n",
              "\n",
              "  <style>\n",
              "    .colab-df-container {\n",
              "      display:flex;\n",
              "      gap: 12px;\n",
              "    }\n",
              "\n",
              "    .colab-df-convert {\n",
              "      background-color: #E8F0FE;\n",
              "      border: none;\n",
              "      border-radius: 50%;\n",
              "      cursor: pointer;\n",
              "      display: none;\n",
              "      fill: #1967D2;\n",
              "      height: 32px;\n",
              "      padding: 0 0 0 0;\n",
              "      width: 32px;\n",
              "    }\n",
              "\n",
              "    .colab-df-convert:hover {\n",
              "      background-color: #E2EBFA;\n",
              "      box-shadow: 0px 1px 2px rgba(60, 64, 67, 0.3), 0px 1px 3px 1px rgba(60, 64, 67, 0.15);\n",
              "      fill: #174EA6;\n",
              "    }\n",
              "\n",
              "    .colab-df-buttons div {\n",
              "      margin-bottom: 4px;\n",
              "    }\n",
              "\n",
              "    [theme=dark] .colab-df-convert {\n",
              "      background-color: #3B4455;\n",
              "      fill: #D2E3FC;\n",
              "    }\n",
              "\n",
              "    [theme=dark] .colab-df-convert:hover {\n",
              "      background-color: #434B5C;\n",
              "      box-shadow: 0px 1px 3px 1px rgba(0, 0, 0, 0.15);\n",
              "      filter: drop-shadow(0px 1px 2px rgba(0, 0, 0, 0.3));\n",
              "      fill: #FFFFFF;\n",
              "    }\n",
              "  </style>\n",
              "\n",
              "    <script>\n",
              "      const buttonEl =\n",
              "        document.querySelector('#df-91a44458-3fc0-4750-b806-3ee10eb25ab8 button.colab-df-convert');\n",
              "      buttonEl.style.display =\n",
              "        google.colab.kernel.accessAllowed ? 'block' : 'none';\n",
              "\n",
              "      async function convertToInteractive(key) {\n",
              "        const element = document.querySelector('#df-91a44458-3fc0-4750-b806-3ee10eb25ab8');\n",
              "        const dataTable =\n",
              "          await google.colab.kernel.invokeFunction('convertToInteractive',\n",
              "                                                    [key], {});\n",
              "        if (!dataTable) return;\n",
              "\n",
              "        const docLinkHtml = 'Like what you see? Visit the ' +\n",
              "          '<a target=\"_blank\" href=https://colab.research.google.com/notebooks/data_table.ipynb>data table notebook</a>'\n",
              "          + ' to learn more about interactive tables.';\n",
              "        element.innerHTML = '';\n",
              "        dataTable['output_type'] = 'display_data';\n",
              "        await google.colab.output.renderOutput(dataTable, element);\n",
              "        const docLink = document.createElement('div');\n",
              "        docLink.innerHTML = docLinkHtml;\n",
              "        element.appendChild(docLink);\n",
              "      }\n",
              "    </script>\n",
              "  </div>\n",
              "\n",
              "\n",
              "<div id=\"df-bae6287c-7da9-4e00-b6a2-717230f2170e\">\n",
              "  <button class=\"colab-df-quickchart\" onclick=\"quickchart('df-bae6287c-7da9-4e00-b6a2-717230f2170e')\"\n",
              "            title=\"Suggest charts\"\n",
              "            style=\"display:none;\">\n",
              "\n",
              "<svg xmlns=\"http://www.w3.org/2000/svg\" height=\"24px\"viewBox=\"0 0 24 24\"\n",
              "     width=\"24px\">\n",
              "    <g>\n",
              "        <path d=\"M19 3H5c-1.1 0-2 .9-2 2v14c0 1.1.9 2 2 2h14c1.1 0 2-.9 2-2V5c0-1.1-.9-2-2-2zM9 17H7v-7h2v7zm4 0h-2V7h2v10zm4 0h-2v-4h2v4z\"/>\n",
              "    </g>\n",
              "</svg>\n",
              "  </button>\n",
              "\n",
              "<style>\n",
              "  .colab-df-quickchart {\n",
              "      --bg-color: #E8F0FE;\n",
              "      --fill-color: #1967D2;\n",
              "      --hover-bg-color: #E2EBFA;\n",
              "      --hover-fill-color: #174EA6;\n",
              "      --disabled-fill-color: #AAA;\n",
              "      --disabled-bg-color: #DDD;\n",
              "  }\n",
              "\n",
              "  [theme=dark] .colab-df-quickchart {\n",
              "      --bg-color: #3B4455;\n",
              "      --fill-color: #D2E3FC;\n",
              "      --hover-bg-color: #434B5C;\n",
              "      --hover-fill-color: #FFFFFF;\n",
              "      --disabled-bg-color: #3B4455;\n",
              "      --disabled-fill-color: #666;\n",
              "  }\n",
              "\n",
              "  .colab-df-quickchart {\n",
              "    background-color: var(--bg-color);\n",
              "    border: none;\n",
              "    border-radius: 50%;\n",
              "    cursor: pointer;\n",
              "    display: none;\n",
              "    fill: var(--fill-color);\n",
              "    height: 32px;\n",
              "    padding: 0;\n",
              "    width: 32px;\n",
              "  }\n",
              "\n",
              "  .colab-df-quickchart:hover {\n",
              "    background-color: var(--hover-bg-color);\n",
              "    box-shadow: 0 1px 2px rgba(60, 64, 67, 0.3), 0 1px 3px 1px rgba(60, 64, 67, 0.15);\n",
              "    fill: var(--button-hover-fill-color);\n",
              "  }\n",
              "\n",
              "  .colab-df-quickchart-complete:disabled,\n",
              "  .colab-df-quickchart-complete:disabled:hover {\n",
              "    background-color: var(--disabled-bg-color);\n",
              "    fill: var(--disabled-fill-color);\n",
              "    box-shadow: none;\n",
              "  }\n",
              "\n",
              "  .colab-df-spinner {\n",
              "    border: 2px solid var(--fill-color);\n",
              "    border-color: transparent;\n",
              "    border-bottom-color: var(--fill-color);\n",
              "    animation:\n",
              "      spin 1s steps(1) infinite;\n",
              "  }\n",
              "\n",
              "  @keyframes spin {\n",
              "    0% {\n",
              "      border-color: transparent;\n",
              "      border-bottom-color: var(--fill-color);\n",
              "      border-left-color: var(--fill-color);\n",
              "    }\n",
              "    20% {\n",
              "      border-color: transparent;\n",
              "      border-left-color: var(--fill-color);\n",
              "      border-top-color: var(--fill-color);\n",
              "    }\n",
              "    30% {\n",
              "      border-color: transparent;\n",
              "      border-left-color: var(--fill-color);\n",
              "      border-top-color: var(--fill-color);\n",
              "      border-right-color: var(--fill-color);\n",
              "    }\n",
              "    40% {\n",
              "      border-color: transparent;\n",
              "      border-right-color: var(--fill-color);\n",
              "      border-top-color: var(--fill-color);\n",
              "    }\n",
              "    60% {\n",
              "      border-color: transparent;\n",
              "      border-right-color: var(--fill-color);\n",
              "    }\n",
              "    80% {\n",
              "      border-color: transparent;\n",
              "      border-right-color: var(--fill-color);\n",
              "      border-bottom-color: var(--fill-color);\n",
              "    }\n",
              "    90% {\n",
              "      border-color: transparent;\n",
              "      border-bottom-color: var(--fill-color);\n",
              "    }\n",
              "  }\n",
              "</style>\n",
              "\n",
              "  <script>\n",
              "    async function quickchart(key) {\n",
              "      const quickchartButtonEl =\n",
              "        document.querySelector('#' + key + ' button');\n",
              "      quickchartButtonEl.disabled = true;  // To prevent multiple clicks.\n",
              "      quickchartButtonEl.classList.add('colab-df-spinner');\n",
              "      try {\n",
              "        const charts = await google.colab.kernel.invokeFunction(\n",
              "            'suggestCharts', [key], {});\n",
              "      } catch (error) {\n",
              "        console.error('Error during call to suggestCharts:', error);\n",
              "      }\n",
              "      quickchartButtonEl.classList.remove('colab-df-spinner');\n",
              "      quickchartButtonEl.classList.add('colab-df-quickchart-complete');\n",
              "    }\n",
              "    (() => {\n",
              "      let quickchartButtonEl =\n",
              "        document.querySelector('#df-bae6287c-7da9-4e00-b6a2-717230f2170e button');\n",
              "      quickchartButtonEl.style.display =\n",
              "        google.colab.kernel.accessAllowed ? 'block' : 'none';\n",
              "    })();\n",
              "  </script>\n",
              "</div>\n",
              "\n",
              "  <div id=\"id_a98825b0-5417-40a2-b02d-11d0211c9c3c\">\n",
              "    <style>\n",
              "      .colab-df-generate {\n",
              "        background-color: #E8F0FE;\n",
              "        border: none;\n",
              "        border-radius: 50%;\n",
              "        cursor: pointer;\n",
              "        display: none;\n",
              "        fill: #1967D2;\n",
              "        height: 32px;\n",
              "        padding: 0 0 0 0;\n",
              "        width: 32px;\n",
              "      }\n",
              "\n",
              "      .colab-df-generate:hover {\n",
              "        background-color: #E2EBFA;\n",
              "        box-shadow: 0px 1px 2px rgba(60, 64, 67, 0.3), 0px 1px 3px 1px rgba(60, 64, 67, 0.15);\n",
              "        fill: #174EA6;\n",
              "      }\n",
              "\n",
              "      [theme=dark] .colab-df-generate {\n",
              "        background-color: #3B4455;\n",
              "        fill: #D2E3FC;\n",
              "      }\n",
              "\n",
              "      [theme=dark] .colab-df-generate:hover {\n",
              "        background-color: #434B5C;\n",
              "        box-shadow: 0px 1px 3px 1px rgba(0, 0, 0, 0.15);\n",
              "        filter: drop-shadow(0px 1px 2px rgba(0, 0, 0, 0.3));\n",
              "        fill: #FFFFFF;\n",
              "      }\n",
              "    </style>\n",
              "    <button class=\"colab-df-generate\" onclick=\"generateWithVariable('merged_df')\"\n",
              "            title=\"Generate code using this dataframe.\"\n",
              "            style=\"display:none;\">\n",
              "\n",
              "  <svg xmlns=\"http://www.w3.org/2000/svg\" height=\"24px\"viewBox=\"0 0 24 24\"\n",
              "       width=\"24px\">\n",
              "    <path d=\"M7,19H8.4L18.45,9,17,7.55,7,17.6ZM5,21V16.75L18.45,3.32a2,2,0,0,1,2.83,0l1.4,1.43a1.91,1.91,0,0,1,.58,1.4,1.91,1.91,0,0,1-.58,1.4L9.25,21ZM18.45,9,17,7.55Zm-12,3A5.31,5.31,0,0,0,4.9,8.1,5.31,5.31,0,0,0,1,6.5,5.31,5.31,0,0,0,4.9,4.9,5.31,5.31,0,0,0,6.5,1,5.31,5.31,0,0,0,8.1,4.9,5.31,5.31,0,0,0,12,6.5,5.46,5.46,0,0,0,6.5,12Z\"/>\n",
              "  </svg>\n",
              "    </button>\n",
              "    <script>\n",
              "      (() => {\n",
              "      const buttonEl =\n",
              "        document.querySelector('#id_a98825b0-5417-40a2-b02d-11d0211c9c3c button.colab-df-generate');\n",
              "      buttonEl.style.display =\n",
              "        google.colab.kernel.accessAllowed ? 'block' : 'none';\n",
              "\n",
              "      buttonEl.onclick = () => {\n",
              "        google.colab.notebook.generateWithVariable('merged_df');\n",
              "      }\n",
              "      })();\n",
              "    </script>\n",
              "  </div>\n",
              "\n",
              "    </div>\n",
              "  </div>\n"
            ],
            "application/vnd.google.colaboratory.intrinsic+json": {
              "type": "dataframe",
              "variable_name": "merged_df"
            }
          },
          "metadata": {},
          "execution_count": 82
        }
      ]
    },
    {
      "cell_type": "code",
      "source": [
        "from google.colab import files\n",
        "\n",
        "# Assuming `merged_df` is the cleaned and merged DataFrame from the previous steps\n",
        "\n",
        "# Define the file path for saving the CSV\n",
        "file_path = 'cleaned_merged_data.csv'\n",
        "\n",
        "# Save the DataFrame to CSV\n",
        "merged_df.to_csv(file_path, index=False)\n",
        "\n",
        "print(f\"Cleaned and merged data saved to '{file_path}'.\")\n",
        "\n",
        "# Download the CSV file to your local machine\n",
        "files.download(file_path)\n"
      ],
      "metadata": {
        "colab": {
          "base_uri": "https://localhost:8080/",
          "height": 34
        },
        "id": "IbchqYnkUTgf",
        "outputId": "50ebb748-05e8-46e2-a23c-224be2a7df26"
      },
      "execution_count": null,
      "outputs": [
        {
          "output_type": "stream",
          "name": "stdout",
          "text": [
            "Cleaned and merged data saved to 'cleaned_merged_data.csv'.\n"
          ]
        },
        {
          "output_type": "display_data",
          "data": {
            "text/plain": [
              "<IPython.core.display.Javascript object>"
            ],
            "application/javascript": [
              "\n",
              "    async function download(id, filename, size) {\n",
              "      if (!google.colab.kernel.accessAllowed) {\n",
              "        return;\n",
              "      }\n",
              "      const div = document.createElement('div');\n",
              "      const label = document.createElement('label');\n",
              "      label.textContent = `Downloading \"${filename}\": `;\n",
              "      div.appendChild(label);\n",
              "      const progress = document.createElement('progress');\n",
              "      progress.max = size;\n",
              "      div.appendChild(progress);\n",
              "      document.body.appendChild(div);\n",
              "\n",
              "      const buffers = [];\n",
              "      let downloaded = 0;\n",
              "\n",
              "      const channel = await google.colab.kernel.comms.open(id);\n",
              "      // Send a message to notify the kernel that we're ready.\n",
              "      channel.send({})\n",
              "\n",
              "      for await (const message of channel.messages) {\n",
              "        // Send a message to notify the kernel that we're ready.\n",
              "        channel.send({})\n",
              "        if (message.buffers) {\n",
              "          for (const buffer of message.buffers) {\n",
              "            buffers.push(buffer);\n",
              "            downloaded += buffer.byteLength;\n",
              "            progress.value = downloaded;\n",
              "          }\n",
              "        }\n",
              "      }\n",
              "      const blob = new Blob(buffers, {type: 'application/binary'});\n",
              "      const a = document.createElement('a');\n",
              "      a.href = window.URL.createObjectURL(blob);\n",
              "      a.download = filename;\n",
              "      div.appendChild(a);\n",
              "      a.click();\n",
              "      div.remove();\n",
              "    }\n",
              "  "
            ]
          },
          "metadata": {}
        },
        {
          "output_type": "display_data",
          "data": {
            "text/plain": [
              "<IPython.core.display.Javascript object>"
            ],
            "application/javascript": [
              "download(\"download_04d413b9-4294-4f87-88c7-a97f6c03ea8a\", \"cleaned_merged_data.csv\", 2680417)"
            ]
          },
          "metadata": {}
        }
      ]
    },
    {
      "cell_type": "code",
      "source": [],
      "metadata": {
        "id": "KOGF9F7_lGrs"
      },
      "execution_count": null,
      "outputs": []
    }
  ]
}