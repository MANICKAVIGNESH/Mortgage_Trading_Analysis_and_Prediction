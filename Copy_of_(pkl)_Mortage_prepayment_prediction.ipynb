{
  "nbformat": 4,
  "nbformat_minor": 0,
  "metadata": {
    "colab": {
      "provenance": [],
      "mount_file_id": "1dlHU4YkgCiRAQ7B31UrM98wxXzcwgJvX",
      "authorship_tag": "ABX9TyMqoVDYA6tvUHULx+bXngj+",
      "include_colab_link": true
    },
    "kernelspec": {
      "name": "python3",
      "display_name": "Python 3"
    },
    "language_info": {
      "name": "python"
    }
  },
  "cells": [
    {
      "cell_type": "markdown",
      "metadata": {
        "id": "view-in-github",
        "colab_type": "text"
      },
      "source": [
        "<a href=\"https://colab.research.google.com/github/MANICKAVIGNESH/Mortgage_Trading_Analysis_and_Prediction/blob/main/Copy_of_(pkl)_Mortage_prepayment_prediction.ipynb\" target=\"_parent\"><img src=\"https://colab.research.google.com/assets/colab-badge.svg\" alt=\"Open In Colab\"/></a>"
      ]
    },
    {
      "cell_type": "code",
      "execution_count": null,
      "metadata": {
        "id": "Fbk0qUtFkC-r"
      },
      "outputs": [],
      "source": [
        "import pickle"
      ]
    },
    {
      "cell_type": "code",
      "source": [
        "import pickle\n",
        "\n",
        "# Define or import CustomPipeline before loading the pickle file\n",
        "class CustomPipeline:\n",
        "    # your class implementation here\n",
        "    pass\n",
        "'''\n",
        "# Now load the pickle file\n",
        "try:\n",
        "    with open('/content/drive/MyDrive/Company Project/Technocolab software Pvt Ltd/Main Project - Mortgage Trading Analysis and Prediction/pkl file/combined_pipeline(New).pkl', 'rb') as file:\n",
        "        elf = pickle.load(file)\n",
        "except Exception as e:\n",
        "    print(f\"An error occurred: {e}\")\n",
        "'''"
      ],
      "metadata": {
        "id": "SHYmqFw0L2Go",
        "outputId": "7a7228f6-db25-4250-b348-6c6d029396fc",
        "colab": {
          "base_uri": "https://localhost:8080/",
          "height": 70
        }
      },
      "execution_count": null,
      "outputs": [
        {
          "output_type": "execute_result",
          "data": {
            "text/plain": [
              "'\\n# Now load the pickle file\\ntry:\\n    with open(\\'/content/drive/MyDrive/Company Project/Technocolab software Pvt Ltd/Main Project - Mortgage Trading Analysis and Prediction/pkl file/combined_pipeline(New).pkl\\', \\'rb\\') as file:\\n        elf = pickle.load(file)\\nexcept Exception as e:\\n    print(f\"An error occurred: {e}\")\\n'"
            ],
            "application/vnd.google.colaboratory.intrinsic+json": {
              "type": "string"
            }
          },
          "metadata": {},
          "execution_count": 1
        }
      ]
    },
    {
      "cell_type": "code",
      "source": [
        "'''\n",
        "from joblib import load\n",
        "\n",
        "try:\n",
        "    elf = load('/content/drive/MyDrive/Company Project/Technocolab software Pvt Ltd/Main Project - Mortgage Trading Analysis and Prediction/pkl file/combined_pipeline(New).pkl')\n",
        "except Exception as e:\n",
        "    print(f\"An error occurred: {e}\")\n",
        "'''\n"
      ],
      "metadata": {
        "id": "FlZU74RdMpm_"
      },
      "execution_count": null,
      "outputs": []
    },
    {
      "cell_type": "code",
      "source": [
        "from joblib import load\n",
        "\n",
        "try:\n",
        "    elf = load('/content/drive/MyDrive/Company Project/Technocolab software Pvt Ltd/Main Project - Mortgage Trading Analysis and Prediction/pkl file/Combine_pipe_line.pkl')\n",
        "    elf2 = load('/content/drive/MyDrive/Company Project/Technocolab software Pvt Ltd/Main Project - Mortgage Trading Analysis and Prediction/pkl file/Prepayment_risk_pipeline.pkl')\n",
        "except Exception as e:\n",
        "    print(f\"An error occurred: {e}\")\n"
      ],
      "metadata": {
        "id": "wz5Cuqzse7-C"
      },
      "execution_count": null,
      "outputs": []
    },
    {
      "cell_type": "markdown",
      "source": [
        "#Clasification Model"
      ],
      "metadata": {
        "id": "CYhoINGTZiH5"
      }
    },
    {
      "cell_type": "code",
      "source": [
        "# Example input\n",
        "input_data = [[2500, 310, 100000]]\n",
        "\n",
        "# Make predictions using the classification model\n",
        "classification_prediction = elf.clf.predict(input_data)\n",
        "\n",
        "print(\"Classification Prediction:\", classification_prediction)\n"
      ],
      "metadata": {
        "colab": {
          "base_uri": "https://localhost:8080/"
        },
        "id": "DxDBZOv9opuJ",
        "outputId": "ca979756-3530-44ff-9767-06d278b4d47b"
      },
      "execution_count": null,
      "outputs": [
        {
          "output_type": "stream",
          "name": "stdout",
          "text": [
            "Classification Prediction: [0]\n"
          ]
        }
      ]
    },
    {
      "cell_type": "code",
      "source": [
        "# Example input\n",
        "input_data2 = [[200, 1000, 300000]]\n",
        "#MonthsInRepayment value between 0 - 250\n",
        "#EMI value between value between 0 -2500 doller #change value we get change in entire result\n",
        "#interest_amount value between 50000 - 300000\n",
        "# Make predictions using the classification model\n",
        "classification_prediction2 = elf2.clf.predict(input_data2)\n",
        "\n",
        "# Convert \"High\" to 1 and \"Low\" to 0\n",
        "print(\"Classification Prediction:\", classification_prediction2)"
      ],
      "metadata": {
        "colab": {
          "base_uri": "https://localhost:8080/"
        },
        "id": "M68S84J71l7Z",
        "outputId": "6a7974b0-2a6a-404f-adfc-74bbb208efdd"
      },
      "execution_count": null,
      "outputs": [
        {
          "output_type": "stream",
          "name": "stdout",
          "text": [
            "Classification Prediction: [1]\n"
          ]
        }
      ]
    },
    {
      "cell_type": "markdown",
      "source": [
        "#Regression Model"
      ],
      "metadata": {
        "id": "Imb9b571ZmI3"
      }
    },
    {
      "cell_type": "code",
      "source": [
        "# Example input\n",
        "input_data = [[2500, 310, 200000]]\n",
        "\n",
        "# Make predictions using the regression model\n",
        "regression_prediction = elf.reg.predict(input_data)\n",
        "\n",
        "print(\"Regression Prediction:\", regression_prediction)\n"
      ],
      "metadata": {
        "colab": {
          "base_uri": "https://localhost:8080/"
        },
        "id": "Hv4Vmiy8orU6",
        "outputId": "dcc10f89-6429-4a93-9991-b672e6a4b976"
      },
      "execution_count": null,
      "outputs": [
        {
          "output_type": "stream",
          "name": "stdout",
          "text": [
            "Regression Prediction: [-1442.54039889]\n"
          ]
        }
      ]
    },
    {
      "cell_type": "code",
      "source": [
        "'''No-delinquent = It indicates that the loan is in good standing, with no late payments or defaults.'''"
      ],
      "metadata": {
        "colab": {
          "base_uri": "https://localhost:8080/",
          "height": 35
        },
        "id": "qVf3wJ6hgZXi",
        "outputId": "71b24222-f611-41c9-a6c9-2656b2de8875"
      },
      "execution_count": null,
      "outputs": [
        {
          "output_type": "execute_result",
          "data": {
            "text/plain": [
              "'No-delinquent = It indicates that the loan is in good standing, with no late payments or defaults.'"
            ],
            "application/vnd.google.colaboratory.intrinsic+json": {
              "type": "string"
            }
          },
          "metadata": {},
          "execution_count": 21
        }
      ]
    },
    {
      "cell_type": "code",
      "source": [
        "import numpy as np\n",
        "\n",
        "monthly_income = int(input(\"Enter the monthly income: \"))\n",
        "OrigLoanTerm = int(input(\"Enter the loan term in months: \"))\n",
        "OrigUPB = int(input(\"Enter the loan amount: \"))\n",
        "\n",
        "# Example input data\n",
        "input_data = np.array([[monthly_income, OrigLoanTerm, OrigUPB]])\n",
        "#input_data = np.array([[3000, 310, 100000]])\n",
        "\n",
        "print(\"Note:- Convert 'Yes- delinquent' = 1 and 'No-delinquent ' = 0\")\n",
        "# Predict with the classification model\n",
        "classification_prediction = elf.clf.predict(input_data)\n",
        "print(\"Classification Prediction:\", classification_prediction)\n",
        "\n",
        "# Predict with the regression model if the classification result is '1'\n",
        "if classification_prediction[0] == 1 or classification_prediction[0] == 0:\n",
        "    regression_prediction = elf.reg.predict(input_data)\n",
        "else:\n",
        "    regression_prediction = \"Is's delinquent\"\n",
        "\n",
        "print(\"Regression Prediction:\", regression_prediction)\n",
        "\n",
        "\n",
        "if classification_prediction[0] == 1 or classification_prediction[0] == 0:\n",
        "    MonthsInRepayment = int(input(\"Enter the MonthsInRepayment value between 0 - 250: \"))\n",
        "    EMI = int(input(\"Enter the EMI value between value between 0 -2500 doller: \"))\n",
        "    interest_amount = float(input(\"Enter the interest_amount value between 50000 - 300000:\"))\n",
        "    input_data2 = np.array([[MonthsInRepayment, EMI, interest_amount]])\n",
        "    classification_prediction2 = elf2.clf.predict(input_data2)\n",
        "    # Convert \"High\" to 1 and \"Low\" to 0\n",
        "    print(\"Note:- 1 = 'High' and 0 = 'Low'\")\n",
        "    print(\"Pre-Payment Risk:\", classification_prediction2)\n",
        "elif classification_prediction[0] == 2:\n",
        "  pass"
      ],
      "metadata": {
        "colab": {
          "base_uri": "https://localhost:8080/"
        },
        "id": "4lmTlt2WpVuN",
        "outputId": "250a5224-181f-4c1d-b95b-cf991b247704"
      },
      "execution_count": null,
      "outputs": [
        {
          "output_type": "stream",
          "name": "stdout",
          "text": [
            "Enter the monthly income: 5000\n",
            "Enter the loan term in months: 310\n",
            "Enter the loan amount: 200000\n",
            "Note:- Convert 'Yes- delinquent' = 1 and 'No-delinquent ' = 0\n",
            "Classification Prediction: [0]\n",
            "Regression Prediction: [26569.51865562]\n",
            "Enter the MonthsInRepayment value between 0 - 250: 250\n",
            "Enter the EMI value between value between 0 -2500 doller: 2500\n",
            "Enter the interest_amount value between 50000 - 300000:300000\n",
            "Note:- 1 = 'High' and 0 = 'Low'\n",
            "Pre-Payment Risk: [0]\n"
          ]
        }
      ]
    },
    {
      "cell_type": "markdown",
      "source": [
        "# ⏩ Both Clasification and Regression Model: :"
      ],
      "metadata": {
        "id": "4OrH9MWOZrTZ"
      }
    },
    {
      "cell_type": "code",
      "source": [
        "import numpy as np\n",
        "\n",
        "# Example input data\n",
        "input_data = np.array([[4500, 360, 200000]])\n",
        "\n",
        "# Predict with the classification model\n",
        "classification_prediction = elf.clf.predict(input_data)\n",
        "print(\"Classification Prediction:\", classification_prediction)\n",
        "\n",
        "# Check the classification result\n",
        "if classification_prediction[0] == 1:\n",
        "    # Follow the original code for classification result 1\n",
        "    regression_prediction = elf.reg.predict(input_data)\n",
        "    print(\"Regression Prediction:\", regression_prediction)\n",
        "elif classification_prediction[0] == 0:\n",
        "    # Follow the alternate code for classification result 0\n",
        "    regression_prediction_alt = elf.reg.predict(input_data)\n",
        "    print(\"Regression Prediction:\", regression_prediction_alt)\n"
      ],
      "metadata": {
        "id": "wy_KUNoYpksQ",
        "colab": {
          "base_uri": "https://localhost:8080/"
        },
        "outputId": "ca2bd971-2ab4-4e97-81ab-f5851b4f274a"
      },
      "execution_count": null,
      "outputs": [
        {
          "output_type": "stream",
          "name": "stdout",
          "text": [
            "Classification Prediction: [0]\n",
            "Regression Prediction: [22772.32888939]\n"
          ]
        }
      ]
    },
    {
      "cell_type": "code",
      "source": [],
      "metadata": {
        "id": "spo2baS4ZS1J"
      },
      "execution_count": null,
      "outputs": []
    }
  ]
}